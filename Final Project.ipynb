{
 "cells": [
  {
   "cell_type": "markdown",
   "metadata": {},
   "source": [
    "# Predicting severity of heart disease through data analysis"
   ]
  },
  {
   "cell_type": "markdown",
   "metadata": {},
   "source": [
    "Group 10: Samantha Lam, Sohayl Allibhai, Amanda Yang, Bolun Xie"
   ]
  },
  {
   "cell_type": "markdown",
   "metadata": {},
   "source": [
    "## Introduction:\n",
    "\n",
    "Though treatment has advanced, the prevalence of heart disease has risen in lower-income communities, contributing to cardiovascular disease being a leading cause of premature death (Bowry et al. 1151). This trend is reflected in Canada with cardiovascular disease disproportionately increasing in lower-income areas despite the overall decline of heart disease in the general population (Dai et al. 2). There is therefore demand for more efficient methods of diagnosing heart disease and we aim to ascertain the severity of heart disease for unique individuals by analyzing a list of attributes taken from a dataset from the Cleveland Clinic Foundation (Detrano et al. 305). As such, we want to see if we are able to use the variables age, sex, resting blood pressure, chest pain type, and the number of major blood vessels colored by fluoroscopy to classify the severity of a unique individuals heart disease with a (#) accuracy using a K-nearest neighbour classification model. **(why did we choose the classification model and why did we choose these variables)** David W. Aha refined the raw dataset to create the processed dataset that we will utilize. (UCI Machine Learning Repository: Heart Disease Data Set). "
   ]
  },
  {
   "cell_type": "markdown",
   "metadata": {},
   "source": [
    "## Methods:\n",
    "We aim to find the relationship between the chosen five variables and the severity of heart disease to discover which variable has the most influence on heart disease. \n",
    "\n",
    "* We picked five variables in total, **age, sex, resting blood pressure *(trestbps)*, chest pain type *(cp)*, and the number of major blood vessels colored by fluoroscopy *(ca)***. We selected **diagnosis of heart disease and severity *(nu)*** as our target variable, which we will compare to each of our five variables.\n",
    "\n",
    "* We split the data set using chest pain type to straify, and will use the training set to train a classification model that will be used to predict severity of heart disease for a unique individual \n",
    "\n",
    "* We plan to utilize a bar plot to show the distribution of sex, as this is a categorical variable that we want to use to make comparisons. Scatter plots will be used to display the relationships between the remainder of our variables due to their quantitative nature.\n"
   ]
  },
  {
   "cell_type": "markdown",
   "metadata": {},
   "source": [
    "## Process "
   ]
  },
  {
   "cell_type": "markdown",
   "metadata": {},
   "source": [
    "Start by running the cell below to load the libraries needed for data analysis "
   ]
  },
  {
   "cell_type": "code",
   "execution_count": 2,
   "metadata": {},
   "outputs": [
    {
     "name": "stderr",
     "output_type": "stream",
     "text": [
      "── \u001b[1mAttaching packages\u001b[22m ─────────────────────────────────────── tidyverse 1.3.0 ──\n",
      "\n",
      "\u001b[32m✔\u001b[39m \u001b[34mggplot2\u001b[39m 3.3.2     \u001b[32m✔\u001b[39m \u001b[34mpurrr  \u001b[39m 0.3.4\n",
      "\u001b[32m✔\u001b[39m \u001b[34mtibble \u001b[39m 3.0.3     \u001b[32m✔\u001b[39m \u001b[34mdplyr  \u001b[39m 1.0.2\n",
      "\u001b[32m✔\u001b[39m \u001b[34mtidyr  \u001b[39m 1.1.2     \u001b[32m✔\u001b[39m \u001b[34mstringr\u001b[39m 1.4.0\n",
      "\u001b[32m✔\u001b[39m \u001b[34mreadr  \u001b[39m 1.3.1     \u001b[32m✔\u001b[39m \u001b[34mforcats\u001b[39m 0.5.0\n",
      "\n",
      "Warning message:\n",
      "“package ‘ggplot2’ was built under R version 4.0.1”\n",
      "Warning message:\n",
      "“package ‘tibble’ was built under R version 4.0.2”\n",
      "Warning message:\n",
      "“package ‘tidyr’ was built under R version 4.0.2”\n",
      "Warning message:\n",
      "“package ‘dplyr’ was built under R version 4.0.2”\n",
      "── \u001b[1mConflicts\u001b[22m ────────────────────────────────────────── tidyverse_conflicts() ──\n",
      "\u001b[31m✖\u001b[39m \u001b[34mdplyr\u001b[39m::\u001b[32mfilter()\u001b[39m masks \u001b[34mstats\u001b[39m::filter()\n",
      "\u001b[31m✖\u001b[39m \u001b[34mdplyr\u001b[39m::\u001b[32mlag()\u001b[39m    masks \u001b[34mstats\u001b[39m::lag()\n",
      "\n",
      "Warning message:\n",
      "“package ‘tidymodels’ was built under R version 4.0.2”\n",
      "── \u001b[1mAttaching packages\u001b[22m ────────────────────────────────────── tidymodels 0.1.1 ──\n",
      "\n",
      "\u001b[32m✔\u001b[39m \u001b[34mbroom    \u001b[39m 0.7.0      \u001b[32m✔\u001b[39m \u001b[34mrecipes  \u001b[39m 0.1.13\n",
      "\u001b[32m✔\u001b[39m \u001b[34mdials    \u001b[39m 0.0.9      \u001b[32m✔\u001b[39m \u001b[34mrsample  \u001b[39m 0.0.7 \n",
      "\u001b[32m✔\u001b[39m \u001b[34minfer    \u001b[39m 0.5.4      \u001b[32m✔\u001b[39m \u001b[34mtune     \u001b[39m 0.1.1 \n",
      "\u001b[32m✔\u001b[39m \u001b[34mmodeldata\u001b[39m 0.0.2      \u001b[32m✔\u001b[39m \u001b[34mworkflows\u001b[39m 0.2.0 \n",
      "\u001b[32m✔\u001b[39m \u001b[34mparsnip  \u001b[39m 0.1.3      \u001b[32m✔\u001b[39m \u001b[34myardstick\u001b[39m 0.0.7 \n",
      "\n",
      "Warning message:\n",
      "“package ‘broom’ was built under R version 4.0.2”\n",
      "Warning message:\n",
      "“package ‘dials’ was built under R version 4.0.2”\n",
      "Warning message:\n",
      "“package ‘infer’ was built under R version 4.0.3”\n",
      "Warning message:\n",
      "“package ‘modeldata’ was built under R version 4.0.1”\n",
      "Warning message:\n",
      "“package ‘parsnip’ was built under R version 4.0.2”\n",
      "Warning message:\n",
      "“package ‘recipes’ was built under R version 4.0.1”\n",
      "Warning message:\n",
      "“package ‘tune’ was built under R version 4.0.2”\n",
      "Warning message:\n",
      "“package ‘workflows’ was built under R version 4.0.2”\n",
      "Warning message:\n",
      "“package ‘yardstick’ was built under R version 4.0.2”\n",
      "── \u001b[1mConflicts\u001b[22m ───────────────────────────────────────── tidymodels_conflicts() ──\n",
      "\u001b[31m✖\u001b[39m \u001b[34mscales\u001b[39m::\u001b[32mdiscard()\u001b[39m masks \u001b[34mpurrr\u001b[39m::discard()\n",
      "\u001b[31m✖\u001b[39m \u001b[34mdplyr\u001b[39m::\u001b[32mfilter()\u001b[39m   masks \u001b[34mstats\u001b[39m::filter()\n",
      "\u001b[31m✖\u001b[39m \u001b[34mrecipes\u001b[39m::\u001b[32mfixed()\u001b[39m  masks \u001b[34mstringr\u001b[39m::fixed()\n",
      "\u001b[31m✖\u001b[39m \u001b[34mdplyr\u001b[39m::\u001b[32mlag()\u001b[39m      masks \u001b[34mstats\u001b[39m::lag()\n",
      "\u001b[31m✖\u001b[39m \u001b[34myardstick\u001b[39m::\u001b[32mspec()\u001b[39m masks \u001b[34mreadr\u001b[39m::spec()\n",
      "\u001b[31m✖\u001b[39m \u001b[34mrecipes\u001b[39m::\u001b[32mstep()\u001b[39m   masks \u001b[34mstats\u001b[39m::step()\n",
      "\n"
     ]
    }
   ],
   "source": [
    "library(tidyverse)\n",
    "library(repr)\n",
    "library(tidymodels)\n",
    "options(repr.matrix.max.rows = 6)"
   ]
  },
  {
   "cell_type": "markdown",
   "metadata": {},
   "source": [
    "### Preliminary Exploration"
   ]
  },
  {
   "cell_type": "markdown",
   "metadata": {},
   "source": [
    "Download the dataset and read it into a dataframe."
   ]
  },
  {
   "cell_type": "code",
   "execution_count": 3,
   "metadata": {},
   "outputs": [
    {
     "name": "stderr",
     "output_type": "stream",
     "text": [
      "Parsed with column specification:\n",
      "cols(\n",
      "  X1 = \u001b[32mcol_double()\u001b[39m,\n",
      "  X2 = \u001b[32mcol_double()\u001b[39m,\n",
      "  X3 = \u001b[32mcol_double()\u001b[39m,\n",
      "  X4 = \u001b[32mcol_double()\u001b[39m,\n",
      "  X5 = \u001b[32mcol_double()\u001b[39m,\n",
      "  X6 = \u001b[32mcol_double()\u001b[39m,\n",
      "  X7 = \u001b[32mcol_double()\u001b[39m,\n",
      "  X8 = \u001b[32mcol_double()\u001b[39m,\n",
      "  X9 = \u001b[32mcol_double()\u001b[39m,\n",
      "  X10 = \u001b[32mcol_double()\u001b[39m,\n",
      "  X11 = \u001b[32mcol_double()\u001b[39m,\n",
      "  X12 = \u001b[31mcol_character()\u001b[39m,\n",
      "  X13 = \u001b[31mcol_character()\u001b[39m,\n",
      "  X14 = \u001b[32mcol_double()\u001b[39m\n",
      ")\n",
      "\n"
     ]
    }
   ],
   "source": [
    "my_url <- \"https://archive.ics.uci.edu/ml/machine-learning-databases/heart-disease/processed.cleveland.data\"\n",
    "download.file(my_url, \"cleveland.csv\")\n",
    "cleveland_sel <- read_csv(\"cleveland.csv\", col_names = FALSE)\n",
    "cleveland_sel <- rename(cleveland_sel, \"age\" = X1,\n",
    "                     \"sex\" = X2,\n",
    "                     \"cp\" = X3,\n",
    "                     \"trestbps\" = X4,\n",
    "                     \"chol\" = X5,\n",
    "                     \"fbs\" = X6,\n",
    "                     \"restecg\" = X7,\n",
    "                     \"thalach\" = X8,\n",
    "                     \"exnag\" = X9,\n",
    "                     \"oldpeak\" = X10,\n",
    "                     \"slope\" = X11,\n",
    "                     \"ca\" = X12,\n",
    "                     \"thal\" = X13,\n",
    "                     \"num\" = X14)"
   ]
  },
  {
   "cell_type": "markdown",
   "metadata": {},
   "source": [
    "Here we select for our chosen predictor variables, **age**, **sex**, **cp** (chest pain type), **trestbps** (resting blood pressure), **ca** (number of major blood vessels colored by fluoroscopy) and target variable **nu** (diagnosis of heart disease and severity) that we want to use to build our model\n"
   ]
  },
  {
   "cell_type": "code",
   "execution_count": 4,
   "metadata": {},
   "outputs": [
    {
     "data": {
      "text/html": [
       "<table>\n",
       "<caption>A tibble: 303 × 7</caption>\n",
       "<thead>\n",
       "\t<tr><th scope=col>age</th><th scope=col>sex</th><th scope=col>cp</th><th scope=col>trestbps</th><th scope=col>chol</th><th scope=col>ca</th><th scope=col>num</th></tr>\n",
       "\t<tr><th scope=col>&lt;dbl&gt;</th><th scope=col>&lt;dbl&gt;</th><th scope=col>&lt;dbl&gt;</th><th scope=col>&lt;dbl&gt;</th><th scope=col>&lt;dbl&gt;</th><th scope=col>&lt;chr&gt;</th><th scope=col>&lt;dbl&gt;</th></tr>\n",
       "</thead>\n",
       "<tbody>\n",
       "\t<tr><td>63</td><td>1</td><td>1</td><td>145</td><td>233</td><td>0.0</td><td>0</td></tr>\n",
       "\t<tr><td>67</td><td>1</td><td>4</td><td>160</td><td>286</td><td>3.0</td><td>2</td></tr>\n",
       "\t<tr><td>67</td><td>1</td><td>4</td><td>120</td><td>229</td><td>2.0</td><td>1</td></tr>\n",
       "\t<tr><td>⋮</td><td>⋮</td><td>⋮</td><td>⋮</td><td>⋮</td><td>⋮</td><td>⋮</td></tr>\n",
       "\t<tr><td>57</td><td>1</td><td>4</td><td>130</td><td>131</td><td>1.0</td><td>3</td></tr>\n",
       "\t<tr><td>57</td><td>0</td><td>2</td><td>130</td><td>236</td><td>1.0</td><td>1</td></tr>\n",
       "\t<tr><td>38</td><td>1</td><td>3</td><td>138</td><td>175</td><td>?  </td><td>0</td></tr>\n",
       "</tbody>\n",
       "</table>\n"
      ],
      "text/latex": [
       "A tibble: 303 × 7\n",
       "\\begin{tabular}{lllllll}\n",
       " age & sex & cp & trestbps & chol & ca & num\\\\\n",
       " <dbl> & <dbl> & <dbl> & <dbl> & <dbl> & <chr> & <dbl>\\\\\n",
       "\\hline\n",
       "\t 63 & 1 & 1 & 145 & 233 & 0.0 & 0\\\\\n",
       "\t 67 & 1 & 4 & 160 & 286 & 3.0 & 2\\\\\n",
       "\t 67 & 1 & 4 & 120 & 229 & 2.0 & 1\\\\\n",
       "\t ⋮ & ⋮ & ⋮ & ⋮ & ⋮ & ⋮ & ⋮\\\\\n",
       "\t 57 & 1 & 4 & 130 & 131 & 1.0 & 3\\\\\n",
       "\t 57 & 0 & 2 & 130 & 236 & 1.0 & 1\\\\\n",
       "\t 38 & 1 & 3 & 138 & 175 & ?   & 0\\\\\n",
       "\\end{tabular}\n"
      ],
      "text/markdown": [
       "\n",
       "A tibble: 303 × 7\n",
       "\n",
       "| age &lt;dbl&gt; | sex &lt;dbl&gt; | cp &lt;dbl&gt; | trestbps &lt;dbl&gt; | chol &lt;dbl&gt; | ca &lt;chr&gt; | num &lt;dbl&gt; |\n",
       "|---|---|---|---|---|---|---|\n",
       "| 63 | 1 | 1 | 145 | 233 | 0.0 | 0 |\n",
       "| 67 | 1 | 4 | 160 | 286 | 3.0 | 2 |\n",
       "| 67 | 1 | 4 | 120 | 229 | 2.0 | 1 |\n",
       "| ⋮ | ⋮ | ⋮ | ⋮ | ⋮ | ⋮ | ⋮ |\n",
       "| 57 | 1 | 4 | 130 | 131 | 1.0 | 3 |\n",
       "| 57 | 0 | 2 | 130 | 236 | 1.0 | 1 |\n",
       "| 38 | 1 | 3 | 138 | 175 | ?   | 0 |\n",
       "\n"
      ],
      "text/plain": [
       "    age sex cp trestbps chol ca  num\n",
       "1   63  1   1  145      233  0.0 0  \n",
       "2   67  1   4  160      286  3.0 2  \n",
       "3   67  1   4  120      229  2.0 1  \n",
       "⋮   ⋮   ⋮   ⋮  ⋮        ⋮    ⋮   ⋮  \n",
       "301 57  1   4  130      131  1.0 3  \n",
       "302 57  0   2  130      236  1.0 1  \n",
       "303 38  1   3  138      175  ?   0  "
      ]
     },
     "metadata": {},
     "output_type": "display_data"
    }
   ],
   "source": [
    "cleveland_df_sel<-select(cleveland_sel,age, sex, cp, trestbps, chol, ca, num)\n",
    "cleveland_df_sel"
   ]
  },
  {
   "cell_type": "markdown",
   "metadata": {},
   "source": [
    "Convert the **num** numerical variable into a factor, as this is what we wish to predict using our model. "
   ]
  },
  {
   "cell_type": "code",
   "execution_count": 5,
   "metadata": {},
   "outputs": [
    {
     "data": {
      "text/html": [
       "<table>\n",
       "<caption>A tibble: 303 × 7</caption>\n",
       "<thead>\n",
       "\t<tr><th scope=col>age</th><th scope=col>sex</th><th scope=col>cp</th><th scope=col>trestbps</th><th scope=col>chol</th><th scope=col>ca</th><th scope=col>num</th></tr>\n",
       "\t<tr><th scope=col>&lt;dbl&gt;</th><th scope=col>&lt;dbl&gt;</th><th scope=col>&lt;dbl&gt;</th><th scope=col>&lt;dbl&gt;</th><th scope=col>&lt;dbl&gt;</th><th scope=col>&lt;chr&gt;</th><th scope=col>&lt;fct&gt;</th></tr>\n",
       "</thead>\n",
       "<tbody>\n",
       "\t<tr><td>63</td><td>1</td><td>1</td><td>145</td><td>233</td><td>0.0</td><td>0</td></tr>\n",
       "\t<tr><td>67</td><td>1</td><td>4</td><td>160</td><td>286</td><td>3.0</td><td>2</td></tr>\n",
       "\t<tr><td>67</td><td>1</td><td>4</td><td>120</td><td>229</td><td>2.0</td><td>1</td></tr>\n",
       "\t<tr><td>⋮</td><td>⋮</td><td>⋮</td><td>⋮</td><td>⋮</td><td>⋮</td><td>⋮</td></tr>\n",
       "\t<tr><td>57</td><td>1</td><td>4</td><td>130</td><td>131</td><td>1.0</td><td>3</td></tr>\n",
       "\t<tr><td>57</td><td>0</td><td>2</td><td>130</td><td>236</td><td>1.0</td><td>1</td></tr>\n",
       "\t<tr><td>38</td><td>1</td><td>3</td><td>138</td><td>175</td><td>?  </td><td>0</td></tr>\n",
       "</tbody>\n",
       "</table>\n"
      ],
      "text/latex": [
       "A tibble: 303 × 7\n",
       "\\begin{tabular}{lllllll}\n",
       " age & sex & cp & trestbps & chol & ca & num\\\\\n",
       " <dbl> & <dbl> & <dbl> & <dbl> & <dbl> & <chr> & <fct>\\\\\n",
       "\\hline\n",
       "\t 63 & 1 & 1 & 145 & 233 & 0.0 & 0\\\\\n",
       "\t 67 & 1 & 4 & 160 & 286 & 3.0 & 2\\\\\n",
       "\t 67 & 1 & 4 & 120 & 229 & 2.0 & 1\\\\\n",
       "\t ⋮ & ⋮ & ⋮ & ⋮ & ⋮ & ⋮ & ⋮\\\\\n",
       "\t 57 & 1 & 4 & 130 & 131 & 1.0 & 3\\\\\n",
       "\t 57 & 0 & 2 & 130 & 236 & 1.0 & 1\\\\\n",
       "\t 38 & 1 & 3 & 138 & 175 & ?   & 0\\\\\n",
       "\\end{tabular}\n"
      ],
      "text/markdown": [
       "\n",
       "A tibble: 303 × 7\n",
       "\n",
       "| age &lt;dbl&gt; | sex &lt;dbl&gt; | cp &lt;dbl&gt; | trestbps &lt;dbl&gt; | chol &lt;dbl&gt; | ca &lt;chr&gt; | num &lt;fct&gt; |\n",
       "|---|---|---|---|---|---|---|\n",
       "| 63 | 1 | 1 | 145 | 233 | 0.0 | 0 |\n",
       "| 67 | 1 | 4 | 160 | 286 | 3.0 | 2 |\n",
       "| 67 | 1 | 4 | 120 | 229 | 2.0 | 1 |\n",
       "| ⋮ | ⋮ | ⋮ | ⋮ | ⋮ | ⋮ | ⋮ |\n",
       "| 57 | 1 | 4 | 130 | 131 | 1.0 | 3 |\n",
       "| 57 | 0 | 2 | 130 | 236 | 1.0 | 1 |\n",
       "| 38 | 1 | 3 | 138 | 175 | ?   | 0 |\n",
       "\n"
      ],
      "text/plain": [
       "    age sex cp trestbps chol ca  num\n",
       "1   63  1   1  145      233  0.0 0  \n",
       "2   67  1   4  160      286  3.0 2  \n",
       "3   67  1   4  120      229  2.0 1  \n",
       "⋮   ⋮   ⋮   ⋮  ⋮        ⋮    ⋮   ⋮  \n",
       "301 57  1   4  130      131  1.0 3  \n",
       "302 57  0   2  130      236  1.0 1  \n",
       "303 38  1   3  138      175  ?   0  "
      ]
     },
     "metadata": {},
     "output_type": "display_data"
    }
   ],
   "source": [
    "cleveland_df_sel <- cleveland_df_sel %>% mutate(num=as_factor(num))\n",
    "cleveland_df_sel"
   ]
  },
  {
   "cell_type": "markdown",
   "metadata": {},
   "source": [
    "Filter out rows with missing data **(do we need to add a reason?)** "
   ]
  },
  {
   "cell_type": "code",
   "execution_count": 6,
   "metadata": {},
   "outputs": [
    {
     "data": {
      "text/html": [
       "<table>\n",
       "<caption>A tibble: 299 × 7</caption>\n",
       "<thead>\n",
       "\t<tr><th scope=col>age</th><th scope=col>sex</th><th scope=col>cp</th><th scope=col>trestbps</th><th scope=col>chol</th><th scope=col>ca</th><th scope=col>num</th></tr>\n",
       "\t<tr><th scope=col>&lt;dbl&gt;</th><th scope=col>&lt;dbl&gt;</th><th scope=col>&lt;dbl&gt;</th><th scope=col>&lt;dbl&gt;</th><th scope=col>&lt;dbl&gt;</th><th scope=col>&lt;chr&gt;</th><th scope=col>&lt;fct&gt;</th></tr>\n",
       "</thead>\n",
       "<tbody>\n",
       "\t<tr><td>63</td><td>1</td><td>1</td><td>145</td><td>233</td><td>0.0</td><td>0</td></tr>\n",
       "\t<tr><td>67</td><td>1</td><td>4</td><td>160</td><td>286</td><td>3.0</td><td>2</td></tr>\n",
       "\t<tr><td>67</td><td>1</td><td>4</td><td>120</td><td>229</td><td>2.0</td><td>1</td></tr>\n",
       "\t<tr><td>⋮</td><td>⋮</td><td>⋮</td><td>⋮</td><td>⋮</td><td>⋮</td><td>⋮</td></tr>\n",
       "\t<tr><td>68</td><td>1</td><td>4</td><td>144</td><td>193</td><td>2.0</td><td>2</td></tr>\n",
       "\t<tr><td>57</td><td>1</td><td>4</td><td>130</td><td>131</td><td>1.0</td><td>3</td></tr>\n",
       "\t<tr><td>57</td><td>0</td><td>2</td><td>130</td><td>236</td><td>1.0</td><td>1</td></tr>\n",
       "</tbody>\n",
       "</table>\n"
      ],
      "text/latex": [
       "A tibble: 299 × 7\n",
       "\\begin{tabular}{lllllll}\n",
       " age & sex & cp & trestbps & chol & ca & num\\\\\n",
       " <dbl> & <dbl> & <dbl> & <dbl> & <dbl> & <chr> & <fct>\\\\\n",
       "\\hline\n",
       "\t 63 & 1 & 1 & 145 & 233 & 0.0 & 0\\\\\n",
       "\t 67 & 1 & 4 & 160 & 286 & 3.0 & 2\\\\\n",
       "\t 67 & 1 & 4 & 120 & 229 & 2.0 & 1\\\\\n",
       "\t ⋮ & ⋮ & ⋮ & ⋮ & ⋮ & ⋮ & ⋮\\\\\n",
       "\t 68 & 1 & 4 & 144 & 193 & 2.0 & 2\\\\\n",
       "\t 57 & 1 & 4 & 130 & 131 & 1.0 & 3\\\\\n",
       "\t 57 & 0 & 2 & 130 & 236 & 1.0 & 1\\\\\n",
       "\\end{tabular}\n"
      ],
      "text/markdown": [
       "\n",
       "A tibble: 299 × 7\n",
       "\n",
       "| age &lt;dbl&gt; | sex &lt;dbl&gt; | cp &lt;dbl&gt; | trestbps &lt;dbl&gt; | chol &lt;dbl&gt; | ca &lt;chr&gt; | num &lt;fct&gt; |\n",
       "|---|---|---|---|---|---|---|\n",
       "| 63 | 1 | 1 | 145 | 233 | 0.0 | 0 |\n",
       "| 67 | 1 | 4 | 160 | 286 | 3.0 | 2 |\n",
       "| 67 | 1 | 4 | 120 | 229 | 2.0 | 1 |\n",
       "| ⋮ | ⋮ | ⋮ | ⋮ | ⋮ | ⋮ | ⋮ |\n",
       "| 68 | 1 | 4 | 144 | 193 | 2.0 | 2 |\n",
       "| 57 | 1 | 4 | 130 | 131 | 1.0 | 3 |\n",
       "| 57 | 0 | 2 | 130 | 236 | 1.0 | 1 |\n",
       "\n"
      ],
      "text/plain": [
       "    age sex cp trestbps chol ca  num\n",
       "1   63  1   1  145      233  0.0 0  \n",
       "2   67  1   4  160      286  3.0 2  \n",
       "3   67  1   4  120      229  2.0 1  \n",
       "⋮   ⋮   ⋮   ⋮  ⋮        ⋮    ⋮   ⋮  \n",
       "297 68  1   4  144      193  2.0 2  \n",
       "298 57  1   4  130      131  1.0 3  \n",
       "299 57  0   2  130      236  1.0 1  "
      ]
     },
     "metadata": {},
     "output_type": "display_data"
    }
   ],
   "source": [
    "cleveland_df_sel_f <- filter(cleveland_df_sel, ca != \"?\") \n",
    "c_processed <- cleveland_df_sel_f\n",
    "c_processed"
   ]
  },
  {
   "cell_type": "markdown",
   "metadata": {},
   "source": [
    "We then explore the data by creating a visual representation of the characters relationships to one another though scatterplots."
   ]
  },
  {
   "cell_type": "code",
   "execution_count": 7,
   "metadata": {},
   "outputs": [
    {
     "data": {
      "image/png": "[encoded data removed]",
      "text/plain": [
       "plot without title"
      ]
     },
     "metadata": {
      "image/png": {
       "height": 420,
       "width": 420
      }
     },
     "output_type": "display_data"
    },
    {
     "data": {
      "image/png": "[encoded data removed]",
      "text/plain": [
       "plot without title"
      ]
     },
     "metadata": {
      "image/png": {
       "height": 420,
       "width": 420
      }
     },
     "output_type": "display_data"
    }
   ],
   "source": [
    "age_trestbps <- c_processed %>% \n",
    "    ggplot(aes(x=age,y=trestbps, color = num)) +\n",
    "    geom_point() + \n",
    "    labs(x=\"Age(Years)\", y=\"Resting Blood Pressure (mmHg)\", color = \"Diagnosis\") \n",
    "\n",
    "age_trestbps\n",
    "\n",
    "\n",
    "sex_cp <- c_processed %>% \n",
    "    ggplot(aes(x=sex,y=cp, color = num)) +\n",
    "    geom_point() + \n",
    "    labs(x=\"Sex(1=male, 0=female)\", y=\"Chest Pain Type\", color = \"Diagnosis\") \n",
    "\n",
    "sex_cp\n"
   ]
  },
  {
   "cell_type": "markdown",
   "metadata": {},
   "source": [
    "Run this cell to standardise the data"
   ]
  },
  {
   "cell_type": "code",
   "execution_count": 10,
   "metadata": {},
   "outputs": [
    {
     "data": {
      "text/html": [
       "<table>\n",
       "<caption>A tibble: 299 × 7</caption>\n",
       "<thead>\n",
       "\t<tr><th scope=col>scaled_age</th><th scope=col>sex</th><th scope=col>cp</th><th scope=col>scaled_trestbps</th><th scope=col>scaled_chol</th><th scope=col>ca</th><th scope=col>num</th></tr>\n",
       "\t<tr><th scope=col>&lt;dbl[,1]&gt;</th><th scope=col>&lt;dbl&gt;</th><th scope=col>&lt;dbl&gt;</th><th scope=col>&lt;dbl[,1]&gt;</th><th scope=col>&lt;dbl[,1]&gt;</th><th scope=col>&lt;chr&gt;</th><th scope=col>&lt;fct&gt;</th></tr>\n",
       "</thead>\n",
       "<tbody>\n",
       "\t<tr><td>0.9390997</td><td>1</td><td>1</td><td> 0.7529286</td><td>-0.2716054</td><td>0.0</td><td>0</td></tr>\n",
       "\t<tr><td>1.3825120</td><td>1</td><td>4</td><td> 1.6001149</td><td> 0.7492985</td><td>3.0</td><td>2</td></tr>\n",
       "\t<tr><td>1.3825120</td><td>1</td><td>4</td><td>-0.6590486</td><td>-0.3486548</td><td>2.0</td><td>1</td></tr>\n",
       "\t<tr><td>⋮</td><td>⋮</td><td>⋮</td><td>⋮</td><td>⋮</td><td>⋮</td><td>⋮</td></tr>\n",
       "\t<tr><td>1.4933650</td><td>1</td><td>4</td><td> 0.69644951</td><td>-1.0420989</td><td>2.0</td><td>2</td></tr>\n",
       "\t<tr><td>0.2739813</td><td>1</td><td>4</td><td>-0.09425774</td><td>-2.2363638</td><td>1.0</td><td>3</td></tr>\n",
       "\t<tr><td>0.2739813</td><td>0</td><td>2</td><td>-0.09425774</td><td>-0.2138184</td><td>1.0</td><td>1</td></tr>\n",
       "</tbody>\n",
       "</table>\n"
      ],
      "text/latex": [
       "A tibble: 299 × 7\n",
       "\\begin{tabular}{lllllll}\n",
       " scaled\\_age & sex & cp & scaled\\_trestbps & scaled\\_chol & ca & num\\\\\n",
       " <dbl{[},1{]}> & <dbl> & <dbl> & <dbl{[},1{]}> & <dbl{[},1{]}> & <chr> & <fct>\\\\\n",
       "\\hline\n",
       "\t 0.9390997 & 1 & 1 &  0.7529286 & -0.2716054 & 0.0 & 0\\\\\n",
       "\t 1.3825120 & 1 & 4 &  1.6001149 &  0.7492985 & 3.0 & 2\\\\\n",
       "\t 1.3825120 & 1 & 4 & -0.6590486 & -0.3486548 & 2.0 & 1\\\\\n",
       "\t ⋮ & ⋮ & ⋮ & ⋮ & ⋮ & ⋮ & ⋮\\\\\n",
       "\t 1.4933650 & 1 & 4 &  0.69644951 & -1.0420989 & 2.0 & 2\\\\\n",
       "\t 0.2739813 & 1 & 4 & -0.09425774 & -2.2363638 & 1.0 & 3\\\\\n",
       "\t 0.2739813 & 0 & 2 & -0.09425774 & -0.2138184 & 1.0 & 1\\\\\n",
       "\\end{tabular}\n"
      ],
      "text/markdown": [
       "\n",
       "A tibble: 299 × 7\n",
       "\n",
       "| scaled_age &lt;dbl[,1]&gt; | sex &lt;dbl&gt; | cp &lt;dbl&gt; | scaled_trestbps &lt;dbl[,1]&gt; | scaled_chol &lt;dbl[,1]&gt; | ca &lt;chr&gt; | num &lt;fct&gt; |\n",
       "|---|---|---|---|---|---|---|\n",
       "| 0.9390997 | 1 | 1 |  0.7529286 | -0.2716054 | 0.0 | 0 |\n",
       "| 1.3825120 | 1 | 4 |  1.6001149 |  0.7492985 | 3.0 | 2 |\n",
       "| 1.3825120 | 1 | 4 | -0.6590486 | -0.3486548 | 2.0 | 1 |\n",
       "| ⋮ | ⋮ | ⋮ | ⋮ | ⋮ | ⋮ | ⋮ |\n",
       "| 1.4933650 | 1 | 4 |  0.69644951 | -1.0420989 | 2.0 | 2 |\n",
       "| 0.2739813 | 1 | 4 | -0.09425774 | -2.2363638 | 1.0 | 3 |\n",
       "| 0.2739813 | 0 | 2 | -0.09425774 | -0.2138184 | 1.0 | 1 |\n",
       "\n"
      ],
      "text/plain": [
       "    scaled_age sex cp scaled_trestbps scaled_chol ca  num\n",
       "1   0.9390997  1   1   0.7529286      -0.2716054  0.0 0  \n",
       "2   1.3825120  1   4   1.6001149       0.7492985  3.0 2  \n",
       "3   1.3825120  1   4  -0.6590486      -0.3486548  2.0 1  \n",
       "⋮   ⋮          ⋮   ⋮  ⋮               ⋮           ⋮   ⋮  \n",
       "297 1.4933650  1   4   0.69644951     -1.0420989  2.0 2  \n",
       "298 0.2739813  1   4  -0.09425774     -2.2363638  1.0 3  \n",
       "299 0.2739813  0   2  -0.09425774     -0.2138184  1.0 1  "
      ]
     },
     "metadata": {},
     "output_type": "display_data"
    }
   ],
   "source": [
    "#c_processed_scaled <- c_processed %>% \n",
    "#                     mutate(scaled_trestbps= scale(trestbps, center = TRUE), scaled_age = scale(age, center = TRUE), scaled_chol = scale(chol, center = TRUE)) %>%\n",
    "#                     select(scaled_age,sex,cp,scaled_trestbps,scaled_chol,ca,num)\n",
    "#c_processed_scaled"
   ]
  },
  {
   "cell_type": "markdown",
   "metadata": {},
   "source": [
    "Run this to set the seed. **(Not optional)** and split the data into traininga and testing sets. **We used a 75/25 split here because ____**"
   ]
  },
  {
   "cell_type": "code",
   "execution_count": 12,
   "metadata": {},
   "outputs": [
    {
     "data": {
      "text/html": [
       "<table>\n",
       "<caption>A tibble: 74 × 7</caption>\n",
       "<thead>\n",
       "\t<tr><th scope=col>age</th><th scope=col>sex</th><th scope=col>cp</th><th scope=col>trestbps</th><th scope=col>chol</th><th scope=col>ca</th><th scope=col>num</th></tr>\n",
       "\t<tr><th scope=col>&lt;dbl&gt;</th><th scope=col>&lt;dbl&gt;</th><th scope=col>&lt;dbl&gt;</th><th scope=col>&lt;dbl&gt;</th><th scope=col>&lt;dbl&gt;</th><th scope=col>&lt;chr&gt;</th><th scope=col>&lt;fct&gt;</th></tr>\n",
       "</thead>\n",
       "<tbody>\n",
       "\t<tr><td>62</td><td>0</td><td>4</td><td>140</td><td>268</td><td>2.0</td><td>3</td></tr>\n",
       "\t<tr><td>63</td><td>1</td><td>4</td><td>130</td><td>254</td><td>1.0</td><td>2</td></tr>\n",
       "\t<tr><td>57</td><td>1</td><td>4</td><td>140</td><td>192</td><td>0.0</td><td>0</td></tr>\n",
       "\t<tr><td>⋮</td><td>⋮</td><td>⋮</td><td>⋮</td><td>⋮</td><td>⋮</td><td>⋮</td></tr>\n",
       "\t<tr><td>57</td><td>1</td><td>4</td><td>110</td><td>335</td><td>1.0</td><td>2</td></tr>\n",
       "\t<tr><td>63</td><td>1</td><td>4</td><td>140</td><td>187</td><td>2.0</td><td>2</td></tr>\n",
       "\t<tr><td>63</td><td>0</td><td>4</td><td>124</td><td>197</td><td>0.0</td><td>1</td></tr>\n",
       "</tbody>\n",
       "</table>\n"
      ],
      "text/latex": [
       "A tibble: 74 × 7\n",
       "\\begin{tabular}{lllllll}\n",
       " age & sex & cp & trestbps & chol & ca & num\\\\\n",
       " <dbl> & <dbl> & <dbl> & <dbl> & <dbl> & <chr> & <fct>\\\\\n",
       "\\hline\n",
       "\t 62 & 0 & 4 & 140 & 268 & 2.0 & 3\\\\\n",
       "\t 63 & 1 & 4 & 130 & 254 & 1.0 & 2\\\\\n",
       "\t 57 & 1 & 4 & 140 & 192 & 0.0 & 0\\\\\n",
       "\t ⋮ & ⋮ & ⋮ & ⋮ & ⋮ & ⋮ & ⋮\\\\\n",
       "\t 57 & 1 & 4 & 110 & 335 & 1.0 & 2\\\\\n",
       "\t 63 & 1 & 4 & 140 & 187 & 2.0 & 2\\\\\n",
       "\t 63 & 0 & 4 & 124 & 197 & 0.0 & 1\\\\\n",
       "\\end{tabular}\n"
      ],
      "text/markdown": [
       "\n",
       "A tibble: 74 × 7\n",
       "\n",
       "| age &lt;dbl&gt; | sex &lt;dbl&gt; | cp &lt;dbl&gt; | trestbps &lt;dbl&gt; | chol &lt;dbl&gt; | ca &lt;chr&gt; | num &lt;fct&gt; |\n",
       "|---|---|---|---|---|---|---|\n",
       "| 62 | 0 | 4 | 140 | 268 | 2.0 | 3 |\n",
       "| 63 | 1 | 4 | 130 | 254 | 1.0 | 2 |\n",
       "| 57 | 1 | 4 | 140 | 192 | 0.0 | 0 |\n",
       "| ⋮ | ⋮ | ⋮ | ⋮ | ⋮ | ⋮ | ⋮ |\n",
       "| 57 | 1 | 4 | 110 | 335 | 1.0 | 2 |\n",
       "| 63 | 1 | 4 | 140 | 187 | 2.0 | 2 |\n",
       "| 63 | 0 | 4 | 124 | 197 | 0.0 | 1 |\n",
       "\n"
      ],
      "text/plain": [
       "   age sex cp trestbps chol ca  num\n",
       "1  62  0   4  140      268  2.0 3  \n",
       "2  63  1   4  130      254  1.0 2  \n",
       "3  57  1   4  140      192  0.0 0  \n",
       "⋮  ⋮   ⋮   ⋮  ⋮        ⋮    ⋮   ⋮  \n",
       "72 57  1   4  110      335  1.0 2  \n",
       "73 63  1   4  140      187  2.0 2  \n",
       "74 63  0   4  124      197  0.0 1  "
      ]
     },
     "metadata": {},
     "output_type": "display_data"
    },
    {
     "data": {
      "text/html": [
       "<table>\n",
       "<caption>A tibble: 225 × 7</caption>\n",
       "<thead>\n",
       "\t<tr><th scope=col>age</th><th scope=col>sex</th><th scope=col>cp</th><th scope=col>trestbps</th><th scope=col>chol</th><th scope=col>ca</th><th scope=col>num</th></tr>\n",
       "\t<tr><th scope=col>&lt;dbl&gt;</th><th scope=col>&lt;dbl&gt;</th><th scope=col>&lt;dbl&gt;</th><th scope=col>&lt;dbl&gt;</th><th scope=col>&lt;dbl&gt;</th><th scope=col>&lt;chr&gt;</th><th scope=col>&lt;fct&gt;</th></tr>\n",
       "</thead>\n",
       "<tbody>\n",
       "\t<tr><td>63</td><td>1</td><td>1</td><td>145</td><td>233</td><td>0.0</td><td>0</td></tr>\n",
       "\t<tr><td>67</td><td>1</td><td>4</td><td>160</td><td>286</td><td>3.0</td><td>2</td></tr>\n",
       "\t<tr><td>67</td><td>1</td><td>4</td><td>120</td><td>229</td><td>2.0</td><td>1</td></tr>\n",
       "\t<tr><td>⋮</td><td>⋮</td><td>⋮</td><td>⋮</td><td>⋮</td><td>⋮</td><td>⋮</td></tr>\n",
       "\t<tr><td>68</td><td>1</td><td>4</td><td>144</td><td>193</td><td>2.0</td><td>2</td></tr>\n",
       "\t<tr><td>57</td><td>1</td><td>4</td><td>130</td><td>131</td><td>1.0</td><td>3</td></tr>\n",
       "\t<tr><td>57</td><td>0</td><td>2</td><td>130</td><td>236</td><td>1.0</td><td>1</td></tr>\n",
       "</tbody>\n",
       "</table>\n"
      ],
      "text/latex": [
       "A tibble: 225 × 7\n",
       "\\begin{tabular}{lllllll}\n",
       " age & sex & cp & trestbps & chol & ca & num\\\\\n",
       " <dbl> & <dbl> & <dbl> & <dbl> & <dbl> & <chr> & <fct>\\\\\n",
       "\\hline\n",
       "\t 63 & 1 & 1 & 145 & 233 & 0.0 & 0\\\\\n",
       "\t 67 & 1 & 4 & 160 & 286 & 3.0 & 2\\\\\n",
       "\t 67 & 1 & 4 & 120 & 229 & 2.0 & 1\\\\\n",
       "\t ⋮ & ⋮ & ⋮ & ⋮ & ⋮ & ⋮ & ⋮\\\\\n",
       "\t 68 & 1 & 4 & 144 & 193 & 2.0 & 2\\\\\n",
       "\t 57 & 1 & 4 & 130 & 131 & 1.0 & 3\\\\\n",
       "\t 57 & 0 & 2 & 130 & 236 & 1.0 & 1\\\\\n",
       "\\end{tabular}\n"
      ],
      "text/markdown": [
       "\n",
       "A tibble: 225 × 7\n",
       "\n",
       "| age &lt;dbl&gt; | sex &lt;dbl&gt; | cp &lt;dbl&gt; | trestbps &lt;dbl&gt; | chol &lt;dbl&gt; | ca &lt;chr&gt; | num &lt;fct&gt; |\n",
       "|---|---|---|---|---|---|---|\n",
       "| 63 | 1 | 1 | 145 | 233 | 0.0 | 0 |\n",
       "| 67 | 1 | 4 | 160 | 286 | 3.0 | 2 |\n",
       "| 67 | 1 | 4 | 120 | 229 | 2.0 | 1 |\n",
       "| ⋮ | ⋮ | ⋮ | ⋮ | ⋮ | ⋮ | ⋮ |\n",
       "| 68 | 1 | 4 | 144 | 193 | 2.0 | 2 |\n",
       "| 57 | 1 | 4 | 130 | 131 | 1.0 | 3 |\n",
       "| 57 | 0 | 2 | 130 | 236 | 1.0 | 1 |\n",
       "\n"
      ],
      "text/plain": [
       "    age sex cp trestbps chol ca  num\n",
       "1   63  1   1  145      233  0.0 0  \n",
       "2   67  1   4  160      286  3.0 2  \n",
       "3   67  1   4  120      229  2.0 1  \n",
       "⋮   ⋮   ⋮   ⋮  ⋮        ⋮    ⋮   ⋮  \n",
       "223 68  1   4  144      193  2.0 2  \n",
       "224 57  1   4  130      131  1.0 3  \n",
       "225 57  0   2  130      236  1.0 1  "
      ]
     },
     "metadata": {},
     "output_type": "display_data"
    }
   ],
   "source": [
    "set.seed(888)\n",
    "\n",
    "patients_split<-initial_split(c_processed, prop = 0.75, strata = num) \n",
    "patients_train<- training(patients_split)\n",
    "patients_test<- testing(patients_split)\n",
    "\n",
    "patients_test\n",
    "patients_train\n",
    "\n"
   ]
  },
  {
   "cell_type": "markdown",
   "metadata": {},
   "source": [
    "Run this cell to obtain the total number of patients in the training set"
   ]
  },
  {
   "cell_type": "code",
   "execution_count": 10,
   "metadata": {},
   "outputs": [
    {
     "data": {
      "text/html": [
       "<table>\n",
       "<caption>A tibble: 1 × 1</caption>\n",
       "<thead>\n",
       "\t<tr><th scope=col>n_patients</th></tr>\n",
       "\t<tr><th scope=col>&lt;int&gt;</th></tr>\n",
       "</thead>\n",
       "<tbody>\n",
       "\t<tr><td>225</td></tr>\n",
       "</tbody>\n",
       "</table>\n"
      ],
      "text/latex": [
       "A tibble: 1 × 1\n",
       "\\begin{tabular}{l}\n",
       " n\\_patients\\\\\n",
       " <int>\\\\\n",
       "\\hline\n",
       "\t 225\\\\\n",
       "\\end{tabular}\n"
      ],
      "text/markdown": [
       "\n",
       "A tibble: 1 × 1\n",
       "\n",
       "| n_patients &lt;int&gt; |\n",
       "|---|\n",
       "| 225 |\n",
       "\n"
      ],
      "text/plain": [
       "  n_patients\n",
       "1 225       "
      ]
     },
     "metadata": {},
     "output_type": "display_data"
    }
   ],
   "source": [
    "num_Patients <- patients_train %>% summarize(n_patients = n())\n",
    "num_Patients"
   ]
  },
  {
   "cell_type": "markdown",
   "metadata": {},
   "source": [
    "Sex has been positively correlated to the severity of heart disease **(EVIDENCE)** making it a key predictor variable. As such, we are interested in finding out the total number of male and female patients respectively in the training set, as well as their ratio. We will achieve this by running the two cells below. "
   ]
  },
  {
   "cell_type": "markdown",
   "metadata": {},
   "source": [
    "First obtain the number of male and female patients."
   ]
  },
  {
   "cell_type": "code",
   "execution_count": 11,
   "metadata": {},
   "outputs": [
    {
     "name": "stderr",
     "output_type": "stream",
     "text": [
      "`summarise()` ungrouping output (override with `.groups` argument)\n",
      "\n"
     ]
    },
    {
     "data": {
      "text/html": [
       "<table>\n",
       "<caption>A tibble: 2 × 2</caption>\n",
       "<thead>\n",
       "\t<tr><th scope=col>Sex</th><th scope=col>n</th></tr>\n",
       "\t<tr><th scope=col>&lt;chr&gt;</th><th scope=col>&lt;dbl&gt;</th></tr>\n",
       "</thead>\n",
       "<tbody>\n",
       "\t<tr><td>female</td><td> 76</td></tr>\n",
       "\t<tr><td>male  </td><td>149</td></tr>\n",
       "</tbody>\n",
       "</table>\n"
      ],
      "text/latex": [
       "A tibble: 2 × 2\n",
       "\\begin{tabular}{ll}\n",
       " Sex & n\\\\\n",
       " <chr> & <dbl>\\\\\n",
       "\\hline\n",
       "\t female &  76\\\\\n",
       "\t male   & 149\\\\\n",
       "\\end{tabular}\n"
      ],
      "text/markdown": [
       "\n",
       "A tibble: 2 × 2\n",
       "\n",
       "| Sex &lt;chr&gt; | n &lt;dbl&gt; |\n",
       "|---|---|\n",
       "| female |  76 |\n",
       "| male   | 149 |\n",
       "\n"
      ],
      "text/plain": [
       "  Sex    n  \n",
       "1 female  76\n",
       "2 male   149"
      ]
     },
     "metadata": {},
     "output_type": "display_data"
    }
   ],
   "source": [
    "n_each_gender <- patients_train %>% group_by(sex) %>% summarize(n= n())\n",
    "\n",
    "n_each_gender <- pivot_wider(n_each_gender, names_from = sex, values_from = n)\n",
    "\n",
    "n_each_gender <- \n",
    "        rename(n_each_gender, \n",
    "              \"female\" = \"0\",\n",
    "              \"male\" = \"1\") %>% mutate(\"female\" = as.character(female), \"male\" = as.character(male))\n",
    "\n",
    "n_each_gender <- pivot_longer(n_each_gender, cols = female:male, names_to = \"Sex\", values_to = \"n\") %>% mutate(n = as.numeric(n))\n",
    "\n",
    "n_each_gender \n"
   ]
  },
  {
   "cell_type": "markdown",
   "metadata": {},
   "source": [
    "To better understand the ratio of male and female patients within the training set, visualise it using a bar graph."
   ]
  },
  {
   "cell_type": "code",
   "execution_count": 12,
   "metadata": {},
   "outputs": [
    {
     "data": {
      "image/png": "[encoded data removed]",
      "text/plain": [
       "plot without title"
      ]
     },
     "metadata": {
      "image/png": {
       "height": 420,
       "width": 420
      }
     },
     "output_type": "display_data"
    }
   ],
   "source": [
    "\n",
    "options(repr.plot.width = 7, repr.plot.height = 7)\n",
    "\n",
    "sex_bar<- ggplot(n_each_gender, aes(x = Sex, y = n)) + \n",
    "    geom_bar(stat = \"identity\") +\n",
    "    xlab(\"Sex\") +\n",
    "    ylab(\"Number of Patients\")+\n",
    "    theme(text = element_text(size = 20))+ \n",
    "    ggtitle(\"Sex versus Number of Patients\")\n",
    "\n",
    "sex_bar"
   ]
  },
  {
   "cell_type": "markdown",
   "metadata": {},
   "source": [
    "Something abt how age has been shown to be strongly correlated to heart disease, but also the strenght of relationship either impacted/strongly influenced\n",
    "by sex therefore want to find the relationship between age and sex within our dataset"
   ]
  },
  {
   "cell_type": "code",
   "execution_count": 13,
   "metadata": {},
   "outputs": [
    {
     "name": "stderr",
     "output_type": "stream",
     "text": [
      "`summarise()` ungrouping output (override with `.groups` argument)\n",
      "\n"
     ]
    },
    {
     "data": {
      "text/html": [
       "<table>\n",
       "<caption>A tibble: 2 × 2</caption>\n",
       "<thead>\n",
       "\t<tr><th scope=col>sex</th><th scope=col>avg_age</th></tr>\n",
       "\t<tr><th scope=col>&lt;chr&gt;</th><th scope=col>&lt;dbl&gt;</th></tr>\n",
       "</thead>\n",
       "<tbody>\n",
       "\t<tr><td>female</td><td>55.02632</td></tr>\n",
       "\t<tr><td>male  </td><td>53.21477</td></tr>\n",
       "</tbody>\n",
       "</table>\n"
      ],
      "text/latex": [
       "A tibble: 2 × 2\n",
       "\\begin{tabular}{ll}\n",
       " sex & avg\\_age\\\\\n",
       " <chr> & <dbl>\\\\\n",
       "\\hline\n",
       "\t female & 55.02632\\\\\n",
       "\t male   & 53.21477\\\\\n",
       "\\end{tabular}\n"
      ],
      "text/markdown": [
       "\n",
       "A tibble: 2 × 2\n",
       "\n",
       "| sex &lt;chr&gt; | avg_age &lt;dbl&gt; |\n",
       "|---|---|\n",
       "| female | 55.02632 |\n",
       "| male   | 53.21477 |\n",
       "\n"
      ],
      "text/plain": [
       "  sex    avg_age \n",
       "1 female 55.02632\n",
       "2 male   53.21477"
      ]
     },
     "metadata": {},
     "output_type": "display_data"
    }
   ],
   "source": [
    "#Run this cell to find the average age of both female and male patients respectively\n",
    "\n",
    "mean_age <- patients_train %>% group_by(sex) %>% summarize(avg = mean(age))\n",
    "\n",
    "mean_age <- pivot_wider(mean_age, names_from = sex, values_from = avg)\n",
    "\n",
    "mean_age <- \n",
    "        rename(mean_age, \n",
    "              \"female\" = \"0\",\n",
    "              \"male\" = \"1\") %>% mutate(\"female\" = as.character(female), \"male\" = as.character(male))\n",
    "\n",
    "mean_age <- pivot_longer(mean_age, cols = female:male, names_to = \"sex\", values_to = \"avg_age\") %>% mutate(avg_age = as.numeric(avg_age))\n",
    "\n",
    "mean_age\n"
   ]
  },
  {
   "cell_type": "markdown",
   "metadata": {},
   "source": [
    "As we explore the data, we would also like to find the exact distribution of patients with each type of chest pain (typical angina/atypical angina/non-anginal pain or asymptomatic). We would like to distinguish this bc ______. We acheive this by running the cell below"
   ]
  },
  {
   "cell_type": "code",
   "execution_count": 14,
   "metadata": {},
   "outputs": [
    {
     "name": "stderr",
     "output_type": "stream",
     "text": [
      "`summarise()` ungrouping output (override with `.groups` argument)\n",
      "\n"
     ]
    },
    {
     "data": {
      "text/html": [
       "<table>\n",
       "<caption>A tibble: 4 × 2</caption>\n",
       "<thead>\n",
       "\t<tr><th scope=col>chest_pain</th><th scope=col>n</th></tr>\n",
       "\t<tr><th scope=col>&lt;chr&gt;</th><th scope=col>&lt;dbl&gt;</th></tr>\n",
       "</thead>\n",
       "<tbody>\n",
       "\t<tr><td>typical_angina  </td><td> 16</td></tr>\n",
       "\t<tr><td>atypical_angina </td><td> 39</td></tr>\n",
       "\t<tr><td>Non_anginal_pain</td><td> 66</td></tr>\n",
       "\t<tr><td>Asymptomatic    </td><td>104</td></tr>\n",
       "</tbody>\n",
       "</table>\n"
      ],
      "text/latex": [
       "A tibble: 4 × 2\n",
       "\\begin{tabular}{ll}\n",
       " chest\\_pain & n\\\\\n",
       " <chr> & <dbl>\\\\\n",
       "\\hline\n",
       "\t typical\\_angina   &  16\\\\\n",
       "\t atypical\\_angina  &  39\\\\\n",
       "\t Non\\_anginal\\_pain &  66\\\\\n",
       "\t Asymptomatic     & 104\\\\\n",
       "\\end{tabular}\n"
      ],
      "text/markdown": [
       "\n",
       "A tibble: 4 × 2\n",
       "\n",
       "| chest_pain &lt;chr&gt; | n &lt;dbl&gt; |\n",
       "|---|---|\n",
       "| typical_angina   |  16 |\n",
       "| atypical_angina  |  39 |\n",
       "| Non_anginal_pain |  66 |\n",
       "| Asymptomatic     | 104 |\n",
       "\n"
      ],
      "text/plain": [
       "  chest_pain       n  \n",
       "1 typical_angina    16\n",
       "2 atypical_angina   39\n",
       "3 Non_anginal_pain  66\n",
       "4 Asymptomatic     104"
      ]
     },
     "metadata": {},
     "output_type": "display_data"
    }
   ],
   "source": [
    "n_chest_pain <- patients_train %>% group_by(cp) %>% summarize(n = n())\n",
    "\n",
    "n_chest_pain <- pivot_wider(n_chest_pain, names_from = cp, values_from = n)\n",
    "\n",
    "n_chest_pain <- \n",
    "        rename(n_chest_pain, \n",
    "              \"typical_angina\" = \"1\",\n",
    "              \"atypical_angina\" = \"2\", \"Non_anginal_pain\" = \"3\", \"Asymptomatic\" = \"4\") \n",
    "\n",
    "n_chest_pain <- pivot_longer(n_chest_pain, cols = typical_angina:Asymptomatic, names_to = \"chest_pain\", values_to = \"n\") %>% mutate(n = as.numeric(n))\n",
    "\n",
    "\n",
    "n_chest_pain\n"
   ]
  },
  {
   "cell_type": "markdown",
   "metadata": {},
   "source": [
    "Explain why resting blood pressure is important and how its relationship/correlation to heart disease is strongly influenced by age. We followed Marateb and Goudarzi's method (216) to straify the age into age groups, as specified below. We explored the distribution of minimum and maximum resting blood pressure in each age group by running the cell below. \n",
    "\n",
    "**Age groups:**\n",
    "* Young adult (18-35 years old)\n",
    "* Middle adult(36-55 years old)\n",
    "* Old adult (>55 years old)\n"
   ]
  },
  {
   "cell_type": "code",
   "execution_count": 15,
   "metadata": {},
   "outputs": [
    {
     "data": {
      "text/html": [
       "<table>\n",
       "<caption>A tibble: 1 × 2</caption>\n",
       "<thead>\n",
       "\t<tr><th scope=col>age</th><th scope=col>trestbps</th></tr>\n",
       "\t<tr><th scope=col>&lt;dbl&gt;</th><th scope=col>&lt;dbl&gt;</th></tr>\n",
       "</thead>\n",
       "<tbody>\n",
       "\t<tr><td>35</td><td>138</td></tr>\n",
       "</tbody>\n",
       "</table>\n"
      ],
      "text/latex": [
       "A tibble: 1 × 2\n",
       "\\begin{tabular}{ll}\n",
       " age & trestbps\\\\\n",
       " <dbl> & <dbl>\\\\\n",
       "\\hline\n",
       "\t 35 & 138\\\\\n",
       "\\end{tabular}\n"
      ],
      "text/markdown": [
       "\n",
       "A tibble: 1 × 2\n",
       "\n",
       "| age &lt;dbl&gt; | trestbps &lt;dbl&gt; |\n",
       "|---|---|\n",
       "| 35 | 138 |\n",
       "\n"
      ],
      "text/plain": [
       "  age trestbps\n",
       "1 35  138     "
      ]
     },
     "metadata": {},
     "output_type": "display_data"
    },
    {
     "data": {
      "text/html": [
       "<table>\n",
       "<caption>A tibble: 1 × 2</caption>\n",
       "<thead>\n",
       "\t<tr><th scope=col>age</th><th scope=col>trestbps</th></tr>\n",
       "\t<tr><th scope=col>&lt;dbl&gt;</th><th scope=col>&lt;dbl&gt;</th></tr>\n",
       "</thead>\n",
       "<tbody>\n",
       "\t<tr><td>34</td><td>118</td></tr>\n",
       "</tbody>\n",
       "</table>\n"
      ],
      "text/latex": [
       "A tibble: 1 × 2\n",
       "\\begin{tabular}{ll}\n",
       " age & trestbps\\\\\n",
       " <dbl> & <dbl>\\\\\n",
       "\\hline\n",
       "\t 34 & 118\\\\\n",
       "\\end{tabular}\n"
      ],
      "text/markdown": [
       "\n",
       "A tibble: 1 × 2\n",
       "\n",
       "| age &lt;dbl&gt; | trestbps &lt;dbl&gt; |\n",
       "|---|---|\n",
       "| 34 | 118 |\n",
       "\n"
      ],
      "text/plain": [
       "  age trestbps\n",
       "1 34  118     "
      ]
     },
     "metadata": {},
     "output_type": "display_data"
    },
    {
     "data": {
      "text/html": [
       "<table>\n",
       "<caption>A tibble: 1 × 2</caption>\n",
       "<thead>\n",
       "\t<tr><th scope=col>age</th><th scope=col>trestbps</th></tr>\n",
       "\t<tr><th scope=col>&lt;dbl&gt;</th><th scope=col>&lt;dbl&gt;</th></tr>\n",
       "</thead>\n",
       "<tbody>\n",
       "\t<tr><td>54</td><td>192</td></tr>\n",
       "</tbody>\n",
       "</table>\n"
      ],
      "text/latex": [
       "A tibble: 1 × 2\n",
       "\\begin{tabular}{ll}\n",
       " age & trestbps\\\\\n",
       " <dbl> & <dbl>\\\\\n",
       "\\hline\n",
       "\t 54 & 192\\\\\n",
       "\\end{tabular}\n"
      ],
      "text/markdown": [
       "\n",
       "A tibble: 1 × 2\n",
       "\n",
       "| age &lt;dbl&gt; | trestbps &lt;dbl&gt; |\n",
       "|---|---|\n",
       "| 54 | 192 |\n",
       "\n"
      ],
      "text/plain": [
       "  age trestbps\n",
       "1 54  192     "
      ]
     },
     "metadata": {},
     "output_type": "display_data"
    },
    {
     "data": {
      "text/html": [
       "<table>\n",
       "<caption>A tibble: 1 × 2</caption>\n",
       "<thead>\n",
       "\t<tr><th scope=col>age</th><th scope=col>trestbps</th></tr>\n",
       "\t<tr><th scope=col>&lt;dbl&gt;</th><th scope=col>&lt;dbl&gt;</th></tr>\n",
       "</thead>\n",
       "<tbody>\n",
       "\t<tr><td>39</td><td>94</td></tr>\n",
       "</tbody>\n",
       "</table>\n"
      ],
      "text/latex": [
       "A tibble: 1 × 2\n",
       "\\begin{tabular}{ll}\n",
       " age & trestbps\\\\\n",
       " <dbl> & <dbl>\\\\\n",
       "\\hline\n",
       "\t 39 & 94\\\\\n",
       "\\end{tabular}\n"
      ],
      "text/markdown": [
       "\n",
       "A tibble: 1 × 2\n",
       "\n",
       "| age &lt;dbl&gt; | trestbps &lt;dbl&gt; |\n",
       "|---|---|\n",
       "| 39 | 94 |\n",
       "\n"
      ],
      "text/plain": [
       "  age trestbps\n",
       "1 39  94      "
      ]
     },
     "metadata": {},
     "output_type": "display_data"
    },
    {
     "data": {
      "text/html": [
       "<table>\n",
       "<caption>A tibble: 1 × 2</caption>\n",
       "<thead>\n",
       "\t<tr><th scope=col>age</th><th scope=col>trestbps</th></tr>\n",
       "\t<tr><th scope=col>&lt;dbl&gt;</th><th scope=col>&lt;dbl&gt;</th></tr>\n",
       "</thead>\n",
       "<tbody>\n",
       "\t<tr><td>64</td><td>180</td></tr>\n",
       "</tbody>\n",
       "</table>\n"
      ],
      "text/latex": [
       "A tibble: 1 × 2\n",
       "\\begin{tabular}{ll}\n",
       " age & trestbps\\\\\n",
       " <dbl> & <dbl>\\\\\n",
       "\\hline\n",
       "\t 64 & 180\\\\\n",
       "\\end{tabular}\n"
      ],
      "text/markdown": [
       "\n",
       "A tibble: 1 × 2\n",
       "\n",
       "| age &lt;dbl&gt; | trestbps &lt;dbl&gt; |\n",
       "|---|---|\n",
       "| 64 | 180 |\n",
       "\n"
      ],
      "text/plain": [
       "  age trestbps\n",
       "1 64  180     "
      ]
     },
     "metadata": {},
     "output_type": "display_data"
    },
    {
     "data": {
      "text/html": [
       "<table>\n",
       "<caption>A tibble: 1 × 2</caption>\n",
       "<thead>\n",
       "\t<tr><th scope=col>age</th><th scope=col>trestbps</th></tr>\n",
       "\t<tr><th scope=col>&lt;dbl&gt;</th><th scope=col>&lt;dbl&gt;</th></tr>\n",
       "</thead>\n",
       "<tbody>\n",
       "\t<tr><td>58</td><td>100</td></tr>\n",
       "</tbody>\n",
       "</table>\n"
      ],
      "text/latex": [
       "A tibble: 1 × 2\n",
       "\\begin{tabular}{ll}\n",
       " age & trestbps\\\\\n",
       " <dbl> & <dbl>\\\\\n",
       "\\hline\n",
       "\t 58 & 100\\\\\n",
       "\\end{tabular}\n"
      ],
      "text/markdown": [
       "\n",
       "A tibble: 1 × 2\n",
       "\n",
       "| age &lt;dbl&gt; | trestbps &lt;dbl&gt; |\n",
       "|---|---|\n",
       "| 58 | 100 |\n",
       "\n"
      ],
      "text/plain": [
       "  age trestbps\n",
       "1 58  100     "
      ]
     },
     "metadata": {},
     "output_type": "display_data"
    }
   ],
   "source": [
    "#maybe use later in paper, (so don't use in training model) when trying to interpret the data. \n",
    "\n",
    "young_adult_bps <- patients_train %>%\n",
    "select(age,trestbps) %>%\n",
    "filter(between(age,18, 35))\n",
    "\n",
    "middle_adult_bps <- patients_train %>%\n",
    "select(age,trestbps) %>%\n",
    "filter(between(age,36, 55))\n",
    "\n",
    "old_adult_bps <- patients_train %>%\n",
    "select(age, trestbps) %>%\n",
    "filter(between(age,55,77))\n",
    "\n",
    "max_young_trestbps <- young_adult_bps %>% \n",
    "    arrange(desc(trestbps))%>% \n",
    "    head(n=1)\n",
    "\n",
    "min_young_trestbps <- young_adult_bps %>% \n",
    "    arrange(desc(trestbps)) %>%\n",
    "    tail(n=1)\n",
    "\n",
    "max_middle_trestbps <- middle_adult_bps %>% \n",
    "    arrange(desc(trestbps)) %>%\n",
    "    head(n=1)\n",
    "\n",
    "min_middle_trestbps <- middle_adult_bps %>% \n",
    "    arrange(desc(trestbps)) %>%\n",
    "    tail(n=1)\n",
    "\n",
    "max_old_trestbps <- old_adult_bps %>% \n",
    "    arrange(desc(trestbps)) %>%\n",
    "    head(n=1)\n",
    "\n",
    "min_old_trestbps <- old_adult_bps %>% \n",
    "    arrange(desc(trestbps)) %>%\n",
    "    tail(n=1)\n",
    "\n",
    "\n",
    "max_young_trestbps\n",
    "min_young_trestbps\n",
    "\n",
    "max_middle_trestbps\n",
    "min_middle_trestbps\n",
    "\n",
    "max_old_trestbps\n",
    "min_old_trestbps\n"
   ]
  },
  {
   "cell_type": "markdown",
   "metadata": {},
   "source": [
    "There has been correlations/relationships found between resting blood pressure and ca, and we would like to see if this correlation make these a good predictor pair for diagnosis. "
   ]
  },
  {
   "cell_type": "code",
   "execution_count": 16,
   "metadata": {},
   "outputs": [
    {
     "name": "stderr",
     "output_type": "stream",
     "text": [
      "`summarise()` ungrouping output (override with `.groups` argument)\n",
      "\n"
     ]
    },
    {
     "data": {
      "text/html": [
       "<table>\n",
       "<caption>A tibble: 4 × 2</caption>\n",
       "<thead>\n",
       "\t<tr><th scope=col>ca</th><th scope=col>avg_rbp</th></tr>\n",
       "\t<tr><th scope=col>&lt;chr&gt;</th><th scope=col>&lt;dbl&gt;</th></tr>\n",
       "</thead>\n",
       "<tbody>\n",
       "\t<tr><td>0.0</td><td>129.0709</td></tr>\n",
       "\t<tr><td>1.0</td><td>129.6383</td></tr>\n",
       "\t<tr><td>2.0</td><td>134.9500</td></tr>\n",
       "\t<tr><td>3.0</td><td>138.2353</td></tr>\n",
       "</tbody>\n",
       "</table>\n"
      ],
      "text/latex": [
       "A tibble: 4 × 2\n",
       "\\begin{tabular}{ll}\n",
       " ca & avg\\_rbp\\\\\n",
       " <chr> & <dbl>\\\\\n",
       "\\hline\n",
       "\t 0.0 & 129.0709\\\\\n",
       "\t 1.0 & 129.6383\\\\\n",
       "\t 2.0 & 134.9500\\\\\n",
       "\t 3.0 & 138.2353\\\\\n",
       "\\end{tabular}\n"
      ],
      "text/markdown": [
       "\n",
       "A tibble: 4 × 2\n",
       "\n",
       "| ca &lt;chr&gt; | avg_rbp &lt;dbl&gt; |\n",
       "|---|---|\n",
       "| 0.0 | 129.0709 |\n",
       "| 1.0 | 129.6383 |\n",
       "| 2.0 | 134.9500 |\n",
       "| 3.0 | 138.2353 |\n",
       "\n"
      ],
      "text/plain": [
       "  ca  avg_rbp \n",
       "1 0.0 129.0709\n",
       "2 1.0 129.6383\n",
       "3 2.0 134.9500\n",
       "4 3.0 138.2353"
      ]
     },
     "metadata": {},
     "output_type": "display_data"
    }
   ],
   "source": [
    "#Run this cell to obtain mean resting blood pressure in relation to ca\n",
    "\n",
    "mean_rbp <- patients_train %>% group_by(ca) %>% summarize(avg_rbp = mean(trestbps))\n",
    "mean_rbp"
   ]
  },
  {
   "cell_type": "code",
   "execution_count": 17,
   "metadata": {},
   "outputs": [
    {
     "data": {
      "image/png": "[encoded data removed]",
      "text/plain": [
       "plot without title"
      ]
     },
     "metadata": {
      "image/png": {
       "height": 420,
       "width": 720
      }
     },
     "output_type": "display_data"
    }
   ],
   "source": [
    "#Run this cell to obtain visualisation of Age versus Resting blood pressure\n",
    "\n",
    "options(repr.plot.width = 12, repr.plot.height = 7)\n",
    "\n",
    "age_vs_rbps_plot <- ggplot(patients_train, aes(x = age, y = trestbps, color = as_factor(num))) +\n",
    "                    geom_point(alpha = 0.5) +\n",
    "                    labs(x = \"Age (years)\", y = \"Resting blood pressure (mmHg)\", color = \"Diagnosis of Heart Disease\") +\n",
    "                    theme(text = element_text(size = 20)) + \n",
    "                    ggtitle(\"Age versus Resting blood pressure\") +\n",
    "                    scale_color_manual(labels = c(\"0\", \"1\",\"2\",\"3\",\"4\"), values = c(\"red\",\"blue\",\"yellow\",\"green\",\"black\"))\n",
    "age_vs_rbps_plot"
   ]
  },
  {
   "cell_type": "markdown",
   "metadata": {},
   "source": [
    "### Pre-Process Data"
   ]
  },
  {
   "cell_type": "code",
   "execution_count": 13,
   "metadata": {},
   "outputs": [],
   "source": [
    "heart_vfold <- vfold_cv(patients_train, v=5, strata = num)"
   ]
  },
  {
   "cell_type": "code",
   "execution_count": 57,
   "metadata": {},
   "outputs": [],
   "source": [
    "heart_recipe <- recipe(num ~ chol + age + trestbps, data = patients_train) %>%\n",
    "    step_scale(all_predictors()) %>%\n",
    "    step_center(all_predictors())"
   ]
  },
  {
   "cell_type": "code",
   "execution_count": 58,
   "metadata": {},
   "outputs": [],
   "source": [
    "knn_tune <- nearest_neighbor(weight_func = \"rectangular\", neighbors = tune()) %>%\n",
    "    set_engine(\"kknn\") %>%\n",
    "    set_mode(\"classification\")"
   ]
  },
  {
   "cell_type": "code",
   "execution_count": 60,
   "metadata": {},
   "outputs": [
    {
     "data": {
      "text/html": [
       "<table>\n",
       "<caption>A tibble: 20 × 7</caption>\n",
       "<thead>\n",
       "\t<tr><th scope=col>neighbors</th><th scope=col>.metric</th><th scope=col>.estimator</th><th scope=col>mean</th><th scope=col>n</th><th scope=col>std_err</th><th scope=col>.config</th></tr>\n",
       "\t<tr><th scope=col>&lt;dbl&gt;</th><th scope=col>&lt;chr&gt;</th><th scope=col>&lt;chr&gt;</th><th scope=col>&lt;dbl&gt;</th><th scope=col>&lt;int&gt;</th><th scope=col>&lt;dbl&gt;</th><th scope=col>&lt;chr&gt;</th></tr>\n",
       "</thead>\n",
       "<tbody>\n",
       "\t<tr><td> 1</td><td>accuracy</td><td>multiclass</td><td>0.3543782</td><td>5</td><td>0.03301523</td><td>Model01</td></tr>\n",
       "\t<tr><td> 6</td><td>accuracy</td><td>multiclass</td><td>0.4313942</td><td>5</td><td>0.03385876</td><td>Model02</td></tr>\n",
       "\t<tr><td>11</td><td>accuracy</td><td>multiclass</td><td>0.5156589</td><td>5</td><td>0.02606593</td><td>Model03</td></tr>\n",
       "\t<tr><td>⋮</td><td>⋮</td><td>⋮</td><td>⋮</td><td>⋮</td><td>⋮</td><td>⋮</td></tr>\n",
       "\t<tr><td>86</td><td>accuracy</td><td>multiclass</td><td>0.5336569</td><td>5</td><td>0.006647087</td><td>Model18</td></tr>\n",
       "\t<tr><td>91</td><td>accuracy</td><td>multiclass</td><td>0.5336569</td><td>5</td><td>0.006647087</td><td>Model19</td></tr>\n",
       "\t<tr><td>96</td><td>accuracy</td><td>multiclass</td><td>0.5336569</td><td>5</td><td>0.006647087</td><td>Model20</td></tr>\n",
       "</tbody>\n",
       "</table>\n"
      ],
      "text/latex": [
       "A tibble: 20 × 7\n",
       "\\begin{tabular}{lllllll}\n",
       " neighbors & .metric & .estimator & mean & n & std\\_err & .config\\\\\n",
       " <dbl> & <chr> & <chr> & <dbl> & <int> & <dbl> & <chr>\\\\\n",
       "\\hline\n",
       "\t  1 & accuracy & multiclass & 0.3543782 & 5 & 0.03301523 & Model01\\\\\n",
       "\t  6 & accuracy & multiclass & 0.4313942 & 5 & 0.03385876 & Model02\\\\\n",
       "\t 11 & accuracy & multiclass & 0.5156589 & 5 & 0.02606593 & Model03\\\\\n",
       "\t ⋮ & ⋮ & ⋮ & ⋮ & ⋮ & ⋮ & ⋮\\\\\n",
       "\t 86 & accuracy & multiclass & 0.5336569 & 5 & 0.006647087 & Model18\\\\\n",
       "\t 91 & accuracy & multiclass & 0.5336569 & 5 & 0.006647087 & Model19\\\\\n",
       "\t 96 & accuracy & multiclass & 0.5336569 & 5 & 0.006647087 & Model20\\\\\n",
       "\\end{tabular}\n"
      ],
      "text/markdown": [
       "\n",
       "A tibble: 20 × 7\n",
       "\n",
       "| neighbors &lt;dbl&gt; | .metric &lt;chr&gt; | .estimator &lt;chr&gt; | mean &lt;dbl&gt; | n &lt;int&gt; | std_err &lt;dbl&gt; | .config &lt;chr&gt; |\n",
       "|---|---|---|---|---|---|---|\n",
       "|  1 | accuracy | multiclass | 0.3543782 | 5 | 0.03301523 | Model01 |\n",
       "|  6 | accuracy | multiclass | 0.4313942 | 5 | 0.03385876 | Model02 |\n",
       "| 11 | accuracy | multiclass | 0.5156589 | 5 | 0.02606593 | Model03 |\n",
       "| ⋮ | ⋮ | ⋮ | ⋮ | ⋮ | ⋮ | ⋮ |\n",
       "| 86 | accuracy | multiclass | 0.5336569 | 5 | 0.006647087 | Model18 |\n",
       "| 91 | accuracy | multiclass | 0.5336569 | 5 | 0.006647087 | Model19 |\n",
       "| 96 | accuracy | multiclass | 0.5336569 | 5 | 0.006647087 | Model20 |\n",
       "\n"
      ],
      "text/plain": [
       "   neighbors .metric  .estimator mean      n std_err     .config\n",
       "1   1        accuracy multiclass 0.3543782 5 0.03301523  Model01\n",
       "2   6        accuracy multiclass 0.4313942 5 0.03385876  Model02\n",
       "3  11        accuracy multiclass 0.5156589 5 0.02606593  Model03\n",
       "⋮  ⋮         ⋮        ⋮          ⋮         ⋮ ⋮           ⋮      \n",
       "18 86        accuracy multiclass 0.5336569 5 0.006647087 Model18\n",
       "19 91        accuracy multiclass 0.5336569 5 0.006647087 Model19\n",
       "20 96        accuracy multiclass 0.5336569 5 0.006647087 Model20"
      ]
     },
     "metadata": {},
     "output_type": "display_data"
    }
   ],
   "source": [
    "k_vals <- tibble(neighbors = seq(from = 1, to = 100, by = 5))\n",
    "\n",
    "knn_results <- workflow() %>%\n",
    "    add_recipe(heart_recipe) %>%\n",
    "    add_model(knn_tune) %>%\n",
    "    tune_grid(resamples = heart_vfold, grid = k_vals) %>%\n",
    "    collect_metrics()\n",
    "\n",
    "accuracies <- knn_results %>% \n",
    "             filter(.metric == \"accuracy\")\n",
    "\n",
    "accuracies"
   ]
  },
  {
   "cell_type": "markdown",
   "metadata": {},
   "source": [
    "**Plotting accuracy versus K values to observe which K value would be the best to build our model with**"
   ]
  },
  {
   "cell_type": "code",
   "execution_count": 61,
   "metadata": {},
   "outputs": [
    {
     "data": {
      "image/png": "[encoded data removed]",
      "text/plain": [
       "plot without title"
      ]
     },
     "metadata": {
      "image/png": {
       "height": 420,
       "width": 420
      }
     },
     "output_type": "display_data"
    }
   ],
   "source": [
    "accuracy_vs_k <- ggplot(accuracies, aes(x = neighbors, y = mean)) +\n",
    "                  geom_point() +\n",
    "                  geom_line() +\n",
    "                  labs(x = \"Neighbors\", y = \"Accuracy Estimate\") + \n",
    "                  theme(text = element_text(size = 15)) + \n",
    "                  ggtitle(\"Accuracy vs. K\")\n",
    "\n",
    "accuracy_vs_k"
   ]
  },
  {
   "cell_type": "code",
   "execution_count": 62,
   "metadata": {},
   "outputs": [
    {
     "data": {
      "text/html": [
       "51"
      ],
      "text/latex": [
       "51"
      ],
      "text/markdown": [
       "51"
      ],
      "text/plain": [
       "[1] 51"
      ]
     },
     "metadata": {},
     "output_type": "display_data"
    }
   ],
   "source": [
    "chosen_n <- arrange(accuracies, by = desc(mean)) %>%\n",
    "            slice(1) %>% \n",
    "            pull(neighbors)\n",
    "chosen_n"
   ]
  },
  {
   "cell_type": "markdown",
   "metadata": {},
   "source": [
    "**Building Classification Model**"
   ]
  },
  {
   "cell_type": "code",
   "execution_count": 63,
   "metadata": {},
   "outputs": [],
   "source": [
    "knn_spec <- nearest_neighbor(weight_func = \"rectangular\", neighbors = chosen_n) %>%\n",
    "    set_engine(\"kknn\") %>%\n",
    "    set_mode(\"classification\")\n",
    "\n",
    "knn_fit <- workflow() %>%\n",
    "                add_recipe(heart_recipe) %>%\n",
    "                add_model(knn_spec) %>%\n",
    "                fit(data = patients_train)\n"
   ]
  },
  {
   "cell_type": "code",
   "execution_count": 64,
   "metadata": {},
   "outputs": [
    {
     "data": {
      "text/html": [
       "<table>\n",
       "<caption>A tibble: 74 × 8</caption>\n",
       "<thead>\n",
       "\t<tr><th scope=col>.pred_class</th><th scope=col>age</th><th scope=col>sex</th><th scope=col>cp</th><th scope=col>trestbps</th><th scope=col>chol</th><th scope=col>ca</th><th scope=col>num</th></tr>\n",
       "\t<tr><th scope=col>&lt;fct&gt;</th><th scope=col>&lt;dbl&gt;</th><th scope=col>&lt;dbl&gt;</th><th scope=col>&lt;dbl&gt;</th><th scope=col>&lt;dbl&gt;</th><th scope=col>&lt;dbl&gt;</th><th scope=col>&lt;chr&gt;</th><th scope=col>&lt;fct&gt;</th></tr>\n",
       "</thead>\n",
       "<tbody>\n",
       "\t<tr><td>0</td><td>62</td><td>0</td><td>4</td><td>140</td><td>268</td><td>2.0</td><td>3</td></tr>\n",
       "\t<tr><td>0</td><td>63</td><td>1</td><td>4</td><td>130</td><td>254</td><td>1.0</td><td>2</td></tr>\n",
       "\t<tr><td>0</td><td>57</td><td>1</td><td>4</td><td>140</td><td>192</td><td>0.0</td><td>0</td></tr>\n",
       "\t<tr><td>⋮</td><td>⋮</td><td>⋮</td><td>⋮</td><td>⋮</td><td>⋮</td><td>⋮</td><td>⋮</td></tr>\n",
       "\t<tr><td>0</td><td>57</td><td>1</td><td>4</td><td>110</td><td>335</td><td>1.0</td><td>2</td></tr>\n",
       "\t<tr><td>0</td><td>63</td><td>1</td><td>4</td><td>140</td><td>187</td><td>2.0</td><td>2</td></tr>\n",
       "\t<tr><td>0</td><td>63</td><td>0</td><td>4</td><td>124</td><td>197</td><td>0.0</td><td>1</td></tr>\n",
       "</tbody>\n",
       "</table>\n"
      ],
      "text/latex": [
       "A tibble: 74 × 8\n",
       "\\begin{tabular}{llllllll}\n",
       " .pred\\_class & age & sex & cp & trestbps & chol & ca & num\\\\\n",
       " <fct> & <dbl> & <dbl> & <dbl> & <dbl> & <dbl> & <chr> & <fct>\\\\\n",
       "\\hline\n",
       "\t 0 & 62 & 0 & 4 & 140 & 268 & 2.0 & 3\\\\\n",
       "\t 0 & 63 & 1 & 4 & 130 & 254 & 1.0 & 2\\\\\n",
       "\t 0 & 57 & 1 & 4 & 140 & 192 & 0.0 & 0\\\\\n",
       "\t ⋮ & ⋮ & ⋮ & ⋮ & ⋮ & ⋮ & ⋮ & ⋮\\\\\n",
       "\t 0 & 57 & 1 & 4 & 110 & 335 & 1.0 & 2\\\\\n",
       "\t 0 & 63 & 1 & 4 & 140 & 187 & 2.0 & 2\\\\\n",
       "\t 0 & 63 & 0 & 4 & 124 & 197 & 0.0 & 1\\\\\n",
       "\\end{tabular}\n"
      ],
      "text/markdown": [
       "\n",
       "A tibble: 74 × 8\n",
       "\n",
       "| .pred_class &lt;fct&gt; | age &lt;dbl&gt; | sex &lt;dbl&gt; | cp &lt;dbl&gt; | trestbps &lt;dbl&gt; | chol &lt;dbl&gt; | ca &lt;chr&gt; | num &lt;fct&gt; |\n",
       "|---|---|---|---|---|---|---|---|\n",
       "| 0 | 62 | 0 | 4 | 140 | 268 | 2.0 | 3 |\n",
       "| 0 | 63 | 1 | 4 | 130 | 254 | 1.0 | 2 |\n",
       "| 0 | 57 | 1 | 4 | 140 | 192 | 0.0 | 0 |\n",
       "| ⋮ | ⋮ | ⋮ | ⋮ | ⋮ | ⋮ | ⋮ | ⋮ |\n",
       "| 0 | 57 | 1 | 4 | 110 | 335 | 1.0 | 2 |\n",
       "| 0 | 63 | 1 | 4 | 140 | 187 | 2.0 | 2 |\n",
       "| 0 | 63 | 0 | 4 | 124 | 197 | 0.0 | 1 |\n",
       "\n"
      ],
      "text/plain": [
       "   .pred_class age sex cp trestbps chol ca  num\n",
       "1  0           62  0   4  140      268  2.0 3  \n",
       "2  0           63  1   4  130      254  1.0 2  \n",
       "3  0           57  1   4  140      192  0.0 0  \n",
       "⋮  ⋮           ⋮   ⋮   ⋮  ⋮        ⋮    ⋮   ⋮  \n",
       "72 0           57  1   4  110      335  1.0 2  \n",
       "73 0           63  1   4  140      187  2.0 2  \n",
       "74 0           63  0   4  124      197  0.0 1  "
      ]
     },
     "metadata": {},
     "output_type": "display_data"
    }
   ],
   "source": [
    "patients_test_predictions <- predict(knn_fit, patients_test) %>%\n",
    "                             bind_cols(patients_test)\n",
    "\n",
    "patients_test_predictions"
   ]
  },
  {
   "cell_type": "code",
   "execution_count": 65,
   "metadata": {},
   "outputs": [
    {
     "data": {
      "text/html": [
       "<table>\n",
       "<caption>A tibble: 1 × 3</caption>\n",
       "<thead>\n",
       "\t<tr><th scope=col>.metric</th><th scope=col>.estimator</th><th scope=col>.estimate</th></tr>\n",
       "\t<tr><th scope=col>&lt;chr&gt;</th><th scope=col>&lt;chr&gt;</th><th scope=col>&lt;dbl&gt;</th></tr>\n",
       "</thead>\n",
       "<tbody>\n",
       "\t<tr><td>accuracy</td><td>multiclass</td><td>0.5405405</td></tr>\n",
       "</tbody>\n",
       "</table>\n"
      ],
      "text/latex": [
       "A tibble: 1 × 3\n",
       "\\begin{tabular}{lll}\n",
       " .metric & .estimator & .estimate\\\\\n",
       " <chr> & <chr> & <dbl>\\\\\n",
       "\\hline\n",
       "\t accuracy & multiclass & 0.5405405\\\\\n",
       "\\end{tabular}\n"
      ],
      "text/markdown": [
       "\n",
       "A tibble: 1 × 3\n",
       "\n",
       "| .metric &lt;chr&gt; | .estimator &lt;chr&gt; | .estimate &lt;dbl&gt; |\n",
       "|---|---|---|\n",
       "| accuracy | multiclass | 0.5405405 |\n",
       "\n"
      ],
      "text/plain": [
       "  .metric  .estimator .estimate\n",
       "1 accuracy multiclass 0.5405405"
      ]
     },
     "metadata": {},
     "output_type": "display_data"
    }
   ],
   "source": [
    "patients_test_predictions_accuracy <- metrics(patients_test_predictions, truth = num, estimate = .pred_class) %>%\n",
    "                             filter(.metric == \"accuracy\")\n",
    "patients_test_predictions_accuracy"
   ]
  },
  {
   "cell_type": "code",
   "execution_count": 66,
   "metadata": {},
   "outputs": [
    {
     "data": {
      "text/plain": [
       "          Truth\n",
       "Prediction  0  1  2  3  4\n",
       "         0 40 12  9  8  3\n",
       "         1  1  0  1  0  0\n",
       "         2  0  0  0  0  0\n",
       "         3  0  0  0  0  0\n",
       "         4  0  0  0  0  0"
      ]
     },
     "metadata": {},
     "output_type": "display_data"
    }
   ],
   "source": [
    "confusion <- patients_test_predictions %>%\n",
    "             conf_mat(truth = num, estimate = .pred_class)\n",
    "\n",
    "confusion"
   ]
  },
  {
   "cell_type": "markdown",
   "metadata": {},
   "source": [
    "**Predicting new observation**"
   ]
  },
  {
   "cell_type": "code",
   "execution_count": null,
   "metadata": {},
   "outputs": [],
   "source": [
    "new_observation <- tibble(column = x, column = y, ...)\n",
    "prediction <- predict(knn_fit, new_observation)\n",
    "\n",
    "prediction"
   ]
  },
  {
   "cell_type": "markdown",
   "metadata": {},
   "source": [
    "## Expected outcomes and significance\n",
    "Increasing age and risk of contracting heart disease has consistently shown to be positively correlated (Roth et al. 2985) and the average lifestyle men lead incorporates more high-risk factors for heart disease compared to women. (Dai et al. 6) Older men are therefore more likely to contract cardiovascular diseases, and we would expect to see this reflected in our results.\n",
    " \n",
    "Ultimately, we aim to create a classification model that can contribute to the ongoing effort to help healthcare workers efficiently target individuals at risk of developing heart disease or quickly identify the severity of the disease for patients. \n"
   ]
  },
  {
   "cell_type": "markdown",
   "metadata": {},
   "source": [
    "## Limitations and further questions\n",
    "\n",
    "The dataset used to train our model used data collected from May 1981 to 1984 (Detrano et al. 305), and the age of the data was assumed negligible. Therefore, it would be interesting to repeat the project with more recent data to compare for any differences in observations. Furthermore, the proportion of low-income individuals in the test group is unknown. Considering the goal of our project, it would be worth exploring if focusing more explicitly on low-income individuals using the same model would produce different results"
   ]
  },
  {
   "cell_type": "markdown",
   "metadata": {},
   "source": [
    "## Bibliography \n",
    "\n",
    "Bowry, Ashna D. K., et al. ‘The Burden of Cardiovascular Disease in Low- and Middle-Income Countries: Epidemiology and Management’. Canadian Journal of Cardiology, vol. 31, no. 9, Sept. 2015, pp. 1151–59. DOI.org (Crossref), https://doi.org/10.1016/j.cjca.2015.06.028.\n",
    "\n",
    "Dai, Haijiang, et al. ‘Regional and Socioeconomic Disparities in Cardiovascular Disease in Canada during 2005–2016: Evidence from Repeated Nationwide Cross-Sectional Surveys’. BMJ Global Health, vol. 6, no. 11, Nov. 2021, p. e006809. DOI.org (Crossref), https://doi.org/10.1136/bmjgh-2021-006809.\n",
    "\n",
    "Detrano, Robert, et al. ‘International Application of a New Probability Algorithm for the Diagnosis of Coronary Artery Disease’. The American Journal of Cardiology, vol. 64, no. 5, Aug. 1989, pp. 304–10. ScienceDirect, https://doi.org/10.1016/0002-9149(89)90524-9.\n",
    "\n",
    "UCI Machine Learning Repository: Heart Disease Data Set. https://archive.ics.uci.edu/ml/datasets/Heart+Disease. Accessed 3 Mar. 2022.\n",
    "\n",
    "Roth, Gregory A., et al. ‘Global Burden of Cardiovascular Diseases and Risk Factors, 1990–2019’. Journal of the American College of Cardiology, vol. 76, no. 25, Dec. 2020, pp. 2982–3021. DOI.org (Crossref), https://doi.org/10.1016/j.jacc.2020.11.010.\n",
    "\n",
    "Marateb, Hamid Reza, and Sobhan Goudarzi. ‘A Noninvasive Method for Coronary Artery Diseases Diagnosis Using a Clinically-Interpretable Fuzzy Rule-Based System’. Journal of Research in Medical Sciences : The Official Journal of Isfahan University of Medical Sciences, vol. 20, no. 3, Mar. 2015, pp. 214–23.\n",
    "\n"
   ]
  },
  {
   "cell_type": "code",
   "execution_count": null,
   "metadata": {},
   "outputs": [],
   "source": []
  }
 ],
 "metadata": {
  "kernelspec": {
   "display_name": "R",
   "language": "R",
   "name": "ir"
  },
  "language_info": {
   "codemirror_mode": "r",
   "file_extension": ".r",
   "mimetype": "text/x-r-source",
   "name": "R",
   "pygments_lexer": "r",
   "version": "4.0.0"
  }
 },
 "nbformat": 4,
 "nbformat_minor": 4
}
