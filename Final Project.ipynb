{
 "cells": [
  {
   "cell_type": "markdown",
   "metadata": {},
   "source": [
    "# Predicting severity of heart disease through data analysis"
   ]
  },
  {
   "cell_type": "markdown",
   "metadata": {},
   "source": [
    "Group 10: Samantha Lam, Sohayl Allibhai, Amanda Yang, Bolun Xie\n",
    "\n"
   ]
  },
  {
   "cell_type": "markdown",
   "metadata": {},
   "source": [
    "## Introduction:\n",
    "\n",
    "Though treatment has advanced, the prevalence of heart disease has risen in lower-income communities, contributing to cardiovascular disease being a leading cause of premature death (Bowry et al. 2015). This trend is reflected in Canada with cardiovascular disease disproportionately increasing in lower-income areas despite the overall decline of heart disease in the general population (Dai et al. 2021). There is therefore demand for more efficient methods of diagnosing heart disease and we aim to ascertain the severity of heart disease for unique individuals by analyzing a list of attributes taken from a dataset from the Cleveland Clinic Foundation (Detrano et al. 1989). \n",
    "\n",
    "As such, we want to see if we are able to use the variables **age (years)**, **resting blood pressure in mmHg (restbps)** , and **serum cholestoral in mg/dL (chol)** to classify the severity of a unique individuals heart disease **(num)** with accurately using a K-nearest neighbour classification model. This model was chosen primarily because it requires very few assumptions about the data, which we did not have much information about. \n",
    "\n",
    "The predictor variables were chosen from the processed Cleveland data set both due to the strong correlation each had with the severity of heart disease (Detrano et al. 1989) and because they were quantifiable as the K-nearest neighbours classification model works best with quantifiable predictor variables. \n",
    "\n",
    "David W. Aha refined the raw dataset to create the processed dataset that we will utilize. (UCI Machine Learning Repository: Heart Disease Data Set). "
   ]
  },
  {
   "cell_type": "markdown",
   "metadata": {},
   "source": [
    "## Method"
   ]
  },
  {
   "cell_type": "markdown",
   "metadata": {},
   "source": [
    "Start by running the cell below to load the libraries needed for data analysis "
   ]
  },
  {
   "cell_type": "code",
   "execution_count": 1,
   "metadata": {},
   "outputs": [
    {
     "name": "stderr",
     "output_type": "stream",
     "text": [
      "── \u001b[1mAttaching packages\u001b[22m ─────────────────────────────────────── tidyverse 1.3.0 ──\n",
      "\n",
      "\u001b[32m✔\u001b[39m \u001b[34mggplot2\u001b[39m 3.3.2     \u001b[32m✔\u001b[39m \u001b[34mpurrr  \u001b[39m 0.3.4\n",
      "\u001b[32m✔\u001b[39m \u001b[34mtibble \u001b[39m 3.0.3     \u001b[32m✔\u001b[39m \u001b[34mdplyr  \u001b[39m 1.0.2\n",
      "\u001b[32m✔\u001b[39m \u001b[34mtidyr  \u001b[39m 1.1.2     \u001b[32m✔\u001b[39m \u001b[34mstringr\u001b[39m 1.4.0\n",
      "\u001b[32m✔\u001b[39m \u001b[34mreadr  \u001b[39m 1.3.1     \u001b[32m✔\u001b[39m \u001b[34mforcats\u001b[39m 0.5.0\n",
      "\n",
      "Warning message:\n",
      "“package ‘ggplot2’ was built under R version 4.0.1”\n",
      "Warning message:\n",
      "“package ‘tibble’ was built under R version 4.0.2”\n",
      "Warning message:\n",
      "“package ‘tidyr’ was built under R version 4.0.2”\n",
      "Warning message:\n",
      "“package ‘dplyr’ was built under R version 4.0.2”\n",
      "── \u001b[1mConflicts\u001b[22m ────────────────────────────────────────── tidyverse_conflicts() ──\n",
      "\u001b[31m✖\u001b[39m \u001b[34mdplyr\u001b[39m::\u001b[32mfilter()\u001b[39m masks \u001b[34mstats\u001b[39m::filter()\n",
      "\u001b[31m✖\u001b[39m \u001b[34mdplyr\u001b[39m::\u001b[32mlag()\u001b[39m    masks \u001b[34mstats\u001b[39m::lag()\n",
      "\n",
      "Warning message:\n",
      "“package ‘tidymodels’ was built under R version 4.0.2”\n",
      "── \u001b[1mAttaching packages\u001b[22m ────────────────────────────────────── tidymodels 0.1.1 ──\n",
      "\n",
      "\u001b[32m✔\u001b[39m \u001b[34mbroom    \u001b[39m 0.7.0      \u001b[32m✔\u001b[39m \u001b[34mrecipes  \u001b[39m 0.1.13\n",
      "\u001b[32m✔\u001b[39m \u001b[34mdials    \u001b[39m 0.0.9      \u001b[32m✔\u001b[39m \u001b[34mrsample  \u001b[39m 0.0.7 \n",
      "\u001b[32m✔\u001b[39m \u001b[34minfer    \u001b[39m 0.5.4      \u001b[32m✔\u001b[39m \u001b[34mtune     \u001b[39m 0.1.1 \n",
      "\u001b[32m✔\u001b[39m \u001b[34mmodeldata\u001b[39m 0.0.2      \u001b[32m✔\u001b[39m \u001b[34mworkflows\u001b[39m 0.2.0 \n",
      "\u001b[32m✔\u001b[39m \u001b[34mparsnip  \u001b[39m 0.1.3      \u001b[32m✔\u001b[39m \u001b[34myardstick\u001b[39m 0.0.7 \n",
      "\n",
      "Warning message:\n",
      "“package ‘broom’ was built under R version 4.0.2”\n",
      "Warning message:\n",
      "“package ‘dials’ was built under R version 4.0.2”\n",
      "Warning message:\n",
      "“package ‘infer’ was built under R version 4.0.3”\n",
      "Warning message:\n",
      "“package ‘modeldata’ was built under R version 4.0.1”\n",
      "Warning message:\n",
      "“package ‘parsnip’ was built under R version 4.0.2”\n",
      "Warning message:\n",
      "“package ‘recipes’ was built under R version 4.0.1”\n",
      "Warning message:\n",
      "“package ‘tune’ was built under R version 4.0.2”\n",
      "Warning message:\n",
      "“package ‘workflows’ was built under R version 4.0.2”\n",
      "Warning message:\n",
      "“package ‘yardstick’ was built under R version 4.0.2”\n",
      "── \u001b[1mConflicts\u001b[22m ───────────────────────────────────────── tidymodels_conflicts() ──\n",
      "\u001b[31m✖\u001b[39m \u001b[34mscales\u001b[39m::\u001b[32mdiscard()\u001b[39m masks \u001b[34mpurrr\u001b[39m::discard()\n",
      "\u001b[31m✖\u001b[39m \u001b[34mdplyr\u001b[39m::\u001b[32mfilter()\u001b[39m   masks \u001b[34mstats\u001b[39m::filter()\n",
      "\u001b[31m✖\u001b[39m \u001b[34mrecipes\u001b[39m::\u001b[32mfixed()\u001b[39m  masks \u001b[34mstringr\u001b[39m::fixed()\n",
      "\u001b[31m✖\u001b[39m \u001b[34mdplyr\u001b[39m::\u001b[32mlag()\u001b[39m      masks \u001b[34mstats\u001b[39m::lag()\n",
      "\u001b[31m✖\u001b[39m \u001b[34myardstick\u001b[39m::\u001b[32mspec()\u001b[39m masks \u001b[34mreadr\u001b[39m::spec()\n",
      "\u001b[31m✖\u001b[39m \u001b[34mrecipes\u001b[39m::\u001b[32mstep()\u001b[39m   masks \u001b[34mstats\u001b[39m::step()\n",
      "\n"
     ]
    }
   ],
   "source": [
    "library(tidyverse)\n",
    "library(repr)\n",
    "library(tidymodels)\n",
    "#install.packages(\"themis\")\n",
    "#library(themis)\n",
    "options(repr.matrix.max.rows = 6)"
   ]
  },
  {
   "cell_type": "markdown",
   "metadata": {},
   "source": [
    "### Preliminary Exploration"
   ]
  },
  {
   "cell_type": "markdown",
   "metadata": {},
   "source": [
    "Download the dataset and read it into a dataframe."
   ]
  },
  {
   "cell_type": "code",
   "execution_count": 2,
   "metadata": {},
   "outputs": [
    {
     "name": "stderr",
     "output_type": "stream",
     "text": [
      "Parsed with column specification:\n",
      "cols(\n",
      "  X1 = \u001b[32mcol_double()\u001b[39m,\n",
      "  X2 = \u001b[32mcol_double()\u001b[39m,\n",
      "  X3 = \u001b[32mcol_double()\u001b[39m,\n",
      "  X4 = \u001b[32mcol_double()\u001b[39m,\n",
      "  X5 = \u001b[32mcol_double()\u001b[39m,\n",
      "  X6 = \u001b[32mcol_double()\u001b[39m,\n",
      "  X7 = \u001b[32mcol_double()\u001b[39m,\n",
      "  X8 = \u001b[32mcol_double()\u001b[39m,\n",
      "  X9 = \u001b[32mcol_double()\u001b[39m,\n",
      "  X10 = \u001b[32mcol_double()\u001b[39m,\n",
      "  X11 = \u001b[32mcol_double()\u001b[39m,\n",
      "  X12 = \u001b[31mcol_character()\u001b[39m,\n",
      "  X13 = \u001b[31mcol_character()\u001b[39m,\n",
      "  X14 = \u001b[32mcol_double()\u001b[39m\n",
      ")\n",
      "\n"
     ]
    }
   ],
   "source": [
    "my_url <- \"https://archive.ics.uci.edu/ml/machine-learning-databases/heart-disease/processed.cleveland.data\"\n",
    "download.file(my_url, \"cleveland.csv\")\n",
    "cleveland_sel <- read_csv(\"cleveland.csv\", col_names = FALSE)\n",
    "cleveland_sel <- rename(cleveland_sel, \"age\" = X1,\n",
    "                     \"sex\" = X2,\n",
    "                     \"cp\" = X3,\n",
    "                     \"restbps\" = X4,\n",
    "                     \"chol\" = X5,\n",
    "                     \"fbs\" = X6,\n",
    "                     \"restecg\" = X7,\n",
    "                     \"thalach\" = X8,\n",
    "                     \"exnag\" = X9,\n",
    "                     \"oldpeak\" = X10,\n",
    "                     \"slope\" = X11,\n",
    "                     \"ca\" = X12,\n",
    "                     \"thal\" = X13,\n",
    "                     \"num\" = X14)"
   ]
  },
  {
   "cell_type": "markdown",
   "metadata": {},
   "source": [
    "Here we select for our chosen predictor variables, **age**, **restbps** (resting blood pressure), **chol** (serum cholestoral in mg/dl) and target variable **num** (diagnosis of heart disease and severity) that we want to use to build our model\n"
   ]
  },
  {
   "cell_type": "code",
   "execution_count": 3,
   "metadata": {},
   "outputs": [
    {
     "data": {
      "text/html": [
       "<table>\n",
       "<caption>A tibble: 303 × 4</caption>\n",
       "<thead>\n",
       "\t<tr><th scope=col>age</th><th scope=col>restbps</th><th scope=col>chol</th><th scope=col>num</th></tr>\n",
       "\t<tr><th scope=col>&lt;dbl&gt;</th><th scope=col>&lt;dbl&gt;</th><th scope=col>&lt;dbl&gt;</th><th scope=col>&lt;dbl&gt;</th></tr>\n",
       "</thead>\n",
       "<tbody>\n",
       "\t<tr><td>63</td><td>145</td><td>233</td><td>0</td></tr>\n",
       "\t<tr><td>67</td><td>160</td><td>286</td><td>2</td></tr>\n",
       "\t<tr><td>67</td><td>120</td><td>229</td><td>1</td></tr>\n",
       "\t<tr><td>⋮</td><td>⋮</td><td>⋮</td><td>⋮</td></tr>\n",
       "\t<tr><td>57</td><td>130</td><td>131</td><td>3</td></tr>\n",
       "\t<tr><td>57</td><td>130</td><td>236</td><td>1</td></tr>\n",
       "\t<tr><td>38</td><td>138</td><td>175</td><td>0</td></tr>\n",
       "</tbody>\n",
       "</table>\n"
      ],
      "text/latex": [
       "A tibble: 303 × 4\n",
       "\\begin{tabular}{llll}\n",
       " age & restbps & chol & num\\\\\n",
       " <dbl> & <dbl> & <dbl> & <dbl>\\\\\n",
       "\\hline\n",
       "\t 63 & 145 & 233 & 0\\\\\n",
       "\t 67 & 160 & 286 & 2\\\\\n",
       "\t 67 & 120 & 229 & 1\\\\\n",
       "\t ⋮ & ⋮ & ⋮ & ⋮\\\\\n",
       "\t 57 & 130 & 131 & 3\\\\\n",
       "\t 57 & 130 & 236 & 1\\\\\n",
       "\t 38 & 138 & 175 & 0\\\\\n",
       "\\end{tabular}\n"
      ],
      "text/markdown": [
       "\n",
       "A tibble: 303 × 4\n",
       "\n",
       "| age &lt;dbl&gt; | restbps &lt;dbl&gt; | chol &lt;dbl&gt; | num &lt;dbl&gt; |\n",
       "|---|---|---|---|\n",
       "| 63 | 145 | 233 | 0 |\n",
       "| 67 | 160 | 286 | 2 |\n",
       "| 67 | 120 | 229 | 1 |\n",
       "| ⋮ | ⋮ | ⋮ | ⋮ |\n",
       "| 57 | 130 | 131 | 3 |\n",
       "| 57 | 130 | 236 | 1 |\n",
       "| 38 | 138 | 175 | 0 |\n",
       "\n"
      ],
      "text/plain": [
       "    age restbps chol num\n",
       "1   63  145     233  0  \n",
       "2   67  160     286  2  \n",
       "3   67  120     229  1  \n",
       "⋮   ⋮   ⋮       ⋮    ⋮  \n",
       "301 57  130     131  3  \n",
       "302 57  130     236  1  \n",
       "303 38  138     175  0  "
      ]
     },
     "metadata": {},
     "output_type": "display_data"
    }
   ],
   "source": [
    "cleveland_df_sel<-select(cleveland_sel,age, restbps, chol, num)\n",
    "cleveland_df_sel"
   ]
  },
  {
   "cell_type": "markdown",
   "metadata": {},
   "source": [
    "Convert the **num** numerical variable into a factor, as this is what we wish to predict using our model. "
   ]
  },
  {
   "cell_type": "code",
   "execution_count": 4,
   "metadata": {},
   "outputs": [
    {
     "data": {
      "text/html": [
       "<table>\n",
       "<caption>A tibble: 303 × 4</caption>\n",
       "<thead>\n",
       "\t<tr><th scope=col>age</th><th scope=col>restbps</th><th scope=col>chol</th><th scope=col>num</th></tr>\n",
       "\t<tr><th scope=col>&lt;dbl&gt;</th><th scope=col>&lt;dbl&gt;</th><th scope=col>&lt;dbl&gt;</th><th scope=col>&lt;fct&gt;</th></tr>\n",
       "</thead>\n",
       "<tbody>\n",
       "\t<tr><td>63</td><td>145</td><td>233</td><td>0</td></tr>\n",
       "\t<tr><td>67</td><td>160</td><td>286</td><td>2</td></tr>\n",
       "\t<tr><td>67</td><td>120</td><td>229</td><td>1</td></tr>\n",
       "\t<tr><td>⋮</td><td>⋮</td><td>⋮</td><td>⋮</td></tr>\n",
       "\t<tr><td>57</td><td>130</td><td>131</td><td>3</td></tr>\n",
       "\t<tr><td>57</td><td>130</td><td>236</td><td>1</td></tr>\n",
       "\t<tr><td>38</td><td>138</td><td>175</td><td>0</td></tr>\n",
       "</tbody>\n",
       "</table>\n"
      ],
      "text/latex": [
       "A tibble: 303 × 4\n",
       "\\begin{tabular}{llll}\n",
       " age & restbps & chol & num\\\\\n",
       " <dbl> & <dbl> & <dbl> & <fct>\\\\\n",
       "\\hline\n",
       "\t 63 & 145 & 233 & 0\\\\\n",
       "\t 67 & 160 & 286 & 2\\\\\n",
       "\t 67 & 120 & 229 & 1\\\\\n",
       "\t ⋮ & ⋮ & ⋮ & ⋮\\\\\n",
       "\t 57 & 130 & 131 & 3\\\\\n",
       "\t 57 & 130 & 236 & 1\\\\\n",
       "\t 38 & 138 & 175 & 0\\\\\n",
       "\\end{tabular}\n"
      ],
      "text/markdown": [
       "\n",
       "A tibble: 303 × 4\n",
       "\n",
       "| age &lt;dbl&gt; | restbps &lt;dbl&gt; | chol &lt;dbl&gt; | num &lt;fct&gt; |\n",
       "|---|---|---|---|\n",
       "| 63 | 145 | 233 | 0 |\n",
       "| 67 | 160 | 286 | 2 |\n",
       "| 67 | 120 | 229 | 1 |\n",
       "| ⋮ | ⋮ | ⋮ | ⋮ |\n",
       "| 57 | 130 | 131 | 3 |\n",
       "| 57 | 130 | 236 | 1 |\n",
       "| 38 | 138 | 175 | 0 |\n",
       "\n"
      ],
      "text/plain": [
       "    age restbps chol num\n",
       "1   63  145     233  0  \n",
       "2   67  160     286  2  \n",
       "3   67  120     229  1  \n",
       "⋮   ⋮   ⋮       ⋮    ⋮  \n",
       "301 57  130     131  3  \n",
       "302 57  130     236  1  \n",
       "303 38  138     175  0  "
      ]
     },
     "metadata": {},
     "output_type": "display_data"
    }
   ],
   "source": [
    "cleveland_df_sel <- cleveland_df_sel %>% mutate(num=as_factor(num))\n",
    "cleveland_df_sel"
   ]
  },
  {
   "cell_type": "markdown",
   "metadata": {},
   "source": [
    "As there as different classes of severity of heart disease, with **0** being no heart disease and **4** being severe heart disease (Nahar et al., 2013), we want to find the percentage of the different classes of severity of heart disease to better understand the distribution. "
   ]
  },
  {
   "cell_type": "code",
   "execution_count": 54,
   "metadata": {},
   "outputs": [
    {
     "name": "stderr",
     "output_type": "stream",
     "text": [
      "`summarise()` ungrouping output (override with `.groups` argument)\n",
      "\n"
     ]
    },
    {
     "data": {
      "text/html": [
       "<table>\n",
       "<caption>A tibble: 5 × 3</caption>\n",
       "<thead>\n",
       "\t<tr><th scope=col>num</th><th scope=col>count</th><th scope=col>percentage</th></tr>\n",
       "\t<tr><th scope=col>&lt;fct&gt;</th><th scope=col>&lt;int&gt;</th><th scope=col>&lt;dbl&gt;</th></tr>\n",
       "</thead>\n",
       "<tbody>\n",
       "\t<tr><td>0</td><td>164</td><td>54.125413</td></tr>\n",
       "\t<tr><td>1</td><td> 55</td><td>18.151815</td></tr>\n",
       "\t<tr><td>2</td><td> 36</td><td>11.881188</td></tr>\n",
       "\t<tr><td>3</td><td> 35</td><td>11.551155</td></tr>\n",
       "\t<tr><td>4</td><td> 13</td><td> 4.290429</td></tr>\n",
       "</tbody>\n",
       "</table>\n"
      ],
      "text/latex": [
       "A tibble: 5 × 3\n",
       "\\begin{tabular}{lll}\n",
       " num & count & percentage\\\\\n",
       " <fct> & <int> & <dbl>\\\\\n",
       "\\hline\n",
       "\t 0 & 164 & 54.125413\\\\\n",
       "\t 1 &  55 & 18.151815\\\\\n",
       "\t 2 &  36 & 11.881188\\\\\n",
       "\t 3 &  35 & 11.551155\\\\\n",
       "\t 4 &  13 &  4.290429\\\\\n",
       "\\end{tabular}\n"
      ],
      "text/markdown": [
       "\n",
       "A tibble: 5 × 3\n",
       "\n",
       "| num &lt;fct&gt; | count &lt;int&gt; | percentage &lt;dbl&gt; |\n",
       "|---|---|---|\n",
       "| 0 | 164 | 54.125413 |\n",
       "| 1 |  55 | 18.151815 |\n",
       "| 2 |  36 | 11.881188 |\n",
       "| 3 |  35 | 11.551155 |\n",
       "| 4 |  13 |  4.290429 |\n",
       "\n"
      ],
      "text/plain": [
       "  num count percentage\n",
       "1 0   164   54.125413 \n",
       "2 1    55   18.151815 \n",
       "3 2    36   11.881188 \n",
       "4 3    35   11.551155 \n",
       "5 4    13    4.290429 "
      ]
     },
     "metadata": {},
     "output_type": "display_data"
    }
   ],
   "source": [
    "num_obs <- nrow(cleveland_df_sel) \n",
    "cleveland_df_sel %>% \n",
    "    group_by(num) %>% \n",
    "    summarize(\n",
    "        count = n(), \n",
    "        percentage = n() / num_obs * 100) "
   ]
  },
  {
   "cell_type": "markdown",
   "metadata": {},
   "source": [
    "We then explore the data by creating visual representations of the variables relationships to one another. We will explore the relationships as such \n",
    "\n",
    "1. Age and resting blood pressure\n",
    "2. Age and serum cholestoral\n",
    "3. Resting blood pressure and serum cholerstoral\n"
   ]
  },
  {
   "cell_type": "markdown",
   "metadata": {},
   "source": [
    "#### Relationship between age and resting blood pressure "
   ]
  },
  {
   "cell_type": "markdown",
   "metadata": {},
   "source": [
    "There is a strong correlation between **age and resting blood pressure** (Roth et al. 2020), and we would therefore like to explore this relationship in our data set. Diagnosis refers to the severity of heart disease diagnosed with 0 being no heart disease and 4 being severe heart disease."
   ]
  },
  {
   "cell_type": "code",
   "execution_count": 55,
   "metadata": {},
   "outputs": [
    {
     "data": {
      "image/png": "[encoded data removed]",
      "text/plain": [
       "plot without title"
      ]
     },
     "metadata": {
      "image/png": {
       "height": 420,
       "width": 420
      }
     },
     "output_type": "display_data"
    }
   ],
   "source": [
    "age_restbps <- cleveland_df_sel %>% \n",
    "    ggplot(aes(x=age,y=restbps, color = num)) +\n",
    "    geom_point() + \n",
    "    labs(x=\"Age(Years)\", y=\"Resting Blood Pressure (mmHg)\", color = \"Diagnosis\")+\n",
    "    theme(text = element_text(size = 20))+ \n",
    "    ggtitle(\"Age Vs Resting Blood Pressure\")\n",
    "\n",
    "age_restbps"
   ]
  },
  {
   "cell_type": "markdown",
   "metadata": {},
   "source": [
    "From this we can see that _____ "
   ]
  },
  {
   "cell_type": "markdown",
   "metadata": {},
   "source": [
    "#### Relationship between age and serum cholestoral"
   ]
  },
  {
   "cell_type": "markdown",
   "metadata": {},
   "source": [
    "There is also a strong correlation between **age and serum cholestoral** (Libby and Theroux 2005), and we would therefore like to explore this relationship in our data set. Diagnosis refers to the severity of heart disease diagnosed with 0 being no heart disease and 4 being severe heart disease.\n"
   ]
  },
  {
   "cell_type": "code",
   "execution_count": 56,
   "metadata": {},
   "outputs": [
    {
     "data": {
      "image/png": "[encoded data removed]",
      "text/plain": [
       "plot without title"
      ]
     },
     "metadata": {
      "image/png": {
       "height": 420,
       "width": 420
      }
     },
     "output_type": "display_data"
    }
   ],
   "source": [
    "age_chol <- cleveland_df_sel %>% \n",
    "    ggplot(aes(x=age,y=restbps, color = num)) +\n",
    "    geom_point() + \n",
    "    labs(x=\"Age(Years)\", y=\"Serum cholestoral in mg/dl\", color = \"Diagnosis\")+\n",
    "    theme(text = element_text(size = 20))+ \n",
    "    ggtitle(\"Age Vs Serum cholestoral\")\n",
    "\n",
    "age_chol"
   ]
  },
  {
   "cell_type": "markdown",
   "metadata": {},
   "source": [
    "#### Relationship between resting blood pressure and serum cholestoral"
   ]
  },
  {
   "cell_type": "markdown",
   "metadata": {},
   "source": [
    "There is also a strong correlation between **resting blood pressure and serum cholestoral**  (Mannien et al. 1992), and we would therefore like to explore this relationship in our data set. Diagnosis refers to the severity of heart disease diagnosed with 0 being no heart disease and 4 being severe heart disease.\n"
   ]
  },
  {
   "cell_type": "code",
   "execution_count": null,
   "metadata": {},
   "outputs": [],
   "source": [
    "age_num <- cleveland_df_sel %>% \n",
    "    ggplot(aes(x=restbps,y=chol, color = num)) +\n",
    "    geom_point() + \n",
    "    labs(x=\"Resting Blood Pressure (mmHg)\", y=\"Serum cholestoral in mg/dl\", color = \"Diagnosis\")+\n",
    "    theme(text = element_text(size = 20))+ \n",
    "    ggtitle(\"Resting Blood Pressure Vs Serum cholestoral\")\n",
    "\n",
    "age_num"
   ]
  },
  {
   "cell_type": "markdown",
   "metadata": {},
   "source": [
    "With this, we have finished exploring the data with visualisations. We have established that there are correlations between age, serum cholesterol (chol) and resting blood pressure (trestbps). _(add other reasons to do with num)_ From this, we can be more confident that we can use these three variables to predict the severity of heart disease (num). "
   ]
  },
  {
   "cell_type": "markdown",
   "metadata": {},
   "source": [
    "### Building the K-nearest neighbors classification model "
   ]
  },
  {
   "cell_type": "markdown",
   "metadata": {},
   "source": [
    "Run this to set the seed **(This is not optional as we want to be able to reproduce this data)** and split the data into training and testing sets in a 70:30 ratio. We used a 70/30 split here because we found this made our training set large enough to train our model as accurately as possible whilst still having our test set large enough to assess the accuracy of our model. "
   ]
  },
  {
   "cell_type": "code",
   "execution_count": 6,
   "metadata": {},
   "outputs": [
    {
     "data": {
      "text/html": [
       "<table>\n",
       "<caption>A tibble: 89 × 4</caption>\n",
       "<thead>\n",
       "\t<tr><th scope=col>age</th><th scope=col>restbps</th><th scope=col>chol</th><th scope=col>num</th></tr>\n",
       "\t<tr><th scope=col>&lt;dbl&gt;</th><th scope=col>&lt;dbl&gt;</th><th scope=col>&lt;dbl&gt;</th><th scope=col>&lt;fct&gt;</th></tr>\n",
       "</thead>\n",
       "<tbody>\n",
       "\t<tr><td>53</td><td>140</td><td>203</td><td>1</td></tr>\n",
       "\t<tr><td>57</td><td>140</td><td>192</td><td>0</td></tr>\n",
       "\t<tr><td>56</td><td>140</td><td>294</td><td>0</td></tr>\n",
       "\t<tr><td>⋮</td><td>⋮</td><td>⋮</td><td>⋮</td></tr>\n",
       "\t<tr><td>39</td><td>138</td><td>220</td><td>0</td></tr>\n",
       "\t<tr><td>58</td><td>130</td><td>197</td><td>0</td></tr>\n",
       "\t<tr><td>59</td><td>164</td><td>176</td><td>3</td></tr>\n",
       "</tbody>\n",
       "</table>\n"
      ],
      "text/latex": [
       "A tibble: 89 × 4\n",
       "\\begin{tabular}{llll}\n",
       " age & restbps & chol & num\\\\\n",
       " <dbl> & <dbl> & <dbl> & <fct>\\\\\n",
       "\\hline\n",
       "\t 53 & 140 & 203 & 1\\\\\n",
       "\t 57 & 140 & 192 & 0\\\\\n",
       "\t 56 & 140 & 294 & 0\\\\\n",
       "\t ⋮ & ⋮ & ⋮ & ⋮\\\\\n",
       "\t 39 & 138 & 220 & 0\\\\\n",
       "\t 58 & 130 & 197 & 0\\\\\n",
       "\t 59 & 164 & 176 & 3\\\\\n",
       "\\end{tabular}\n"
      ],
      "text/markdown": [
       "\n",
       "A tibble: 89 × 4\n",
       "\n",
       "| age &lt;dbl&gt; | restbps &lt;dbl&gt; | chol &lt;dbl&gt; | num &lt;fct&gt; |\n",
       "|---|---|---|---|\n",
       "| 53 | 140 | 203 | 1 |\n",
       "| 57 | 140 | 192 | 0 |\n",
       "| 56 | 140 | 294 | 0 |\n",
       "| ⋮ | ⋮ | ⋮ | ⋮ |\n",
       "| 39 | 138 | 220 | 0 |\n",
       "| 58 | 130 | 197 | 0 |\n",
       "| 59 | 164 | 176 | 3 |\n",
       "\n"
      ],
      "text/plain": [
       "   age restbps chol num\n",
       "1  53  140     203  1  \n",
       "2  57  140     192  0  \n",
       "3  56  140     294  0  \n",
       "⋮  ⋮   ⋮       ⋮    ⋮  \n",
       "87 39  138     220  0  \n",
       "88 58  130     197  0  \n",
       "89 59  164     176  3  "
      ]
     },
     "metadata": {},
     "output_type": "display_data"
    },
    {
     "data": {
      "text/html": [
       "<table>\n",
       "<caption>A tibble: 214 × 4</caption>\n",
       "<thead>\n",
       "\t<tr><th scope=col>age</th><th scope=col>restbps</th><th scope=col>chol</th><th scope=col>num</th></tr>\n",
       "\t<tr><th scope=col>&lt;dbl&gt;</th><th scope=col>&lt;dbl&gt;</th><th scope=col>&lt;dbl&gt;</th><th scope=col>&lt;fct&gt;</th></tr>\n",
       "</thead>\n",
       "<tbody>\n",
       "\t<tr><td>63</td><td>145</td><td>233</td><td>0</td></tr>\n",
       "\t<tr><td>67</td><td>160</td><td>286</td><td>2</td></tr>\n",
       "\t<tr><td>67</td><td>120</td><td>229</td><td>1</td></tr>\n",
       "\t<tr><td>⋮</td><td>⋮</td><td>⋮</td><td>⋮</td></tr>\n",
       "\t<tr><td>57</td><td>130</td><td>131</td><td>3</td></tr>\n",
       "\t<tr><td>57</td><td>130</td><td>236</td><td>1</td></tr>\n",
       "\t<tr><td>38</td><td>138</td><td>175</td><td>0</td></tr>\n",
       "</tbody>\n",
       "</table>\n"
      ],
      "text/latex": [
       "A tibble: 214 × 4\n",
       "\\begin{tabular}{llll}\n",
       " age & restbps & chol & num\\\\\n",
       " <dbl> & <dbl> & <dbl> & <fct>\\\\\n",
       "\\hline\n",
       "\t 63 & 145 & 233 & 0\\\\\n",
       "\t 67 & 160 & 286 & 2\\\\\n",
       "\t 67 & 120 & 229 & 1\\\\\n",
       "\t ⋮ & ⋮ & ⋮ & ⋮\\\\\n",
       "\t 57 & 130 & 131 & 3\\\\\n",
       "\t 57 & 130 & 236 & 1\\\\\n",
       "\t 38 & 138 & 175 & 0\\\\\n",
       "\\end{tabular}\n"
      ],
      "text/markdown": [
       "\n",
       "A tibble: 214 × 4\n",
       "\n",
       "| age &lt;dbl&gt; | restbps &lt;dbl&gt; | chol &lt;dbl&gt; | num &lt;fct&gt; |\n",
       "|---|---|---|---|\n",
       "| 63 | 145 | 233 | 0 |\n",
       "| 67 | 160 | 286 | 2 |\n",
       "| 67 | 120 | 229 | 1 |\n",
       "| ⋮ | ⋮ | ⋮ | ⋮ |\n",
       "| 57 | 130 | 131 | 3 |\n",
       "| 57 | 130 | 236 | 1 |\n",
       "| 38 | 138 | 175 | 0 |\n",
       "\n"
      ],
      "text/plain": [
       "    age restbps chol num\n",
       "1   63  145     233  0  \n",
       "2   67  160     286  2  \n",
       "3   67  120     229  1  \n",
       "⋮   ⋮   ⋮       ⋮    ⋮  \n",
       "212 57  130     131  3  \n",
       "213 57  130     236  1  \n",
       "214 38  138     175  0  "
      ]
     },
     "metadata": {},
     "output_type": "display_data"
    }
   ],
   "source": [
    "set.seed(888)\n",
    "\n",
    "patients_split<-initial_split(cleveland_df_sel, prop = 0.70, strata = num) \n",
    "patients_train<- training(patients_split)\n",
    "patients_test<- testing(patients_split)\n",
    "\n",
    "patients_test\n",
    "patients_train\n",
    "\n"
   ]
  },
  {
   "cell_type": "code",
   "execution_count": 7,
   "metadata": {},
   "outputs": [
    {
     "name": "stderr",
     "output_type": "stream",
     "text": [
      "`summarise()` ungrouping output (override with `.groups` argument)\n",
      "\n"
     ]
    },
    {
     "data": {
      "text/html": [
       "<table>\n",
       "<caption>A tibble: 5 × 3</caption>\n",
       "<thead>\n",
       "\t<tr><th scope=col>num</th><th scope=col>n</th><th scope=col>percent</th></tr>\n",
       "\t<tr><th scope=col>&lt;fct&gt;</th><th scope=col>&lt;int&gt;</th><th scope=col>&lt;dbl&gt;</th></tr>\n",
       "</thead>\n",
       "<tbody>\n",
       "\t<tr><td>0</td><td>114</td><td>53.271028</td></tr>\n",
       "\t<tr><td>1</td><td> 40</td><td>18.691589</td></tr>\n",
       "\t<tr><td>2</td><td> 27</td><td>12.616822</td></tr>\n",
       "\t<tr><td>3</td><td> 26</td><td>12.149533</td></tr>\n",
       "\t<tr><td>4</td><td>  7</td><td> 3.271028</td></tr>\n",
       "</tbody>\n",
       "</table>\n"
      ],
      "text/latex": [
       "A tibble: 5 × 3\n",
       "\\begin{tabular}{lll}\n",
       " num & n & percent\\\\\n",
       " <fct> & <int> & <dbl>\\\\\n",
       "\\hline\n",
       "\t 0 & 114 & 53.271028\\\\\n",
       "\t 1 &  40 & 18.691589\\\\\n",
       "\t 2 &  27 & 12.616822\\\\\n",
       "\t 3 &  26 & 12.149533\\\\\n",
       "\t 4 &   7 &  3.271028\\\\\n",
       "\\end{tabular}\n"
      ],
      "text/markdown": [
       "\n",
       "A tibble: 5 × 3\n",
       "\n",
       "| num &lt;fct&gt; | n &lt;int&gt; | percent &lt;dbl&gt; |\n",
       "|---|---|---|\n",
       "| 0 | 114 | 53.271028 |\n",
       "| 1 |  40 | 18.691589 |\n",
       "| 2 |  27 | 12.616822 |\n",
       "| 3 |  26 | 12.149533 |\n",
       "| 4 |   7 |  3.271028 |\n",
       "\n"
      ],
      "text/plain": [
       "  num n   percent  \n",
       "1 0   114 53.271028\n",
       "2 1    40 18.691589\n",
       "3 2    27 12.616822\n",
       "4 3    26 12.149533\n",
       "5 4     7  3.271028"
      ]
     },
     "metadata": {},
     "output_type": "display_data"
    }
   ],
   "source": [
    "disease_prop <- patients_train %>%\n",
    "    group_by(num) %>%\n",
    "    summarize(n=n()) %>%\n",
    "    mutate(percent = 100*n/nrow(patients_train))\n",
    "\n",
    "disease_prop"
   ]
  },
  {
   "cell_type": "markdown",
   "metadata": {},
   "source": [
    "Referencing this data to the original proportions of the dataset, confirms that the proportions were preserved during the split. This is good as it means that the training set is comparable to the original dataset. \n",
    "\n",
    "_We have copied the code cell for the proportions of the original dataset below for easy comparison_ "
   ]
  },
  {
   "cell_type": "code",
   "execution_count": 63,
   "metadata": {},
   "outputs": [
    {
     "name": "stderr",
     "output_type": "stream",
     "text": [
      "`summarise()` ungrouping output (override with `.groups` argument)\n",
      "\n"
     ]
    },
    {
     "data": {
      "text/html": [
       "<table>\n",
       "<caption>A tibble: 5 × 3</caption>\n",
       "<thead>\n",
       "\t<tr><th scope=col>num</th><th scope=col>count</th><th scope=col>percentage</th></tr>\n",
       "\t<tr><th scope=col>&lt;fct&gt;</th><th scope=col>&lt;int&gt;</th><th scope=col>&lt;dbl&gt;</th></tr>\n",
       "</thead>\n",
       "<tbody>\n",
       "\t<tr><td>0</td><td>164</td><td>54.125413</td></tr>\n",
       "\t<tr><td>1</td><td> 55</td><td>18.151815</td></tr>\n",
       "\t<tr><td>2</td><td> 36</td><td>11.881188</td></tr>\n",
       "\t<tr><td>3</td><td> 35</td><td>11.551155</td></tr>\n",
       "\t<tr><td>4</td><td> 13</td><td> 4.290429</td></tr>\n",
       "</tbody>\n",
       "</table>\n"
      ],
      "text/latex": [
       "A tibble: 5 × 3\n",
       "\\begin{tabular}{lll}\n",
       " num & count & percentage\\\\\n",
       " <fct> & <int> & <dbl>\\\\\n",
       "\\hline\n",
       "\t 0 & 164 & 54.125413\\\\\n",
       "\t 1 &  55 & 18.151815\\\\\n",
       "\t 2 &  36 & 11.881188\\\\\n",
       "\t 3 &  35 & 11.551155\\\\\n",
       "\t 4 &  13 &  4.290429\\\\\n",
       "\\end{tabular}\n"
      ],
      "text/markdown": [
       "\n",
       "A tibble: 5 × 3\n",
       "\n",
       "| num &lt;fct&gt; | count &lt;int&gt; | percentage &lt;dbl&gt; |\n",
       "|---|---|---|\n",
       "| 0 | 164 | 54.125413 |\n",
       "| 1 |  55 | 18.151815 |\n",
       "| 2 |  36 | 11.881188 |\n",
       "| 3 |  35 | 11.551155 |\n",
       "| 4 |  13 |  4.290429 |\n",
       "\n"
      ],
      "text/plain": [
       "  num count percentage\n",
       "1 0   164   54.125413 \n",
       "2 1    55   18.151815 \n",
       "3 2    36   11.881188 \n",
       "4 3    35   11.551155 \n",
       "5 4    13    4.290429 "
      ]
     },
     "metadata": {},
     "output_type": "display_data"
    }
   ],
   "source": [
    "num_obs <- nrow(cleveland_df_sel) \n",
    "cleveland_df_sel %>% \n",
    "    group_by(num) %>% \n",
    "    summarize(\n",
    "        count = n(), \n",
    "        percentage = n() / num_obs * 100) "
   ]
  },
  {
   "cell_type": "markdown",
   "metadata": {},
   "source": [
    "### Pre-Process Data"
   ]
  },
  {
   "cell_type": "markdown",
   "metadata": {},
   "source": [
    "As we have three predictors that we can use to predict heart disease severity, we want to find the best subset of predictors to build our classifier model. To do so, we will have to build four verisons of our classifier \n",
    "\n",
    "1. Classifer with all three predictors (age, restbps, chol) \n",
    "2. Classifier with only chol and age \n",
    "3. Classifier with only chol and restbps\n",
    "4. Classifier with only age and restbps \n",
    "\n",
    "Futhermore, as we are using a K-nearest neighbours classifier, we have a parameter K. In order to build the most accurate classifer, we want to choose the best K. To do so, we want to both cross-validate and tune our model. \n",
    "\n",
    "To split up our training data for cross-validation, we will create the object **heart_vfold**. \n",
    "\n",
    "Similarily, to tune our model and create our model specification, we will create the object **knn_tune**. \n",
    "\n",
    "To assess the accuracy of our model, we will have to fit the model for each value for all our K values, as such we will have to create a data frame **k_vals** that contain all the values of K to try. \n",
    "\n",
    "We explain this here to show that **heart_vfold, knn_tune** and **k_vals** will all be identifical in all four versions of our classifer model as they do not depend on the chosen variables. Therefore, we will write and run the code for all three below **before** building our classifers for conciseness and readability. "
   ]
  },
  {
   "cell_type": "code",
   "execution_count": 8,
   "metadata": {},
   "outputs": [],
   "source": [
    "knn_tune <- nearest_neighbor(weight_func = \"rectangular\", neighbors = tune()) %>%\n",
    "    set_engine(\"kknn\") %>%\n",
    "    set_mode(\"classification\")"
   ]
  },
  {
   "cell_type": "code",
   "execution_count": 9,
   "metadata": {},
   "outputs": [],
   "source": [
    "heart_vfold <- vfold_cv(patients_train, v=5, strata = num)\n",
    "\n",
    "#we specified 5 folds instead of 10 for our cross validation as it resulted\n",
    "#in a higher accuracy"
   ]
  },
  {
   "cell_type": "code",
   "execution_count": 10,
   "metadata": {},
   "outputs": [],
   "source": [
    "k_vals <- tibble(neighbors = seq(from = 1, to = 100, by = 2))"
   ]
  },
  {
   "cell_type": "markdown",
   "metadata": {},
   "source": [
    "We will now begin to build the 4 version of our classifiers"
   ]
  },
  {
   "cell_type": "markdown",
   "metadata": {},
   "source": [
    "#### _Scenario 1: using all 3 predictors_"
   ]
  },
  {
   "cell_type": "markdown",
   "metadata": {},
   "source": [
    "We first build our classifier before tuning it and determing the best value of K by plotting a graph of accuracy vs K. "
   ]
  },
  {
   "cell_type": "code",
   "execution_count": 50,
   "metadata": {},
   "outputs": [
    {
     "name": "stderr",
     "output_type": "stream",
     "text": [
      "\u001b[33m!\u001b[39m \u001b[33mFold2: internal: No observations were detected in `truth` for level(s): '4'\n",
      "Com...\u001b[39m\n",
      "\n"
     ]
    },
    {
     "data": {
      "image/png": "[encoded data removed]",
      "text/plain": [
       "plot without title"
      ]
     },
     "metadata": {
      "image/png": {
       "height": 420,
       "width": 420
      }
     },
     "output_type": "display_data"
    }
   ],
   "source": [
    "heart_recipe_all <- recipe(num ~ chol + age + restbps, data = patients_train) %>%\n",
    "    step_scale(all_predictors()) %>%\n",
    "    step_center(all_predictors()) \n",
    "\n",
    "knn_results_all <- workflow() %>%\n",
    "  add_recipe(heart_recipe_all) %>%\n",
    "  add_model(knn_tune) %>%\n",
    "  tune_grid(resamples = heart_vfold, grid = k_vals) %>%\n",
    "  collect_metrics()\n",
    "\n",
    "accuracies_all <- knn_results_all %>%\n",
    "    filter(.metric == \"accuracy\")\n",
    "\n",
    "accuracy_vs_k_all <- ggplot(accuracies_all, aes(x = neighbors, y = mean)) +\n",
    "  geom_point() +\n",
    "  geom_line() +\n",
    "  labs(x = \"Neighbors\", y = \"Accuracy Estimate\") + \n",
    "  ggtitle(\"Accuracy estimate for K (All predictors)\") + \n",
    "  theme(text = element_text(size = 12))\n",
    "\n",
    "accuracy_vs_k_all\n"
   ]
  },
  {
   "cell_type": "markdown",
   "metadata": {},
   "source": [
    "From this plot, choose the best value of K and build the final classifer model using this chosen value of K "
   ]
  },
  {
   "cell_type": "code",
   "execution_count": 12,
   "metadata": {},
   "outputs": [],
   "source": [
    "chosen_n_all <- arrange(accuracies_all, by = desc(mean)) %>%\n",
    "            slice(1) %>% \n",
    "            pull(neighbors)\n",
    "\n",
    "knn_spec_all <- nearest_neighbor(weight_func = \"rectangular\", neighbors = chosen_n_all) %>%\n",
    "    set_engine(\"kknn\") %>%\n",
    "    set_mode(\"classification\")\n",
    "\n",
    "knn_fit_all <- workflow() %>%\n",
    "                add_recipe(heart_recipe_all) %>%\n",
    "                add_model(knn_spec_all) %>%\n",
    "                fit(data = patients_train)"
   ]
  },
  {
   "cell_type": "markdown",
   "metadata": {},
   "source": [
    "Now we want to assess the accuracy of our model"
   ]
  },
  {
   "cell_type": "code",
   "execution_count": 13,
   "metadata": {},
   "outputs": [
    {
     "data": {
      "text/html": [
       "<table>\n",
       "<caption>A tibble: 1 × 3</caption>\n",
       "<thead>\n",
       "\t<tr><th scope=col>.metric</th><th scope=col>.estimator</th><th scope=col>.estimate</th></tr>\n",
       "\t<tr><th scope=col>&lt;chr&gt;</th><th scope=col>&lt;chr&gt;</th><th scope=col>&lt;dbl&gt;</th></tr>\n",
       "</thead>\n",
       "<tbody>\n",
       "\t<tr><td>accuracy</td><td>multiclass</td><td>0.5617978</td></tr>\n",
       "</tbody>\n",
       "</table>\n"
      ],
      "text/latex": [
       "A tibble: 1 × 3\n",
       "\\begin{tabular}{lll}\n",
       " .metric & .estimator & .estimate\\\\\n",
       " <chr> & <chr> & <dbl>\\\\\n",
       "\\hline\n",
       "\t accuracy & multiclass & 0.5617978\\\\\n",
       "\\end{tabular}\n"
      ],
      "text/markdown": [
       "\n",
       "A tibble: 1 × 3\n",
       "\n",
       "| .metric &lt;chr&gt; | .estimator &lt;chr&gt; | .estimate &lt;dbl&gt; |\n",
       "|---|---|---|\n",
       "| accuracy | multiclass | 0.5617978 |\n",
       "\n"
      ],
      "text/plain": [
       "  .metric  .estimator .estimate\n",
       "1 accuracy multiclass 0.5617978"
      ]
     },
     "metadata": {},
     "output_type": "display_data"
    }
   ],
   "source": [
    "patients_test_predictions_all<- predict(knn_fit_all, patients_test) %>%\n",
    "                             bind_cols(patients_test)\n",
    "\n",
    "patients_test_predictions_accuracy_all <- metrics(patients_test_predictions_all, truth = num, estimate = .pred_class) %>%\n",
    "                             filter(.metric == \"accuracy\")\n",
    "\n",
    "patients_test_predictions_accuracy_all\n",
    "\n"
   ]
  },
  {
   "cell_type": "markdown",
   "metadata": {},
   "source": [
    "#### Repeat this process for the rest of the scenarios"
   ]
  },
  {
   "cell_type": "markdown",
   "metadata": {},
   "source": [
    "#### _Scenario 2: Using only cholestoral and age as predictor variables_"
   ]
  },
  {
   "cell_type": "code",
   "execution_count": 15,
   "metadata": {},
   "outputs": [
    {
     "name": "stderr",
     "output_type": "stream",
     "text": [
      "\u001b[33m!\u001b[39m \u001b[33mFold2: internal: No observations were detected in `truth` for level(s): '4'\n",
      "Com...\u001b[39m\n",
      "\n"
     ]
    },
    {
     "data": {
      "image/png": "[encoded data removed]",
      "text/plain": [
       "plot without title"
      ]
     },
     "metadata": {
      "image/png": {
       "height": 420,
       "width": 420
      }
     },
     "output_type": "display_data"
    }
   ],
   "source": [
    "heart_recipe_chol_age <- recipe(num ~ chol + age, data = patients_train) %>%\n",
    "    step_scale(all_predictors()) %>%\n",
    "    step_center(all_predictors()) \n",
    "\n",
    "knn_results_chol_age <- workflow() %>%\n",
    "  add_recipe(heart_recipe_chol_age) %>%\n",
    "  add_model(knn_tune) %>%\n",
    "  tune_grid(resamples = heart_vfold, grid = k_vals) %>%\n",
    "  collect_metrics()\n",
    "\n",
    "accuracies_chol_age <- knn_results_chol_age %>%\n",
    "    filter(.metric == \"accuracy\")\n",
    "\n",
    "accuracy_vs_k_chol_age <- ggplot(accuracies_chol_age, aes(x = neighbors, y = mean)) +\n",
    "  geom_point() +\n",
    "  geom_line() +\n",
    "  labs(x = \"Neighbors\", y = \"Accuracy Estimate\") + \n",
    "  ggtitle(\"Accuracy estimate for K (chol and age)\") +\n",
    "  theme(text = element_text(size = 12))\n",
    "\n",
    "accuracy_vs_k_chol_age\n"
   ]
  },
  {
   "cell_type": "code",
   "execution_count": 16,
   "metadata": {},
   "outputs": [
    {
     "data": {
      "text/html": [
       "<table>\n",
       "<caption>A tibble: 1 × 3</caption>\n",
       "<thead>\n",
       "\t<tr><th scope=col>.metric</th><th scope=col>.estimator</th><th scope=col>.estimate</th></tr>\n",
       "\t<tr><th scope=col>&lt;chr&gt;</th><th scope=col>&lt;chr&gt;</th><th scope=col>&lt;dbl&gt;</th></tr>\n",
       "</thead>\n",
       "<tbody>\n",
       "\t<tr><td>accuracy</td><td>multiclass</td><td>0.5730337</td></tr>\n",
       "</tbody>\n",
       "</table>\n"
      ],
      "text/latex": [
       "A tibble: 1 × 3\n",
       "\\begin{tabular}{lll}\n",
       " .metric & .estimator & .estimate\\\\\n",
       " <chr> & <chr> & <dbl>\\\\\n",
       "\\hline\n",
       "\t accuracy & multiclass & 0.5730337\\\\\n",
       "\\end{tabular}\n"
      ],
      "text/markdown": [
       "\n",
       "A tibble: 1 × 3\n",
       "\n",
       "| .metric &lt;chr&gt; | .estimator &lt;chr&gt; | .estimate &lt;dbl&gt; |\n",
       "|---|---|---|\n",
       "| accuracy | multiclass | 0.5730337 |\n",
       "\n"
      ],
      "text/plain": [
       "  .metric  .estimator .estimate\n",
       "1 accuracy multiclass 0.5730337"
      ]
     },
     "metadata": {},
     "output_type": "display_data"
    }
   ],
   "source": [
    "chosen_n_chol_age <- arrange(accuracies_chol_age, by = desc(mean)) %>%\n",
    "            slice(1) %>% \n",
    "            pull(neighbors)\n",
    "\n",
    "knn_spec_chol_age <- nearest_neighbor(weight_func = \"rectangular\", neighbors = chosen_n_chol_age) %>%\n",
    "    set_engine(\"kknn\") %>%\n",
    "    set_mode(\"classification\")\n",
    "\n",
    "knn_fit_chol_age <- workflow() %>%\n",
    "                add_recipe(heart_recipe_chol_age) %>%\n",
    "                add_model(knn_spec_chol_age) %>%\n",
    "                fit(data = patients_train)\n",
    "\n",
    "patients_test_predictions_chol_age<- predict(knn_fit_chol_age, patients_test) %>%\n",
    "                             bind_cols(patients_test)\n",
    "\n",
    "patients_test_predictions_accuracy_chol_age <- metrics(patients_test_predictions_chol_age, truth = num, estimate = .pred_class) %>%\n",
    "                             filter(.metric == \"accuracy\")\n",
    "\n",
    "patients_test_predictions_accuracy_chol_age\n",
    "\n"
   ]
  },
  {
   "cell_type": "markdown",
   "metadata": {},
   "source": [
    "#### _Scenario 3: Using only cholestoral (chol) and resting blood pressure (bps) as predictor variables_"
   ]
  },
  {
   "cell_type": "code",
   "execution_count": 17,
   "metadata": {},
   "outputs": [
    {
     "name": "stderr",
     "output_type": "stream",
     "text": [
      "\u001b[33m!\u001b[39m \u001b[33mFold2: internal: No observations were detected in `truth` for level(s): '4'\n",
      "Com...\u001b[39m\n",
      "\n"
     ]
    },
    {
     "data": {
      "image/png": "[encoded data removed]",
      "text/plain": [
       "plot without title"
      ]
     },
     "metadata": {
      "image/png": {
       "height": 420,
       "width": 420
      }
     },
     "output_type": "display_data"
    }
   ],
   "source": [
    "heart_recipe_chol_bps <- recipe(num ~ chol + restbps, data = patients_train) %>%\n",
    "    step_scale(all_predictors()) %>%\n",
    "    step_center(all_predictors()) \n",
    "\n",
    "knn_results_chol_bps <- workflow() %>%\n",
    "  add_recipe(heart_recipe_chol_bps) %>%\n",
    "  add_model(knn_tune) %>%\n",
    "  tune_grid(resamples = heart_vfold, grid = k_vals) %>%\n",
    "  collect_metrics()\n",
    "\n",
    "accuracies_chol_bps <- knn_results_chol_bps %>%\n",
    "    filter(.metric == \"accuracy\")\n",
    "\n",
    "accuracy_vs_k_chol_bps <- ggplot(accuracies_chol_bps, aes(x = neighbors, y = mean)) +\n",
    "  geom_point() +\n",
    "  geom_line() +\n",
    "  labs(x = \"Neighbors\", y = \"Accuracy Estimate\") + \n",
    "  ggtitle(\"Accuracy estimate for K (chol and resting blood pressure)\") +\n",
    "  theme(text = element_text(size = 12))\n",
    "\n",
    "accuracy_vs_k_chol_bps\n"
   ]
  },
  {
   "cell_type": "code",
   "execution_count": 18,
   "metadata": {},
   "outputs": [
    {
     "data": {
      "text/html": [
       "<table>\n",
       "<caption>A tibble: 1 × 3</caption>\n",
       "<thead>\n",
       "\t<tr><th scope=col>.metric</th><th scope=col>.estimator</th><th scope=col>.estimate</th></tr>\n",
       "\t<tr><th scope=col>&lt;chr&gt;</th><th scope=col>&lt;chr&gt;</th><th scope=col>&lt;dbl&gt;</th></tr>\n",
       "</thead>\n",
       "<tbody>\n",
       "\t<tr><td>accuracy</td><td>multiclass</td><td>0.5617978</td></tr>\n",
       "</tbody>\n",
       "</table>\n"
      ],
      "text/latex": [
       "A tibble: 1 × 3\n",
       "\\begin{tabular}{lll}\n",
       " .metric & .estimator & .estimate\\\\\n",
       " <chr> & <chr> & <dbl>\\\\\n",
       "\\hline\n",
       "\t accuracy & multiclass & 0.5617978\\\\\n",
       "\\end{tabular}\n"
      ],
      "text/markdown": [
       "\n",
       "A tibble: 1 × 3\n",
       "\n",
       "| .metric &lt;chr&gt; | .estimator &lt;chr&gt; | .estimate &lt;dbl&gt; |\n",
       "|---|---|---|\n",
       "| accuracy | multiclass | 0.5617978 |\n",
       "\n"
      ],
      "text/plain": [
       "  .metric  .estimator .estimate\n",
       "1 accuracy multiclass 0.5617978"
      ]
     },
     "metadata": {},
     "output_type": "display_data"
    }
   ],
   "source": [
    "chosen_n_chol_bps <- arrange(accuracies_chol_bps, by = desc(mean)) %>%\n",
    "            slice(1) %>% \n",
    "            pull(neighbors)\n",
    "\n",
    "knn_spec_chol_bps <- nearest_neighbor(weight_func = \"rectangular\", neighbors = chosen_n_chol_bps) %>%\n",
    "    set_engine(\"kknn\") %>%\n",
    "    set_mode(\"classification\")\n",
    "\n",
    "knn_fit_chol_bps <- workflow() %>%\n",
    "                add_recipe(heart_recipe_chol_bps) %>%\n",
    "                add_model(knn_spec_chol_bps) %>%\n",
    "                fit(data = patients_train)\n",
    "\n",
    "patients_test_predictions_chol_bps<- predict(knn_fit_chol_bps, patients_test) %>%\n",
    "                             bind_cols(patients_test)\n",
    "\n",
    "patients_test_predictions_accuracy_chol_bps <- metrics(patients_test_predictions_chol_bps, truth = num, estimate = .pred_class) %>%\n",
    "                             filter(.metric == \"accuracy\")\n",
    "\n",
    "patients_test_predictions_accuracy_chol_bps\n",
    "\n"
   ]
  },
  {
   "cell_type": "markdown",
   "metadata": {},
   "source": [
    "#### _Scenario 4: Using only age and resting blood pressure (bps) as predictor variables_"
   ]
  },
  {
   "cell_type": "code",
   "execution_count": 19,
   "metadata": {},
   "outputs": [
    {
     "name": "stderr",
     "output_type": "stream",
     "text": [
      "\u001b[33m!\u001b[39m \u001b[33mFold2: internal: No observations were detected in `truth` for level(s): '4'\n",
      "Com...\u001b[39m\n",
      "\n"
     ]
    },
    {
     "data": {
      "image/png": "[encoded data removed]",
      "text/plain": [
       "plot without title"
      ]
     },
     "metadata": {
      "image/png": {
       "height": 420,
       "width": 420
      }
     },
     "output_type": "display_data"
    }
   ],
   "source": [
    "heart_recipe_age_bps <- recipe(num ~ age + restbps, data = patients_train) %>%\n",
    "    step_scale(all_predictors()) %>%\n",
    "    step_center(all_predictors()) \n",
    "\n",
    "knn_results_age_bps <- workflow() %>%\n",
    "  add_recipe(heart_recipe_age_bps) %>%\n",
    "  add_model(knn_tune) %>%\n",
    "  tune_grid(resamples = heart_vfold, grid = k_vals) %>%\n",
    "  collect_metrics()\n",
    "\n",
    "accuracies_age_bps <- knn_results_age_bps %>%\n",
    "    filter(.metric == \"accuracy\")\n",
    "\n",
    "accuracy_vs_k_age_bps <- ggplot(accuracies_age_bps, aes(x = neighbors, y = mean)) +\n",
    "  geom_point() +\n",
    "  geom_line() +\n",
    "  labs(x = \"Neighbors\", y = \"Accuracy Estimate\") + \n",
    "  ggtitle(\"Accuracy estimate for K (age and resting blood pressure)\") +\n",
    "  theme(text = element_text(size = 12))\n",
    "\n",
    "accuracy_vs_k_age_bps\n"
   ]
  },
  {
   "cell_type": "code",
   "execution_count": 20,
   "metadata": {},
   "outputs": [
    {
     "data": {
      "text/html": [
       "<table>\n",
       "<caption>A tibble: 1 × 3</caption>\n",
       "<thead>\n",
       "\t<tr><th scope=col>.metric</th><th scope=col>.estimator</th><th scope=col>.estimate</th></tr>\n",
       "\t<tr><th scope=col>&lt;chr&gt;</th><th scope=col>&lt;chr&gt;</th><th scope=col>&lt;dbl&gt;</th></tr>\n",
       "</thead>\n",
       "<tbody>\n",
       "\t<tr><td>accuracy</td><td>multiclass</td><td>0.5617978</td></tr>\n",
       "</tbody>\n",
       "</table>\n"
      ],
      "text/latex": [
       "A tibble: 1 × 3\n",
       "\\begin{tabular}{lll}\n",
       " .metric & .estimator & .estimate\\\\\n",
       " <chr> & <chr> & <dbl>\\\\\n",
       "\\hline\n",
       "\t accuracy & multiclass & 0.5617978\\\\\n",
       "\\end{tabular}\n"
      ],
      "text/markdown": [
       "\n",
       "A tibble: 1 × 3\n",
       "\n",
       "| .metric &lt;chr&gt; | .estimator &lt;chr&gt; | .estimate &lt;dbl&gt; |\n",
       "|---|---|---|\n",
       "| accuracy | multiclass | 0.5617978 |\n",
       "\n"
      ],
      "text/plain": [
       "  .metric  .estimator .estimate\n",
       "1 accuracy multiclass 0.5617978"
      ]
     },
     "metadata": {},
     "output_type": "display_data"
    }
   ],
   "source": [
    "chosen_n_age_bps <- arrange(accuracies_age_bps, by = desc(mean)) %>%\n",
    "            slice(1) %>% \n",
    "            pull(neighbors)\n",
    "\n",
    "knn_spec_age_bps <- nearest_neighbor(weight_func = \"rectangular\", neighbors = chosen_n_age_bps) %>%\n",
    "    set_engine(\"kknn\") %>%\n",
    "    set_mode(\"classification\")\n",
    "\n",
    "knn_fit_age_bps <- workflow() %>%\n",
    "                add_recipe(heart_recipe_age_bps) %>%\n",
    "                add_model(knn_spec_age_bps) %>%\n",
    "                fit(data = patients_train)\n",
    "\n",
    "patients_test_predictions_age_bps<- predict(knn_fit_age_bps, patients_test) %>%\n",
    "                             bind_cols(patients_test)\n",
    "\n",
    "patients_test_predictions_accuracy_age_bps <- metrics(patients_test_predictions_age_bps, truth = num, estimate = .pred_class) %>%\n",
    "                             filter(.metric == \"accuracy\")\n",
    "\n",
    "patients_test_predictions_accuracy_age_bps\n",
    "\n"
   ]
  },
  {
   "cell_type": "markdown",
   "metadata": {},
   "source": [
    "Now that we have run all 4 versions, we are now able to choose the best subset of predictors. For easier comparison, we have summarised the accuracies of all 4 models below "
   ]
  },
  {
   "cell_type": "code",
   "execution_count": 23,
   "metadata": {},
   "outputs": [
    {
     "data": {
      "text/html": [
       "<table>\n",
       "<caption>A tibble: 1 × 3</caption>\n",
       "<thead>\n",
       "\t<tr><th scope=col>.metric</th><th scope=col>.estimator</th><th scope=col>.estimate</th></tr>\n",
       "\t<tr><th scope=col>&lt;chr&gt;</th><th scope=col>&lt;chr&gt;</th><th scope=col>&lt;dbl&gt;</th></tr>\n",
       "</thead>\n",
       "<tbody>\n",
       "\t<tr><td>accuracy</td><td>multiclass</td><td>0.5617978</td></tr>\n",
       "</tbody>\n",
       "</table>\n"
      ],
      "text/latex": [
       "A tibble: 1 × 3\n",
       "\\begin{tabular}{lll}\n",
       " .metric & .estimator & .estimate\\\\\n",
       " <chr> & <chr> & <dbl>\\\\\n",
       "\\hline\n",
       "\t accuracy & multiclass & 0.5617978\\\\\n",
       "\\end{tabular}\n"
      ],
      "text/markdown": [
       "\n",
       "A tibble: 1 × 3\n",
       "\n",
       "| .metric &lt;chr&gt; | .estimator &lt;chr&gt; | .estimate &lt;dbl&gt; |\n",
       "|---|---|---|\n",
       "| accuracy | multiclass | 0.5617978 |\n",
       "\n"
      ],
      "text/plain": [
       "  .metric  .estimator .estimate\n",
       "1 accuracy multiclass 0.5617978"
      ]
     },
     "metadata": {},
     "output_type": "display_data"
    }
   ],
   "source": [
    "patients_test_predictions_accuracy_all"
   ]
  },
  {
   "cell_type": "code",
   "execution_count": 24,
   "metadata": {},
   "outputs": [
    {
     "data": {
      "text/html": [
       "<table>\n",
       "<caption>A tibble: 1 × 3</caption>\n",
       "<thead>\n",
       "\t<tr><th scope=col>.metric</th><th scope=col>.estimator</th><th scope=col>.estimate</th></tr>\n",
       "\t<tr><th scope=col>&lt;chr&gt;</th><th scope=col>&lt;chr&gt;</th><th scope=col>&lt;dbl&gt;</th></tr>\n",
       "</thead>\n",
       "<tbody>\n",
       "\t<tr><td>accuracy</td><td>multiclass</td><td>0.5730337</td></tr>\n",
       "</tbody>\n",
       "</table>\n"
      ],
      "text/latex": [
       "A tibble: 1 × 3\n",
       "\\begin{tabular}{lll}\n",
       " .metric & .estimator & .estimate\\\\\n",
       " <chr> & <chr> & <dbl>\\\\\n",
       "\\hline\n",
       "\t accuracy & multiclass & 0.5730337\\\\\n",
       "\\end{tabular}\n"
      ],
      "text/markdown": [
       "\n",
       "A tibble: 1 × 3\n",
       "\n",
       "| .metric &lt;chr&gt; | .estimator &lt;chr&gt; | .estimate &lt;dbl&gt; |\n",
       "|---|---|---|\n",
       "| accuracy | multiclass | 0.5730337 |\n",
       "\n"
      ],
      "text/plain": [
       "  .metric  .estimator .estimate\n",
       "1 accuracy multiclass 0.5730337"
      ]
     },
     "metadata": {},
     "output_type": "display_data"
    }
   ],
   "source": [
    "patients_test_predictions_accuracy_chol_age"
   ]
  },
  {
   "cell_type": "code",
   "execution_count": 27,
   "metadata": {},
   "outputs": [
    {
     "data": {
      "text/html": [
       "<table>\n",
       "<caption>A tibble: 1 × 3</caption>\n",
       "<thead>\n",
       "\t<tr><th scope=col>.metric</th><th scope=col>.estimator</th><th scope=col>.estimate</th></tr>\n",
       "\t<tr><th scope=col>&lt;chr&gt;</th><th scope=col>&lt;chr&gt;</th><th scope=col>&lt;dbl&gt;</th></tr>\n",
       "</thead>\n",
       "<tbody>\n",
       "\t<tr><td>accuracy</td><td>multiclass</td><td>0.5617978</td></tr>\n",
       "</tbody>\n",
       "</table>\n"
      ],
      "text/latex": [
       "A tibble: 1 × 3\n",
       "\\begin{tabular}{lll}\n",
       " .metric & .estimator & .estimate\\\\\n",
       " <chr> & <chr> & <dbl>\\\\\n",
       "\\hline\n",
       "\t accuracy & multiclass & 0.5617978\\\\\n",
       "\\end{tabular}\n"
      ],
      "text/markdown": [
       "\n",
       "A tibble: 1 × 3\n",
       "\n",
       "| .metric &lt;chr&gt; | .estimator &lt;chr&gt; | .estimate &lt;dbl&gt; |\n",
       "|---|---|---|\n",
       "| accuracy | multiclass | 0.5617978 |\n",
       "\n"
      ],
      "text/plain": [
       "  .metric  .estimator .estimate\n",
       "1 accuracy multiclass 0.5617978"
      ]
     },
     "metadata": {},
     "output_type": "display_data"
    }
   ],
   "source": [
    "patients_test_predictions_accuracy_chol_bps"
   ]
  },
  {
   "cell_type": "code",
   "execution_count": 28,
   "metadata": {},
   "outputs": [
    {
     "data": {
      "text/html": [
       "<table>\n",
       "<caption>A tibble: 1 × 3</caption>\n",
       "<thead>\n",
       "\t<tr><th scope=col>.metric</th><th scope=col>.estimator</th><th scope=col>.estimate</th></tr>\n",
       "\t<tr><th scope=col>&lt;chr&gt;</th><th scope=col>&lt;chr&gt;</th><th scope=col>&lt;dbl&gt;</th></tr>\n",
       "</thead>\n",
       "<tbody>\n",
       "\t<tr><td>accuracy</td><td>multiclass</td><td>0.5617978</td></tr>\n",
       "</tbody>\n",
       "</table>\n"
      ],
      "text/latex": [
       "A tibble: 1 × 3\n",
       "\\begin{tabular}{lll}\n",
       " .metric & .estimator & .estimate\\\\\n",
       " <chr> & <chr> & <dbl>\\\\\n",
       "\\hline\n",
       "\t accuracy & multiclass & 0.5617978\\\\\n",
       "\\end{tabular}\n"
      ],
      "text/markdown": [
       "\n",
       "A tibble: 1 × 3\n",
       "\n",
       "| .metric &lt;chr&gt; | .estimator &lt;chr&gt; | .estimate &lt;dbl&gt; |\n",
       "|---|---|---|\n",
       "| accuracy | multiclass | 0.5617978 |\n",
       "\n"
      ],
      "text/plain": [
       "  .metric  .estimator .estimate\n",
       "1 accuracy multiclass 0.5617978"
      ]
     },
     "metadata": {},
     "output_type": "display_data"
    }
   ],
   "source": [
    "patients_test_predictions_accuracy_age_bps"
   ]
  },
  {
   "cell_type": "markdown",
   "metadata": {},
   "source": [
    "From this, we can see that using only 2 predictor variables, cholestero (chol) and age will give us the highest accuracy. As such, we will use these chol and age to build our final classifer. "
   ]
  },
  {
   "cell_type": "markdown",
   "metadata": {},
   "source": [
    "## Building the final classifer model "
   ]
  },
  {
   "cell_type": "markdown",
   "metadata": {},
   "source": [
    "From our pre-processing, we have determined that using **chol and age** as our predictor variables, and a **k value of 35** will give us the most accurate prediction. We will therefore incorporate these into a workflow to build our final K-nearest neighbours classifer. We are able to reuse the recipe (heart_recipe_chol_age) here. "
   ]
  },
  {
   "cell_type": "code",
   "execution_count": 47,
   "metadata": {},
   "outputs": [
    {
     "data": {
      "text/plain": [
       "══ Workflow [trained] ══════════════════════════════════════════════════════════\n",
       "\u001b[3mPreprocessor:\u001b[23m Recipe\n",
       "\u001b[3mModel:\u001b[23m nearest_neighbor()\n",
       "\n",
       "── Preprocessor ────────────────────────────────────────────────────────────────\n",
       "2 Recipe Steps\n",
       "\n",
       "● step_scale()\n",
       "● step_center()\n",
       "\n",
       "── Model ───────────────────────────────────────────────────────────────────────\n",
       "\n",
       "Call:\n",
       "kknn::train.kknn(formula = ..y ~ ., data = data, ks = ~35, kernel = ~\"rectangular\")\n",
       "\n",
       "Type of response variable: nominal\n",
       "Minimal misclassification: 0.4626168\n",
       "Best kernel: rectangular\n",
       "Best k: 35"
      ]
     },
     "metadata": {},
     "output_type": "display_data"
    }
   ],
   "source": [
    "knn_spec <- nearest_neighbor(weight_func = \"rectangular\", neighbors = 35) %>%\n",
    "    set_engine(\"kknn\") %>% \n",
    "    set_mode(\"classification\") \n",
    "\n",
    "knn_fit <- workflow() %>%\n",
    "    add_recipe(heart_recipe_chol_age) %>% \n",
    "    add_model(knn_spec) %>%\n",
    "    fit(data = patients_train)\n",
    "\n",
    "knn_fit\n"
   ]
  },
  {
   "cell_type": "markdown",
   "metadata": {},
   "source": [
    "## Predicting new observations"
   ]
  },
  {
   "cell_type": "markdown",
   "metadata": {},
   "source": [
    "We can now use our model to predict new observations, we've made a dummy observation showcasing a 50 year old individual with an average level of serum cholesterol level of 170 mg/dl here just as an example. "
   ]
  },
  {
   "cell_type": "code",
   "execution_count": 53,
   "metadata": {},
   "outputs": [
    {
     "data": {
      "text/html": [
       "<table>\n",
       "<caption>A tibble: 1 × 1</caption>\n",
       "<thead>\n",
       "\t<tr><th scope=col>.pred_class</th></tr>\n",
       "\t<tr><th scope=col>&lt;fct&gt;</th></tr>\n",
       "</thead>\n",
       "<tbody>\n",
       "\t<tr><td>0</td></tr>\n",
       "</tbody>\n",
       "</table>\n"
      ],
      "text/latex": [
       "A tibble: 1 × 1\n",
       "\\begin{tabular}{l}\n",
       " .pred\\_class\\\\\n",
       " <fct>\\\\\n",
       "\\hline\n",
       "\t 0\\\\\n",
       "\\end{tabular}\n"
      ],
      "text/markdown": [
       "\n",
       "A tibble: 1 × 1\n",
       "\n",
       "| .pred_class &lt;fct&gt; |\n",
       "|---|\n",
       "| 0 |\n",
       "\n"
      ],
      "text/plain": [
       "  .pred_class\n",
       "1 0          "
      ]
     },
     "metadata": {},
     "output_type": "display_data"
    }
   ],
   "source": [
    "new_observation <- tibble(age = 50, chol = 170)\n",
    "prediction <- predict(knn_fit, new_observation)\n",
    "\n",
    "prediction"
   ]
  },
  {
   "cell_type": "markdown",
   "metadata": {},
   "source": [
    "As the predicted class was 0, the dummy individual was predicted to have no heart disease. "
   ]
  },
  {
   "cell_type": "markdown",
   "metadata": {},
   "source": [
    "## Summary of Methods:\n",
    "\n",
    "* This K-nearest neighbour classifier was built in an effort to find the relationship between the chosen three predictor variables and the severity of heart disease to discover which variable(s) could predict heart disease severity most accurately.\n",
    "\n",
    "* In training the classifier, cross-validation and tuning was utilised to find the best unbiased parameter value of K, as that determines the accuracy of our classifer.  5 folds was chosen for crossvalidation as it was the best tradeoff between standard error and computation processing speed. 10 folds did not decrease the standard error by a significant amount, but it did cause the processing speed to increases substantially. \n",
    "\n",
    "\n",
    "#### Summarised step-by-step process of building the classifier\n",
    "\n",
    "1. Loaded the necessary libraries into R \n",
    "2. Loaded the cleveland data set into R\n",
    "3. Selected for age, restbps and chol and converted the **num** numerical variable into a factor, as it is the class label \n",
    "4. Explored the data set using scatterplot visualisations to understand the dataset. \n",
    "5. Split the cleveland data into a training and test set into a 70:30 ratio, using num to stratify as heart disease severity is what we want to predict. \n",
    "5. Trained 4 versions of a classifer model using different subsets of predictors to find the best subset. \n",
    "6. Ran all 4 models and assess their accuracy against the testing data\n",
    "7. Ploted accuracy against K to find the number of neighbours that will give the highest accuracy \n",
    "8. Chose the model with the highest accuracy, thereby determining the value of K and the predictor subset for the final classifer model \n",
    "6. Built the final classifer model \n"
   ]
  },
  {
   "cell_type": "markdown",
   "metadata": {},
   "source": [
    "# Discussion"
   ]
  },
  {
   "cell_type": "markdown",
   "metadata": {},
   "source": [
    "## Expected Outcomes and Significance\n",
    "Increasing age and risk of contracting heart disease has consistently shown to be positively correlated (Roth et al. 2985) and the average lifestyle men lead incorporates more high-risk factors for heart disease compared to women. (Dai et al. 6) Older men are therefore more likely to contract cardiovascular diseases, and we expected to see this reflected in our results.\n",
    " \n",
    "Ultimately, we aimed to create a classification model that can contribute to the ongoing effort to help healthcare workers efficiently target individuals at risk of developing heart disease or quickly identify the severity of the disease for patients. \n"
   ]
  },
  {
   "cell_type": "markdown",
   "metadata": {},
   "source": [
    "## Actual Outcomes"
   ]
  },
  {
   "cell_type": "markdown",
   "metadata": {},
   "source": [
    "xx"
   ]
  },
  {
   "cell_type": "markdown",
   "metadata": {},
   "source": [
    "Age and serum cholestoral were found to be the best predictor subsets, and the reason for this can explore this with greater nuance if we follow Marateb and Goudarzi's method (216) to straify the age into age groups, as specified below, and explore the distribution of minimum and maximum serum cholestoral in mg/dlin each age group. Achieve this by running the cell below. \n",
    "\n",
    "**Age groups:**\n",
    "* Young adult (18-35 years old)\n",
    "* Middle adult(36-55 years old)\n",
    "* Old adult (>55 years old)\n"
   ]
  },
  {
   "cell_type": "code",
   "execution_count": 60,
   "metadata": {},
   "outputs": [
    {
     "data": {
      "text/html": [
       "<table>\n",
       "<caption>A tibble: 1 × 2</caption>\n",
       "<thead>\n",
       "\t<tr><th scope=col>age</th><th scope=col>chol</th></tr>\n",
       "\t<tr><th scope=col>&lt;dbl&gt;</th><th scope=col>&lt;dbl&gt;</th></tr>\n",
       "</thead>\n",
       "<tbody>\n",
       "\t<tr><td>35</td><td>282</td></tr>\n",
       "</tbody>\n",
       "</table>\n"
      ],
      "text/latex": [
       "A tibble: 1 × 2\n",
       "\\begin{tabular}{ll}\n",
       " age & chol\\\\\n",
       " <dbl> & <dbl>\\\\\n",
       "\\hline\n",
       "\t 35 & 282\\\\\n",
       "\\end{tabular}\n"
      ],
      "text/markdown": [
       "\n",
       "A tibble: 1 × 2\n",
       "\n",
       "| age &lt;dbl&gt; | chol &lt;dbl&gt; |\n",
       "|---|---|\n",
       "| 35 | 282 |\n",
       "\n"
      ],
      "text/plain": [
       "  age chol\n",
       "1 35  282 "
      ]
     },
     "metadata": {},
     "output_type": "display_data"
    },
    {
     "data": {
      "text/html": [
       "<table>\n",
       "<caption>A tibble: 1 × 2</caption>\n",
       "<thead>\n",
       "\t<tr><th scope=col>age</th><th scope=col>chol</th></tr>\n",
       "\t<tr><th scope=col>&lt;dbl&gt;</th><th scope=col>&lt;dbl&gt;</th></tr>\n",
       "</thead>\n",
       "<tbody>\n",
       "\t<tr><td>34</td><td>182</td></tr>\n",
       "</tbody>\n",
       "</table>\n"
      ],
      "text/latex": [
       "A tibble: 1 × 2\n",
       "\\begin{tabular}{ll}\n",
       " age & chol\\\\\n",
       " <dbl> & <dbl>\\\\\n",
       "\\hline\n",
       "\t 34 & 182\\\\\n",
       "\\end{tabular}\n"
      ],
      "text/markdown": [
       "\n",
       "A tibble: 1 × 2\n",
       "\n",
       "| age &lt;dbl&gt; | chol &lt;dbl&gt; |\n",
       "|---|---|\n",
       "| 34 | 182 |\n",
       "\n"
      ],
      "text/plain": [
       "  age chol\n",
       "1 34  182 "
      ]
     },
     "metadata": {},
     "output_type": "display_data"
    },
    {
     "data": {
      "text/html": [
       "<table>\n",
       "<caption>A tibble: 1 × 2</caption>\n",
       "<thead>\n",
       "\t<tr><th scope=col>age</th><th scope=col>chol</th></tr>\n",
       "\t<tr><th scope=col>&lt;dbl&gt;</th><th scope=col>&lt;dbl&gt;</th></tr>\n",
       "</thead>\n",
       "<tbody>\n",
       "\t<tr><td>55</td><td>353</td></tr>\n",
       "</tbody>\n",
       "</table>\n"
      ],
      "text/latex": [
       "A tibble: 1 × 2\n",
       "\\begin{tabular}{ll}\n",
       " age & chol\\\\\n",
       " <dbl> & <dbl>\\\\\n",
       "\\hline\n",
       "\t 55 & 353\\\\\n",
       "\\end{tabular}\n"
      ],
      "text/markdown": [
       "\n",
       "A tibble: 1 × 2\n",
       "\n",
       "| age &lt;dbl&gt; | chol &lt;dbl&gt; |\n",
       "|---|---|\n",
       "| 55 | 353 |\n",
       "\n"
      ],
      "text/plain": [
       "  age chol\n",
       "1 55  353 "
      ]
     },
     "metadata": {},
     "output_type": "display_data"
    },
    {
     "data": {
      "text/html": [
       "<table>\n",
       "<caption>A tibble: 1 × 2</caption>\n",
       "<thead>\n",
       "\t<tr><th scope=col>age</th><th scope=col>chol</th></tr>\n",
       "\t<tr><th scope=col>&lt;dbl&gt;</th><th scope=col>&lt;dbl&gt;</th></tr>\n",
       "</thead>\n",
       "<tbody>\n",
       "\t<tr><td>44</td><td>141</td></tr>\n",
       "</tbody>\n",
       "</table>\n"
      ],
      "text/latex": [
       "A tibble: 1 × 2\n",
       "\\begin{tabular}{ll}\n",
       " age & chol\\\\\n",
       " <dbl> & <dbl>\\\\\n",
       "\\hline\n",
       "\t 44 & 141\\\\\n",
       "\\end{tabular}\n"
      ],
      "text/markdown": [
       "\n",
       "A tibble: 1 × 2\n",
       "\n",
       "| age &lt;dbl&gt; | chol &lt;dbl&gt; |\n",
       "|---|---|\n",
       "| 44 | 141 |\n",
       "\n"
      ],
      "text/plain": [
       "  age chol\n",
       "1 44  141 "
      ]
     },
     "metadata": {},
     "output_type": "display_data"
    },
    {
     "data": {
      "text/html": [
       "<table>\n",
       "<caption>A tibble: 1 × 2</caption>\n",
       "<thead>\n",
       "\t<tr><th scope=col>age</th><th scope=col>chol</th></tr>\n",
       "\t<tr><th scope=col>&lt;dbl&gt;</th><th scope=col>&lt;dbl&gt;</th></tr>\n",
       "</thead>\n",
       "<tbody>\n",
       "\t<tr><td>67</td><td>564</td></tr>\n",
       "</tbody>\n",
       "</table>\n"
      ],
      "text/latex": [
       "A tibble: 1 × 2\n",
       "\\begin{tabular}{ll}\n",
       " age & chol\\\\\n",
       " <dbl> & <dbl>\\\\\n",
       "\\hline\n",
       "\t 67 & 564\\\\\n",
       "\\end{tabular}\n"
      ],
      "text/markdown": [
       "\n",
       "A tibble: 1 × 2\n",
       "\n",
       "| age &lt;dbl&gt; | chol &lt;dbl&gt; |\n",
       "|---|---|\n",
       "| 67 | 564 |\n",
       "\n"
      ],
      "text/plain": [
       "  age chol\n",
       "1 67  564 "
      ]
     },
     "metadata": {},
     "output_type": "display_data"
    },
    {
     "data": {
      "text/html": [
       "<table>\n",
       "<caption>A tibble: 1 × 2</caption>\n",
       "<thead>\n",
       "\t<tr><th scope=col>age</th><th scope=col>chol</th></tr>\n",
       "\t<tr><th scope=col>&lt;dbl&gt;</th><th scope=col>&lt;dbl&gt;</th></tr>\n",
       "</thead>\n",
       "<tbody>\n",
       "\t<tr><td>57</td><td>126</td></tr>\n",
       "</tbody>\n",
       "</table>\n"
      ],
      "text/latex": [
       "A tibble: 1 × 2\n",
       "\\begin{tabular}{ll}\n",
       " age & chol\\\\\n",
       " <dbl> & <dbl>\\\\\n",
       "\\hline\n",
       "\t 57 & 126\\\\\n",
       "\\end{tabular}\n"
      ],
      "text/markdown": [
       "\n",
       "A tibble: 1 × 2\n",
       "\n",
       "| age &lt;dbl&gt; | chol &lt;dbl&gt; |\n",
       "|---|---|\n",
       "| 57 | 126 |\n",
       "\n"
      ],
      "text/plain": [
       "  age chol\n",
       "1 57  126 "
      ]
     },
     "metadata": {},
     "output_type": "display_data"
    }
   ],
   "source": [
    "young_adult_chol <- cleveland_df_sel %>%\n",
    "select(age,chol) %>%\n",
    "filter(between(age,18, 35))\n",
    "max_young_chol <- young_adult_chol %>% \n",
    "    arrange(desc(chol))%>% \n",
    "    head(n=1)\n",
    "min_young_chol <- young_adult_chol %>% \n",
    "    arrange(desc(chol)) %>%\n",
    "    tail(n=1)\n",
    "\n",
    "middle_adult_chol <- cleveland_df_sel %>%\n",
    "select(age,chol) %>%\n",
    "filter(between(age,36, 55))\n",
    "max_middle_chol <- middle_adult_chol %>% \n",
    "    arrange(desc(chol)) %>%\n",
    "    head(n=1)\n",
    "min_middle_chol <- middle_adult_chol %>% \n",
    "    arrange(desc(chol)) %>%\n",
    "    tail(n=1)\n",
    "\n",
    "old_adult_chol <- cleveland_df_sel %>%\n",
    "select(age, chol) %>%\n",
    "filter(between(age,55,77))\n",
    "max_old_chol <- old_adult_chol %>% \n",
    "    arrange(desc(chol)) %>%\n",
    "    head(n=1)\n",
    "min_old_chol <- old_adult_chol %>% \n",
    "    arrange(desc(chol)) %>%\n",
    "    tail(n=1)\n",
    "\n",
    "max_young_chol\n",
    "min_young_chol\n",
    "\n",
    "max_middle_chol\n",
    "min_middle_chol\n",
    "\n",
    "max_old_chol\n",
    "min_old_chol\n"
   ]
  },
  {
   "cell_type": "markdown",
   "metadata": {},
   "source": [
    "From this we can see that "
   ]
  },
  {
   "cell_type": "markdown",
   "metadata": {},
   "source": [
    "## Limitations and further questions\n",
    "\n",
    "(Talk about low accuracy)\n",
    "\n",
    "The dataset used to train our model used data collected from May 1981 to 1984 (Detrano et al. 305), and the age of the data was assumed negligible. Therefore, it would be interesting to repeat the project with more recent data to compare for any differences in observations. Furthermore, the proportion of low-income individuals in the test group is unknown. Considering the goal of our project, it would be worth exploring if focusing more explicitly on low-income individuals using the same model would produce different results"
   ]
  },
  {
   "cell_type": "markdown",
   "metadata": {},
   "source": [
    "## Bibliography \n",
    "\n",
    "Bowry, A. D. K., Lewey, J., Dugani, S. B., & Choudhry, N. K. (2015). The Burden of Cardiovascular Disease in Low- and Middle-Income Countries: Epidemiology and Management. Canadian Journal of Cardiology, 31(9), 1151–1159. https://doi.org/10.1016/j.cjca.2015.06.028\n",
    "\n",
    "Dai, H., Tang, B., Younis, A., Kong, J. D., Zhong, W., & Bragazzi, N. L. (2021). Regional and socioeconomic disparities in cardiovascular disease in Canada during 2005–2016: Evidence from repeated nationwide cross-sectional surveys. BMJ Global Health, 6(11), e006809. https://doi.org/10.1136/bmjgh-2021-006809\n",
    "\n",
    "Detrano, R., Janosi, A., Steinbrunn, W., Pfisterer, M., Schmid, J.-J., Sandhu, S., Guppy, K. H., Lee, S., & Froelicher, V. (1989). International application of a new probability algorithm for the diagnosis of coronary artery disease. The American Journal of Cardiology, 64(5), 304–310. https://doi.org/10.1016/0002-9149(89)90524-9\n",
    "\n",
    "Libby, P., & Theroux, P. (2005). Pathophysiology of Coronary Artery Disease. Circulation, 111(25), 3481–3488. https://doi.org/10.1161/CIRCULATIONAHA.105.537878\n",
    "\n",
    "Mannien, V., Tenkanen, L., & Koskinen, P. (1992). Joint Effects of Serum Triglyceride and LDL Cholesterol and HDL Cholesterol Concentrations on Coronary Heart Disease Risk in the Helsinki Heart Study. The Endocrinologist, 2(3), 209. https://doi.org/10.1097/00019616-199205000-00025 \n",
    "\n",
    "UCI Machine Learning Repository: Heart Disease Data Set. (n.d.). Retrieved 3 March 2022, from https://archive.ics.uci.edu/ml/datasets/Heart+Disease\n",
    "\n",
    "Roth, G. A., Mensah, G. A., Johnson, C. O., Addolorato, G., Ammirati, E., Baddour, L. M., Barengo, N. C., Beaton, A. Z., Benjamin, E. J., Benziger, C. P., Bonny, A., Brauer, M., Brodmann, M., Cahill, T. J., Carapetis, J., Catapano, A. L., Chugh, S. S., Cooper, L. T., Coresh, J., … Fuster, V. (2020). Global Burden of Cardiovascular Diseases and Risk Factors, 1990–2019. Journal of the American College of Cardiology, 76(25), 2982–3021. https://doi.org/10.1016/j.jacc.2020.11.010\n",
    "\n",
    "Marateb, H. R., & Goudarzi, S. (2015). A noninvasive method for coronary artery diseases diagnosis using a clinically-interpretable fuzzy rule-based system. Journal of Research in Medical Sciences : The Official Journal of Isfahan University of Medical Sciences, 20(3), 214–223.\n",
    "\n",
    "Nahar, J., Imam, T., Tickle, K. S., & Chen, Y.-P. P. (2013). Association rule mining to detect factors which contribute to heart disease in males and females. Expert Systems with Applications, 40(4), 1086–1093. https://doi.org/10.1016/j.eswa.2012.08.028\n",
    "\n",
    "\n"
   ]
  },
  {
   "cell_type": "code",
   "execution_count": null,
   "metadata": {},
   "outputs": [],
   "source": []
  }
 ],
 "metadata": {
  "kernelspec": {
   "display_name": "R",
   "language": "R",
   "name": "ir"
  },
  "language_info": {
   "codemirror_mode": "r",
   "file_extension": ".r",
   "mimetype": "text/x-r-source",
   "name": "R",
   "pygments_lexer": "r",
   "version": "4.0.0"
  }
 },
 "nbformat": 4,
 "nbformat_minor": 4
}
