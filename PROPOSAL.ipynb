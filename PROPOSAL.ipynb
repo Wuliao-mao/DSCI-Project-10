{
 "cells": [
  {
   "cell_type": "markdown",
   "metadata": {},
   "source": [
    "# Data analysis on heart disease directory"
   ]
  },
  {
   "cell_type": "code",
   "execution_count": 28,
   "metadata": {},
   "outputs": [
    {
     "ename": "ERROR",
     "evalue": "Error in parse(text = x, srcfile = src): <text>:1:1: unexpected input\n1: _\n    ^\n",
     "output_type": "error",
     "traceback": [
      "Error in parse(text = x, srcfile = src): <text>:1:1: unexpected input\n1: _\n    ^\nTraceback:\n"
     ]
    }
   ],
   "source": [
    "_Group 10: Samantha Lam, Sohayl Allibhai, Amanda Yang, Bolun Xie_"
   ]
  },
  {
   "cell_type": "markdown",
   "metadata": {},
   "source": [
    "**Introduction**\n",
    "\n",
    "Though treatment has advanced tremendously, the prevalence of heart disease has continued to rise in lower-income communities, contributing to the pervasiveness of cardiovascular disease as a leading cause of premature death (Bowry et al. 1151). Similarly, this trend is reflected in Canada, with the 11.3% increase in adults with cardiovascular disease occurring mostly in lower income areas despite the overall decline of heart disease in the general population in 2016 (Dai et al. 2). \n",
    "    \n",
    "Therefore, there exists a push for more efficient  methods of diagnosing individuals at high risk of heart disease. Consequently, we aim to ascertain the severity of heart disease for unique individuals by analyzing a list of attributes taken from a dataset from Cleveland Clinic Foundation. (Detrano et al. 305) The raw dataset was refined by David W. Aha to create the processed dataset that we will utilize. (UCI Machine Learning Repository: Heart Disease Data Set) \n",
    "    \n",
    "\n",
    "This dataset contains 14 attributes of which we isolated six for the purposes of our analysis namely, \n",
    "* age in years\n",
    "* sex\n",
    "* resting blood pressure (trestbps) \n",
    "* chest pain type (cp)\n",
    "* number of major blood vessels coloured by fluoroscopy (ca) \n",
    "* the diagnosis of heart disease (num). \n"
   ]
  },
  {
   "cell_type": "code",
   "execution_count": null,
   "metadata": {},
   "outputs": [],
   "source": [
    "#Please run this cell to load the libraries needed for data analysis \n",
    "library(tidyverse)\n",
    "library(repr)\n",
    "library(tidymodels)\n",
    "options(repr.matrix.max.rows = 6)"
   ]
  },
  {
   "cell_type": "code",
   "execution_count": null,
   "metadata": {},
   "outputs": [],
   "source": [
    "#Please run this cell to download the dataset and read it into a dataframe.\n",
    "\n",
    "my_url <- \"https://archive.ics.uci.edu/ml/machine-learning-databases/heart-disease/processed.cleveland.data\"\n",
    "download.file(my_url, \"cleveland.csv\")\n",
    "cleveland_sel <- read_csv(\"cleveland.csv\", col_names = FALSE)\n",
    "cleveland_sel <- rename(cleveland_sel, \"age\" = X1,\n",
    "                     \"sex\" = X2,\n",
    "                     \"cp\" = X3,\n",
    "                     \"trestbps\" = X4,\n",
    "                     \"chol\" = X5,\n",
    "                     \"fbs\" = X6,\n",
    "                     \"restecg\" = X7,\n",
    "                     \"thalach\" = X8,\n",
    "                     \"exnag\" = X9,\n",
    "                     \"oldpeak\" = X10,\n",
    "                     \"slope\" = X11,\n",
    "                     \"ca\" = X12,\n",
    "                     \"thal\" = X13,\n",
    "                     \"num\" = X14)"
   ]
  },
  {
   "cell_type": "code",
   "execution_count": null,
   "metadata": {},
   "outputs": [],
   "source": [
    "#Here we select for our chosen attributes\n",
    "\n",
    "cleveland_df_sel<-select(cleveland_sel,age, sex, cp, trestbps, ca, num)\n",
    "cleveland_df_sel"
   ]
  },
  {
   "cell_type": "code",
   "execution_count": null,
   "metadata": {},
   "outputs": [],
   "source": [
    "#Please run this cell to filter out rows with missing data \n",
    "\n",
    "cleveland_df_sel_f <- filter(cleveland_df_sel, ca != \"?\") \n",
    "cleveland_df_sel_f\n"
   ]
  },
  {
   "cell_type": "code",
   "execution_count": 29,
   "metadata": {},
   "outputs": [
    {
     "data": {
      "text/html": [
       "299"
      ],
      "text/latex": [
       "299"
      ],
      "text/markdown": [
       "299"
      ],
      "text/plain": [
       "[1] 299"
      ]
     },
     "metadata": {},
     "output_type": "display_data"
    },
    {
     "data": {
      "text/html": [
       "225"
      ],
      "text/latex": [
       "225"
      ],
      "text/markdown": [
       "225"
      ],
      "text/plain": [
       "[1] 225"
      ]
     },
     "metadata": {},
     "output_type": "display_data"
    },
    {
     "data": {
      "text/html": [
       "74"
      ],
      "text/latex": [
       "74"
      ],
      "text/markdown": [
       "74"
      ],
      "text/plain": [
       "[1] 74"
      ]
     },
     "metadata": {},
     "output_type": "display_data"
    },
    {
     "data": {
      "text/html": [
       "<table>\n",
       "<caption>A tibble: 74 × 6</caption>\n",
       "<thead>\n",
       "\t<tr><th scope=col>age</th><th scope=col>sex</th><th scope=col>cp</th><th scope=col>trestbps</th><th scope=col>ca</th><th scope=col>num</th></tr>\n",
       "\t<tr><th scope=col>&lt;dbl&gt;</th><th scope=col>&lt;dbl&gt;</th><th scope=col>&lt;dbl&gt;</th><th scope=col>&lt;dbl&gt;</th><th scope=col>&lt;chr&gt;</th><th scope=col>&lt;dbl&gt;</th></tr>\n",
       "</thead>\n",
       "<tbody>\n",
       "\t<tr><td>63</td><td>1</td><td>4</td><td>130</td><td>1.0</td><td>2</td></tr>\n",
       "\t<tr><td>57</td><td>1</td><td>4</td><td>140</td><td>0.0</td><td>0</td></tr>\n",
       "\t<tr><td>56</td><td>1</td><td>3</td><td>130</td><td>1.0</td><td>2</td></tr>\n",
       "\t<tr><td>⋮</td><td>⋮</td><td>⋮</td><td>⋮</td><td>⋮</td><td>⋮</td></tr>\n",
       "\t<tr><td>41</td><td>1</td><td>2</td><td>120</td><td>0.0</td><td>0</td></tr>\n",
       "\t<tr><td>59</td><td>1</td><td>4</td><td>164</td><td>2.0</td><td>3</td></tr>\n",
       "\t<tr><td>68</td><td>1</td><td>4</td><td>144</td><td>2.0</td><td>2</td></tr>\n",
       "</tbody>\n",
       "</table>\n"
      ],
      "text/latex": [
       "A tibble: 74 × 6\n",
       "\\begin{tabular}{llllll}\n",
       " age & sex & cp & trestbps & ca & num\\\\\n",
       " <dbl> & <dbl> & <dbl> & <dbl> & <chr> & <dbl>\\\\\n",
       "\\hline\n",
       "\t 63 & 1 & 4 & 130 & 1.0 & 2\\\\\n",
       "\t 57 & 1 & 4 & 140 & 0.0 & 0\\\\\n",
       "\t 56 & 1 & 3 & 130 & 1.0 & 2\\\\\n",
       "\t ⋮ & ⋮ & ⋮ & ⋮ & ⋮ & ⋮\\\\\n",
       "\t 41 & 1 & 2 & 120 & 0.0 & 0\\\\\n",
       "\t 59 & 1 & 4 & 164 & 2.0 & 3\\\\\n",
       "\t 68 & 1 & 4 & 144 & 2.0 & 2\\\\\n",
       "\\end{tabular}\n"
      ],
      "text/markdown": [
       "\n",
       "A tibble: 74 × 6\n",
       "\n",
       "| age &lt;dbl&gt; | sex &lt;dbl&gt; | cp &lt;dbl&gt; | trestbps &lt;dbl&gt; | ca &lt;chr&gt; | num &lt;dbl&gt; |\n",
       "|---|---|---|---|---|---|\n",
       "| 63 | 1 | 4 | 130 | 1.0 | 2 |\n",
       "| 57 | 1 | 4 | 140 | 0.0 | 0 |\n",
       "| 56 | 1 | 3 | 130 | 1.0 | 2 |\n",
       "| ⋮ | ⋮ | ⋮ | ⋮ | ⋮ | ⋮ |\n",
       "| 41 | 1 | 2 | 120 | 0.0 | 0 |\n",
       "| 59 | 1 | 4 | 164 | 2.0 | 3 |\n",
       "| 68 | 1 | 4 | 144 | 2.0 | 2 |\n",
       "\n"
      ],
      "text/plain": [
       "   age sex cp trestbps ca  num\n",
       "1  63  1   4  130      1.0 2  \n",
       "2  57  1   4  140      0.0 0  \n",
       "3  56  1   3  130      1.0 2  \n",
       "⋮  ⋮   ⋮   ⋮  ⋮        ⋮   ⋮  \n",
       "72 41  1   2  120      0.0 0  \n",
       "73 59  1   4  164      2.0 3  \n",
       "74 68  1   4  144      2.0 2  "
      ]
     },
     "metadata": {},
     "output_type": "display_data"
    },
    {
     "data": {
      "text/html": [
       "<table>\n",
       "<caption>A tibble: 225 × 6</caption>\n",
       "<thead>\n",
       "\t<tr><th scope=col>age</th><th scope=col>sex</th><th scope=col>cp</th><th scope=col>trestbps</th><th scope=col>ca</th><th scope=col>num</th></tr>\n",
       "\t<tr><th scope=col>&lt;dbl&gt;</th><th scope=col>&lt;dbl&gt;</th><th scope=col>&lt;dbl&gt;</th><th scope=col>&lt;dbl&gt;</th><th scope=col>&lt;chr&gt;</th><th scope=col>&lt;dbl&gt;</th></tr>\n",
       "</thead>\n",
       "<tbody>\n",
       "\t<tr><td>63</td><td>1</td><td>1</td><td>145</td><td>0.0</td><td>0</td></tr>\n",
       "\t<tr><td>67</td><td>1</td><td>4</td><td>160</td><td>3.0</td><td>2</td></tr>\n",
       "\t<tr><td>67</td><td>1</td><td>4</td><td>120</td><td>2.0</td><td>1</td></tr>\n",
       "\t<tr><td>⋮</td><td>⋮</td><td>⋮</td><td>⋮</td><td>⋮</td><td>⋮</td></tr>\n",
       "\t<tr><td>45</td><td>1</td><td>1</td><td>110</td><td>0.0</td><td>1</td></tr>\n",
       "\t<tr><td>57</td><td>1</td><td>4</td><td>130</td><td>1.0</td><td>3</td></tr>\n",
       "\t<tr><td>57</td><td>0</td><td>2</td><td>130</td><td>1.0</td><td>1</td></tr>\n",
       "</tbody>\n",
       "</table>\n"
      ],
      "text/latex": [
       "A tibble: 225 × 6\n",
       "\\begin{tabular}{llllll}\n",
       " age & sex & cp & trestbps & ca & num\\\\\n",
       " <dbl> & <dbl> & <dbl> & <dbl> & <chr> & <dbl>\\\\\n",
       "\\hline\n",
       "\t 63 & 1 & 1 & 145 & 0.0 & 0\\\\\n",
       "\t 67 & 1 & 4 & 160 & 3.0 & 2\\\\\n",
       "\t 67 & 1 & 4 & 120 & 2.0 & 1\\\\\n",
       "\t ⋮ & ⋮ & ⋮ & ⋮ & ⋮ & ⋮\\\\\n",
       "\t 45 & 1 & 1 & 110 & 0.0 & 1\\\\\n",
       "\t 57 & 1 & 4 & 130 & 1.0 & 3\\\\\n",
       "\t 57 & 0 & 2 & 130 & 1.0 & 1\\\\\n",
       "\\end{tabular}\n"
      ],
      "text/markdown": [
       "\n",
       "A tibble: 225 × 6\n",
       "\n",
       "| age &lt;dbl&gt; | sex &lt;dbl&gt; | cp &lt;dbl&gt; | trestbps &lt;dbl&gt; | ca &lt;chr&gt; | num &lt;dbl&gt; |\n",
       "|---|---|---|---|---|---|\n",
       "| 63 | 1 | 1 | 145 | 0.0 | 0 |\n",
       "| 67 | 1 | 4 | 160 | 3.0 | 2 |\n",
       "| 67 | 1 | 4 | 120 | 2.0 | 1 |\n",
       "| ⋮ | ⋮ | ⋮ | ⋮ | ⋮ | ⋮ |\n",
       "| 45 | 1 | 1 | 110 | 0.0 | 1 |\n",
       "| 57 | 1 | 4 | 130 | 1.0 | 3 |\n",
       "| 57 | 0 | 2 | 130 | 1.0 | 1 |\n",
       "\n"
      ],
      "text/plain": [
       "    age sex cp trestbps ca  num\n",
       "1   63  1   1  145      0.0 0  \n",
       "2   67  1   4  160      3.0 2  \n",
       "3   67  1   4  120      2.0 1  \n",
       "⋮   ⋮   ⋮   ⋮  ⋮        ⋮   ⋮  \n",
       "223 45  1   1  110      0.0 1  \n",
       "224 57  1   4  130      1.0 3  \n",
       "225 57  0   2  130      1.0 1  "
      ]
     },
     "metadata": {},
     "output_type": "display_data"
    }
   ],
   "source": [
    "patients_split<-initial_split(cleveland_df_sel_f, prop = 0.75, strata = cp)  \n",
    "patients_train<- training(patients_split)\n",
    "patients_test<- testing(patients_split)\n",
    "\n",
    "nrow(cleveland_df_sel_f)\n",
    "nrow(patients_train)\n",
    "nrow(patients_test)\n",
    "\n",
    "\n",
    "patients_test\n",
    "patients_train\n"
   ]
  },
  {
   "cell_type": "code",
   "execution_count": null,
   "metadata": {},
   "outputs": [],
   "source": [
    "#Run this cell to obtain the total number of patients \n",
    "\n",
    "num_Patients <- cleveland_df_sel_f %>% summarize(n_patients = n())\n",
    "num_Patients"
   ]
  },
  {
   "cell_type": "code",
   "execution_count": null,
   "metadata": {},
   "outputs": [],
   "source": [
    "#Run this cell to obtain the number of male and female patients respectively. \n",
    "\n",
    "n_each_gender <- cleveland_df_sel_f %>% group_by(sex) %>% summarize(n= n())\n",
    "\n",
    "n_each_gender <- pivot_wider(n_each_gender, names_from = sex, values_from = n)\n",
    "\n",
    "n_each_gender <- \n",
    "        rename(n_each_gender, \n",
    "              \"female\" = \"0\",\n",
    "              \"male\" = \"1\") %>% mutate(\"female\" = as.character(female), \"male\" = as.character(male))\n",
    "\n",
    "n_each_gender <- pivot_longer(n_each_gender, cols = female:male, names_to = \"Sex\", values_to = \"n\") %>% mutate(n = as.numeric(n))\n",
    "\n",
    "n_each_gender \n"
   ]
  },
  {
   "cell_type": "code",
   "execution_count": null,
   "metadata": {},
   "outputs": [],
   "source": [
    "#Run this cell to obtain a visualisation of the proportion of male and female patients\n",
    "\n",
    "options(repr.plot.width = 5, repr.plot.height = 7)\n",
    "\n",
    "sex_bar<- ggplot(n_each_gender, aes(x = Sex, y = n)) + \n",
    "    geom_bar(stat = \"identity\") +\n",
    "    xlab(\"Sex\") +\n",
    "    ylab(\"Number of Patients\")+\n",
    "    theme(text = element_text(size = 20))+ \n",
    "    ggtitle(\"Sex versus Number of Patients\")\n",
    "\n",
    "sex_bar"
   ]
  },
  {
   "cell_type": "code",
   "execution_count": null,
   "metadata": {},
   "outputs": [],
   "source": [
    "#Run this cell to find the average age of both female and male patients respectively\n",
    "\n",
    "mean_age <- cleveland_df_sel_f %>% group_by(sex) %>% summarize(avg = mean(age))\n",
    "\n",
    "mean_age <- pivot_wider(mean_age, names_from = sex, values_from = avg)\n",
    "\n",
    "mean_age <- \n",
    "        rename(mean_age, \n",
    "              \"female\" = \"0\",\n",
    "              \"male\" = \"1\") %>% mutate(\"female\" = as.character(female), \"male\" = as.character(male))\n",
    "\n",
    "mean_age <- pivot_longer(mean_age, cols = female:male, names_to = \"sex\", values_to = \"avg_age\") %>% mutate(avg_age = as.numeric(avg_age))\n",
    "\n",
    "mean_age\n"
   ]
  },
  {
   "cell_type": "code",
   "execution_count": null,
   "metadata": {},
   "outputs": [],
   "source": [
    "#Run this cell to find the exact distribution of patients with each type of chest pain \n",
    "\n",
    "n_chest_pain <- cleveland_df_sel_f %>% group_by(cp) %>% summarize(n = n())\n",
    "\n",
    "n_chest_pain <- pivot_wider(n_chest_pain, names_from = cp, values_from = n)\n",
    "\n",
    "n_chest_pain <- \n",
    "        rename(n_chest_pain, \n",
    "              \"typical_angina\" = \"1\",\n",
    "              \"atypical_angina\" = \"2\", \"Non_anginal_pain\" = \"3\", \"Asymptomatic\" = \"4\") #%>% mutate(\"female\" = as.character(female), \"male\" = as.character(male))\n",
    "\n",
    "n_chest_pain <- pivot_longer(n_chest_pain, cols = typical_angina:Asymptomatic, names_to = \"chest_pain\", values_to = \"n\") %>% mutate(n = as.numeric(n))\n",
    "\n",
    "\n",
    "n_chest_pain\n"
   ]
  },
  {
   "cell_type": "code",
   "execution_count": null,
   "metadata": {},
   "outputs": [],
   "source": [
    "#Run this cell to find the minimum and maximum rest blood pressure in each age group. \n",
    "#Young adult (18-35 years old)\n",
    "#Middle adult(36-55 years old)\n",
    "#Old adult (>55 years old)\n",
    "#Classifications obtained from (Marateb and Goudarzi, 216) \n",
    "\n",
    "\n",
    "young_adult_bps <- cleveland_df_sel_f %>%\n",
    "select(age,trestbps) %>%\n",
    "filter(between(age,18, 35))\n",
    "\n",
    "middle_adult_bps <- cleveland_df_sel_f %>%\n",
    "select(age,trestbps) %>%\n",
    "filter(between(age,36, 55))\n",
    "\n",
    "old_adult_bps <- cleveland_df_sel_f %>%\n",
    "select(age, trestbps) %>%\n",
    "filter(between(age,55,77))\n",
    "\n",
    "max_young_trestbps <- young_adult_bps %>% \n",
    "    arrange(desc(trestbps))%>% \n",
    "    head(n=1)\n",
    "\n",
    "min_young_trestbps <- young_adult_bps %>% \n",
    "    arrange(desc(trestbps)) %>%\n",
    "    tail(n=1)\n",
    "\n",
    "max_middle_trestbps <- middle_adult_bps %>% \n",
    "    arrange(desc(trestbps)) %>%\n",
    "    head(n=1)\n",
    "\n",
    "min_middle_trestbps <- middle_adult_bps %>% \n",
    "    arrange(desc(trestbps)) %>%\n",
    "    tail(n=1)\n",
    "\n",
    "max_old_trestbps <- old_adult_bps %>% \n",
    "    arrange(desc(trestbps)) %>%\n",
    "    head(n=1)\n",
    "\n",
    "min_old_trestbps <- old_adult_bps %>% \n",
    "    arrange(desc(trestbps)) %>%\n",
    "    tail(n=1)\n",
    "\n",
    "\n",
    "max_young_trestbps\n",
    "min_young_trestbps\n",
    "\n",
    "max_middle_trestbps\n",
    "min_middle_trestbps\n",
    "\n",
    "max_old_trestbps\n",
    "min_old_trestbps\n"
   ]
  },
  {
   "cell_type": "code",
   "execution_count": null,
   "metadata": {},
   "outputs": [],
   "source": [
    "#Run this cell to obtain mean resting blood pressure in relation to ca\n",
    "\n",
    "mean_rbp <- cleveland_df_sel_f %>% group_by(ca) %>% summarize(avg_rbp = mean(trestbps))\n",
    "mean_rbp"
   ]
  },
  {
   "cell_type": "code",
   "execution_count": null,
   "metadata": {},
   "outputs": [],
   "source": [
    "#Run this cell to obtain visualisation of Age versus Resting blood pressure\n",
    "\n",
    "options(repr.plot.width = 12, repr.plot.height = 7)\n",
    "\n",
    "age_vs_rbps_plot <- ggplot(cleveland_df_sel_f, aes(x = age, y = trestbps, color = as_factor(num))) +\n",
    "                    geom_point(alpha = 0.5) +\n",
    "                    labs(x = \"Age (years)\", y = \"Resting blood pressure (mmHg)\", color = \"Diagnosis of Heart Disease\") +\n",
    "                    theme(text = element_text(size = 20)) + \n",
    "                    ggtitle(\"Age versus Resting blood pressure\") +\n",
    "                    scale_color_manual(labels = c(\"0\", \"1\",\"2\",\"3\",\"4\"), values = c(\"red\",\"blue\",\"yellow\",\"green\",\"black\"))\n",
    "age_vs_rbps_plot"
   ]
  },
  {
   "cell_type": "markdown",
   "metadata": {},
   "source": [
    "## Methods:\n",
    "We aim to find the relationship between the chosen five variables and the severity of heart disease to discover which variable has the most influence on heart disease. \n",
    "* We picked five variables in total, **age, sex, resting blood pressure *(trestbps)*, chest pain type *(cp)*, and the number of major blood vessels colored by fluoroscopy *(ca)***. We selected **diagnosis of heart disease and severity *(nu)*** as our target variable, which we will compare to each of our five variables.\n",
    "\n",
    "* We plan to utilize a bar plot to show the distribution of sex, as this is a categorical variable that we want to use to make comparisons. Scatter plots will be used to display the relationships between the remainder of our variables due to their quantitative nature.\n"
   ]
  },
  {
   "cell_type": "markdown",
   "metadata": {},
   "source": [
    "## Expected outcomes and significance\n",
    "Increasing age and the risk of contracting a heart disease has been consistently shown to be positively correlated (Roth et al. 2985) and the average lifestyle men lead typically incorporates more high risk factors for heart disease compared to women. (Dai et al. 6) As such, older men are more likely to contract cardiovascular diseases, and we would expect to see this reflected in our results. \n",
    "\n",
    "Through this project, we hope to create a classification model that can contribute to the ongoing effort to help healthcare workers efficiently target individuals at risk of developing heart disease or quickly identify the severity of the disease for patients.  \n",
    "\n",
    "It is noteworthy that the dataset that we used to train our model was formed from data collected over a time period of May 1981 to 1984 (Detrano et al. 305), and the implications of the age of the data has not been explored. As such, it would be interesting to repeat the project with more recent data to observe for any differences in observations. Furthermore, the financial status of the patients was not noted and consequently the proportion of low income individuals in the test group is unknown. Considering the goal of our project, it would be worth exploring if focusing more explicitly on low income individuals using the same model would produce different results. \n"
   ]
  },
  {
   "cell_type": "markdown",
   "metadata": {},
   "source": [
    "## Bibliography \n",
    "\n",
    "Bowry, Ashna D. K., et al. ‘The Burden of Cardiovascular Disease in Low- and Middle-Income Countries: Epidemiology and Management’. Canadian Journal of Cardiology, vol. 31, no. 9, Sept. 2015, pp. 1151–59. DOI.org (Crossref), https://doi.org/10.1016/j.cjca.2015.06.028.\n",
    "\n",
    "Dai, Haijiang, et al. ‘Regional and Socioeconomic Disparities in Cardiovascular Disease in Canada during 2005–2016: Evidence from Repeated Nationwide Cross-Sectional Surveys’. BMJ Global Health, vol. 6, no. 11, Nov. 2021, p. e006809. DOI.org (Crossref), https://doi.org/10.1136/bmjgh-2021-006809.\n",
    "\n",
    "Detrano, Robert, et al. ‘International Application of a New Probability Algorithm for the Diagnosis of Coronary Artery Disease’. The American Journal of Cardiology, vol. 64, no. 5, Aug. 1989, pp. 304–10. ScienceDirect, https://doi.org/10.1016/0002-9149(89)90524-9.\n",
    "\n",
    "UCI Machine Learning Repository: Heart Disease Data Set. https://archive.ics.uci.edu/ml/datasets/Heart+Disease. Accessed 3 Mar. 2022.\n",
    "\n",
    "Roth, Gregory A., et al. ‘Global Burden of Cardiovascular Diseases and Risk Factors, 1990–2019’. Journal of the American College of Cardiology, vol. 76, no. 25, Dec. 2020, pp. 2982–3021. DOI.org (Crossref), https://doi.org/10.1016/j.jacc.2020.11.010.\n",
    "\n",
    "Marateb, Hamid Reza, and Sobhan Goudarzi. ‘A Noninvasive Method for Coronary Artery Diseases Diagnosis Using a Clinically-Interpretable Fuzzy Rule-Based System’. Journal of Research in Medical Sciences : The Official Journal of Isfahan University of Medical Sciences, vol. 20, no. 3, Mar. 2015, pp. 214–23.\n",
    "\n"
   ]
  },
  {
   "cell_type": "code",
   "execution_count": null,
   "metadata": {},
   "outputs": [],
   "source": []
  }
 ],
 "metadata": {
  "kernelspec": {
   "display_name": "R",
   "language": "R",
   "name": "ir"
  },
  "language_info": {
   "codemirror_mode": "r",
   "file_extension": ".r",
   "mimetype": "text/x-r-source",
   "name": "R",
   "pygments_lexer": "r",
   "version": "4.0.0"
  }
 },
 "nbformat": 4,
 "nbformat_minor": 4
}
