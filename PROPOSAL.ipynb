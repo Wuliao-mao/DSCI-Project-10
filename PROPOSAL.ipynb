{
 "cells": [
  {
   "cell_type": "markdown",
   "metadata": {},
   "source": [
    "## Intoduction:\n",
    "    Though treatment has advanced tremendously, the prevalence of heart disease has continued to rise in lower-income communities, contributing to the pervasiveness of cardiovascular disease as a leading cause of premature death (Bowry et al. 1151). Similarly, this trend is reflected in Canada, with the 11.3% increase in adults with cardiovascular disease occurring mostly in lower income areas despite the overall decline of heart disease in the general population in 2016 (Dai et al. 2). Therefore, there exists a push for more efficient  methods of diagnosing individuals at high risk of heart disease. Consequently, we aim to ascertain the severity of heart disease for unique individuals by analyzing a list of attributes taken from a dataset from Cleveland Clinic Foundation. (Detrano et al. 305) The raw dataset was refined by David W. Aha to create the processed dataset that we will utilize. (UCI Machine Learning Repository: Heart Disease Data Set) \n",
    "    This dataset contains 14 attributes of which we isolated six for the purposes of our analysis namely, \n",
    "* age in years, \n",
    "* sex, \n",
    "* resting blood pressure (trestbps), \n",
    "* chest pain type (cp), \n",
    "* number of major blood vessels coloured by fluoroscopy (ca) \n",
    "* the diagnosis of heart disease (num). \n"
   ]
  },
  {
   "cell_type": "markdown",
   "metadata": {},
   "source": [
    "Loading the libraries needed for data analysis."
   ]
  },
  {
   "cell_type": "code",
   "execution_count": 80,
   "metadata": {},
   "outputs": [],
   "source": [
    "library(tidyverse)\n",
    "library(repr)\n",
    "library(tidymodels)\n",
    "options(repr.matrix.max.rows = 6)"
   ]
  },
  {
   "cell_type": "markdown",
   "metadata": {},
   "source": [
    "Downloading dataset from the Web and reading into a dataframe."
   ]
  },
  {
   "cell_type": "code",
   "execution_count": null,
   "metadata": {},
   "outputs": [],
   "source": [
    "my_url <- \"https://archive.ics.uci.edu/ml/machine-learning-databases/heart-disease/processed.cleveland.data\"\n",
    "download.file(my_url, \"cleveland.csv\")\n",
    "cleveland_sel <- read_csv(\"cleveland.csv\", col_names = FALSE)\n",
    "cleveland_sel <- rename(cleveland_sel, \"age\" = X1,\n",
    "                     \"sex\" = X2,\n",
    "                     \"cp\" = X3,\n",
    "                     \"trestbps\" = X4,\n",
    "                     \"chol\" = X5,\n",
    "                     \"fbs\" = X6,\n",
    "                     \"restecg\" = X7,\n",
    "                     \"thalach\" = X8,\n",
    "                     \"exnag\" = X9,\n",
    "                     \"oldpeak\" = X10,\n",
    "                     \"slope\" = X11,\n",
    "                     \"ca\" = X12,\n",
    "                     \"thal\" = X13,\n",
    "                     \"num\" = X14)"
   ]
  },
  {
   "cell_type": "code",
   "execution_count": null,
   "metadata": {},
   "outputs": [],
   "source": [
    "cleveland_df_sel<-select(cleveland_df,age, sex, cp, trestbps, ca, num)\n",
    "cleveland_df_sel"
   ]
  },
  {
   "cell_type": "code",
   "execution_count": 83,
   "metadata": {},
   "outputs": [
    {
     "data": {
      "text/html": [
       "206"
      ],
      "text/latex": [
       "206"
      ],
      "text/markdown": [
       "206"
      ],
      "text/plain": [
       "[1] 206"
      ]
     },
     "metadata": {},
     "output_type": "display_data"
    },
    {
     "data": {
      "text/html": [
       "97"
      ],
      "text/latex": [
       "97"
      ],
      "text/markdown": [
       "97"
      ],
      "text/plain": [
       "[1] 97"
      ]
     },
     "metadata": {},
     "output_type": "display_data"
    }
   ],
   "source": [
    "num_Patients_male <- filter(cleveland_df_sel, sex == 1) %>%  nrow()\n",
    "num_Patients_male\n",
    "num_Patients_famale <- filter(cleveland_df_sel, sex == 0) %>%  nrow()\n",
    "num_Patients_famale"
   ]
  },
  {
   "cell_type": "code",
   "execution_count": null,
   "metadata": {},
   "outputs": [],
   "source": [
    "#num_patience<-nrow(cleveland_df_sel)\n",
    "#num_patience\n",
    "\n",
    "num_Patients <- cleveland_df_sel %>% summarize(n_patients = n())\n",
    "num_Patients"
   ]
  },
  {
   "cell_type": "code",
   "execution_count": null,
   "metadata": {},
   "outputs": [],
   "source": [
    "n_each_gender <- cleveland_df_sel %>% group_by(sex) %>% summarize(n= n())\n",
    "\n",
    "n_each_gender <- pivot_wider(n_each_gender, names_from = sex, values_from = n)\n",
    "\n",
    "n_each_gender <- \n",
    "        rename(n_each_gender, \n",
    "              \"female\" = \"0\",\n",
    "              \"male\" = \"1\") %>% mutate(\"female\" = as.character(female), \"male\" = as.character(male))\n",
    "\n",
    "n_each_gender <- pivot_longer(n_each_gender, cols = female:male, names_to = \"Sex\", values_to = \"n\") %>% mutate(n = as.numeric(n))\n",
    "\n",
    "n_each_gender \n"
   ]
  },
  {
   "cell_type": "code",
   "execution_count": null,
   "metadata": {},
   "outputs": [],
   "source": [
    "sex_bar<- ggplot(n_each_gender, aes(x = Sex, y = n)) + \n",
    "    geom_bar(stat = \"identity\") +\n",
    "    xlab(\"Sex\") +\n",
    "    ylab(\"Number of Patients\")+\n",
    "    theme(text = element_text(size = 20))+ \n",
    "    ggtitle(\"Sex versus Number of Patients\")\n",
    "\n",
    "sex_bar"
   ]
  },
  {
   "cell_type": "code",
   "execution_count": null,
   "metadata": {},
   "outputs": [],
   "source": [
    "\n",
    "mean_age <- cleveland_df %>% group_by(sex) %>% summarize(avg = mean(age))\n",
    "\n",
    "mean_age <- pivot_wider(mean_age, names_from = sex, values_from = avg)\n",
    "\n",
    "mean_age <- \n",
    "        rename(mean_age, \n",
    "              \"female\" = \"0\",\n",
    "              \"male\" = \"1\") %>% mutate(\"female\" = as.character(female), \"male\" = as.character(male))\n",
    "\n",
    "mean_age <- pivot_longer(mean_age, cols = female:male, names_to = \"sex\", values_to = \"avg_age\") %>% mutate(avg_age = as.numeric(avg_age))\n",
    "\n",
    "mean_age\n"
   ]
  },
  {
   "cell_type": "code",
   "execution_count": 86,
   "metadata": {},
   "outputs": [
    {
     "name": "stderr",
     "output_type": "stream",
     "text": [
      "`summarise()` ungrouping output (override with `.groups` argument)\n",
      "\n"
     ]
    },
    {
     "data": {
      "text/html": [
       "<table>\n",
       "<caption>A tibble: 4 × 2</caption>\n",
       "<thead>\n",
       "\t<tr><th scope=col>chest_pain</th><th scope=col>n</th></tr>\n",
       "\t<tr><th scope=col>&lt;chr&gt;</th><th scope=col>&lt;dbl&gt;</th></tr>\n",
       "</thead>\n",
       "<tbody>\n",
       "\t<tr><td>typical_angina  </td><td> 23</td></tr>\n",
       "\t<tr><td>atypical_angina </td><td> 50</td></tr>\n",
       "\t<tr><td>Non_anginal_pain</td><td> 86</td></tr>\n",
       "\t<tr><td>Asymptomatic    </td><td>144</td></tr>\n",
       "</tbody>\n",
       "</table>\n"
      ],
      "text/latex": [
       "A tibble: 4 × 2\n",
       "\\begin{tabular}{ll}\n",
       " chest\\_pain & n\\\\\n",
       " <chr> & <dbl>\\\\\n",
       "\\hline\n",
       "\t typical\\_angina   &  23\\\\\n",
       "\t atypical\\_angina  &  50\\\\\n",
       "\t Non\\_anginal\\_pain &  86\\\\\n",
       "\t Asymptomatic     & 144\\\\\n",
       "\\end{tabular}\n"
      ],
      "text/markdown": [
       "\n",
       "A tibble: 4 × 2\n",
       "\n",
       "| chest_pain &lt;chr&gt; | n &lt;dbl&gt; |\n",
       "|---|---|\n",
       "| typical_angina   |  23 |\n",
       "| atypical_angina  |  50 |\n",
       "| Non_anginal_pain |  86 |\n",
       "| Asymptomatic     | 144 |\n",
       "\n"
      ],
      "text/plain": [
       "  chest_pain       n  \n",
       "1 typical_angina    23\n",
       "2 atypical_angina   50\n",
       "3 Non_anginal_pain  86\n",
       "4 Asymptomatic     144"
      ]
     },
     "metadata": {},
     "output_type": "display_data"
    }
   ],
   "source": [
    "n_chest_pain <- cleveland_df_sel %>% group_by(cp) %>% summarize(n = n())\n",
    "\n",
    "n_chest_pain <- pivot_wider(n_chest_pain, names_from = cp, values_from = n)\n",
    "\n",
    "n_chest_pain <- \n",
    "        rename(n_chest_pain, \n",
    "              \"typical_angina\" = \"1\",\n",
    "              \"atypical_angina\" = \"2\", \"Non_anginal_pain\" = \"3\", \"Asymptomatic\" = \"4\") #%>% mutate(\"female\" = as.character(female), \"male\" = as.character(male))\n",
    "\n",
    "n_chest_pain <- pivot_longer(n_chest_pain, cols = typical_angina:Asymptomatic, names_to = \"chest_pain\", values_to = \"n\") %>% mutate(n = as.numeric(n))\n",
    "\n",
    "\n",
    "n_chest_pain\n"
   ]
  },
  {
   "cell_type": "code",
   "execution_count": 88,
   "metadata": {},
   "outputs": [
    {
     "data": {
      "text/html": [
       "<table>\n",
       "<caption>A tibble: 1 × 2</caption>\n",
       "<thead>\n",
       "\t<tr><th scope=col>age</th><th scope=col>trestbps</th></tr>\n",
       "\t<tr><th scope=col>&lt;dbl&gt;</th><th scope=col>&lt;dbl&gt;</th></tr>\n",
       "</thead>\n",
       "<tbody>\n",
       "\t<tr><td>35</td><td>138</td></tr>\n",
       "</tbody>\n",
       "</table>\n"
      ],
      "text/latex": [
       "A tibble: 1 × 2\n",
       "\\begin{tabular}{ll}\n",
       " age & trestbps\\\\\n",
       " <dbl> & <dbl>\\\\\n",
       "\\hline\n",
       "\t 35 & 138\\\\\n",
       "\\end{tabular}\n"
      ],
      "text/markdown": [
       "\n",
       "A tibble: 1 × 2\n",
       "\n",
       "| age &lt;dbl&gt; | trestbps &lt;dbl&gt; |\n",
       "|---|---|\n",
       "| 35 | 138 |\n",
       "\n"
      ],
      "text/plain": [
       "  age trestbps\n",
       "1 35  138     "
      ]
     },
     "metadata": {},
     "output_type": "display_data"
    },
    {
     "data": {
      "text/html": [
       "<table>\n",
       "<caption>A tibble: 1 × 2</caption>\n",
       "<thead>\n",
       "\t<tr><th scope=col>age</th><th scope=col>trestbps</th></tr>\n",
       "\t<tr><th scope=col>&lt;dbl&gt;</th><th scope=col>&lt;dbl&gt;</th></tr>\n",
       "</thead>\n",
       "<tbody>\n",
       "\t<tr><td>34</td><td>118</td></tr>\n",
       "</tbody>\n",
       "</table>\n"
      ],
      "text/latex": [
       "A tibble: 1 × 2\n",
       "\\begin{tabular}{ll}\n",
       " age & trestbps\\\\\n",
       " <dbl> & <dbl>\\\\\n",
       "\\hline\n",
       "\t 34 & 118\\\\\n",
       "\\end{tabular}\n"
      ],
      "text/markdown": [
       "\n",
       "A tibble: 1 × 2\n",
       "\n",
       "| age &lt;dbl&gt; | trestbps &lt;dbl&gt; |\n",
       "|---|---|\n",
       "| 34 | 118 |\n",
       "\n"
      ],
      "text/plain": [
       "  age trestbps\n",
       "1 34  118     "
      ]
     },
     "metadata": {},
     "output_type": "display_data"
    },
    {
     "data": {
      "text/html": [
       "<table>\n",
       "<caption>A tibble: 1 × 2</caption>\n",
       "<thead>\n",
       "\t<tr><th scope=col>age</th><th scope=col>trestbps</th></tr>\n",
       "\t<tr><th scope=col>&lt;dbl&gt;</th><th scope=col>&lt;dbl&gt;</th></tr>\n",
       "</thead>\n",
       "<tbody>\n",
       "\t<tr><td>54</td><td>192</td></tr>\n",
       "</tbody>\n",
       "</table>\n"
      ],
      "text/latex": [
       "A tibble: 1 × 2\n",
       "\\begin{tabular}{ll}\n",
       " age & trestbps\\\\\n",
       " <dbl> & <dbl>\\\\\n",
       "\\hline\n",
       "\t 54 & 192\\\\\n",
       "\\end{tabular}\n"
      ],
      "text/markdown": [
       "\n",
       "A tibble: 1 × 2\n",
       "\n",
       "| age &lt;dbl&gt; | trestbps &lt;dbl&gt; |\n",
       "|---|---|\n",
       "| 54 | 192 |\n",
       "\n"
      ],
      "text/plain": [
       "  age trestbps\n",
       "1 54  192     "
      ]
     },
     "metadata": {},
     "output_type": "display_data"
    },
    {
     "data": {
      "text/html": [
       "<table>\n",
       "<caption>A tibble: 1 × 2</caption>\n",
       "<thead>\n",
       "\t<tr><th scope=col>age</th><th scope=col>trestbps</th></tr>\n",
       "\t<tr><th scope=col>&lt;dbl&gt;</th><th scope=col>&lt;dbl&gt;</th></tr>\n",
       "</thead>\n",
       "<tbody>\n",
       "\t<tr><td>39</td><td>94</td></tr>\n",
       "</tbody>\n",
       "</table>\n"
      ],
      "text/latex": [
       "A tibble: 1 × 2\n",
       "\\begin{tabular}{ll}\n",
       " age & trestbps\\\\\n",
       " <dbl> & <dbl>\\\\\n",
       "\\hline\n",
       "\t 39 & 94\\\\\n",
       "\\end{tabular}\n"
      ],
      "text/markdown": [
       "\n",
       "A tibble: 1 × 2\n",
       "\n",
       "| age &lt;dbl&gt; | trestbps &lt;dbl&gt; |\n",
       "|---|---|\n",
       "| 39 | 94 |\n",
       "\n"
      ],
      "text/plain": [
       "  age trestbps\n",
       "1 39  94      "
      ]
     },
     "metadata": {},
     "output_type": "display_data"
    },
    {
     "data": {
      "text/html": [
       "<table>\n",
       "<caption>A tibble: 1 × 2</caption>\n",
       "<thead>\n",
       "\t<tr><th scope=col>age</th><th scope=col>trestbps</th></tr>\n",
       "\t<tr><th scope=col>&lt;dbl&gt;</th><th scope=col>&lt;dbl&gt;</th></tr>\n",
       "</thead>\n",
       "<tbody>\n",
       "\t<tr><td>56</td><td>200</td></tr>\n",
       "</tbody>\n",
       "</table>\n"
      ],
      "text/latex": [
       "A tibble: 1 × 2\n",
       "\\begin{tabular}{ll}\n",
       " age & trestbps\\\\\n",
       " <dbl> & <dbl>\\\\\n",
       "\\hline\n",
       "\t 56 & 200\\\\\n",
       "\\end{tabular}\n"
      ],
      "text/markdown": [
       "\n",
       "A tibble: 1 × 2\n",
       "\n",
       "| age &lt;dbl&gt; | trestbps &lt;dbl&gt; |\n",
       "|---|---|\n",
       "| 56 | 200 |\n",
       "\n"
      ],
      "text/plain": [
       "  age trestbps\n",
       "1 56  200     "
      ]
     },
     "metadata": {},
     "output_type": "display_data"
    },
    {
     "data": {
      "text/html": [
       "<table>\n",
       "<caption>A tibble: 1 × 2</caption>\n",
       "<thead>\n",
       "\t<tr><th scope=col>age</th><th scope=col>trestbps</th></tr>\n",
       "\t<tr><th scope=col>&lt;dbl&gt;</th><th scope=col>&lt;dbl&gt;</th></tr>\n",
       "</thead>\n",
       "<tbody>\n",
       "\t<tr><td>58</td><td>100</td></tr>\n",
       "</tbody>\n",
       "</table>\n"
      ],
      "text/latex": [
       "A tibble: 1 × 2\n",
       "\\begin{tabular}{ll}\n",
       " age & trestbps\\\\\n",
       " <dbl> & <dbl>\\\\\n",
       "\\hline\n",
       "\t 58 & 100\\\\\n",
       "\\end{tabular}\n"
      ],
      "text/markdown": [
       "\n",
       "A tibble: 1 × 2\n",
       "\n",
       "| age &lt;dbl&gt; | trestbps &lt;dbl&gt; |\n",
       "|---|---|\n",
       "| 58 | 100 |\n",
       "\n"
      ],
      "text/plain": [
       "  age trestbps\n",
       "1 58  100     "
      ]
     },
     "metadata": {},
     "output_type": "display_data"
    }
   ],
   "source": [
    "young_adult_bps <- cleveland_df_sel %>%\n",
    "select(age,trestbps) %>%\n",
    "filter(between(age,18, 35))\n",
    "\n",
    "middle_adult_bps <- cleveland_df_sel %>%\n",
    "select(age,trestbps) %>%\n",
    "filter(between(age,36, 55))\n",
    "\n",
    "old_adult_bps <- cleveland_df_sel %>%\n",
    "select(age, trestbps) %>%\n",
    "filter(between(age,55,77))\n",
    "\n",
    "max_young_trestbps <- young_adult_bps %>% \n",
    "    arrange(desc(trestbps))%>% \n",
    "    head(n=1)\n",
    "\n",
    "min_young_trestbps <- young_adult_bps %>% \n",
    "    arrange(desc(trestbps)) %>%\n",
    "    tail(n=1)\n",
    "\n",
    "max_middle_trestbps <- middle_adult_bps %>% \n",
    "    arrange(desc(trestbps)) %>%\n",
    "    head(n=1)\n",
    "\n",
    "min_middle_trestbps <- middle_adult_bps %>% \n",
    "    arrange(desc(trestbps)) %>%\n",
    "    tail(n=1)\n",
    "\n",
    "max_old_trestbps <- old_adult_bps %>% \n",
    "    arrange(desc(trestbps)) %>%\n",
    "    head(n=1)\n",
    "\n",
    "min_old_trestbps <- old_adult_bps %>% \n",
    "    arrange(desc(trestbps)) %>%\n",
    "    tail(n=1)\n",
    "\n",
    "\n",
    "max_young_trestbps\n",
    "min_young_trestbps\n",
    "\n",
    "max_middle_trestbps\n",
    "min_middle_trestbps\n",
    "\n",
    "max_old_trestbps\n",
    "min_old_trestbps\n"
   ]
  },
  {
   "cell_type": "code",
   "execution_count": null,
   "metadata": {},
   "outputs": [],
   "source": []
  }
 ],
 "metadata": {
  "kernelspec": {
   "display_name": "R",
   "language": "R",
   "name": "ir"
  },
  "language_info": {
   "codemirror_mode": "r",
   "file_extension": ".r",
   "mimetype": "text/x-r-source",
   "name": "R",
   "pygments_lexer": "r",
   "version": "4.0.0"
  }
 },
 "nbformat": 4,
 "nbformat_minor": 4
}
