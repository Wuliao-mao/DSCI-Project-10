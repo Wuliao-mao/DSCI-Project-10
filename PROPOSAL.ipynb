{
 "cells": [
  {
   "cell_type": "markdown",
   "metadata": {},
   "source": [
    "# Data analysis on heart disease directory "
   ]
  },
  {
   "cell_type": "markdown",
   "metadata": {},
   "source": [
    "Group 10: "
   ]
  },
  {
   "cell_type": "markdown",
   "metadata": {},
   "source": [
    "## Intoduction:\n",
    "    Though treatment has advanced tremendously, the prevalence of heart disease has continued to rise in lower-income communities, contributing to the pervasiveness of cardiovascular disease as a leading cause of premature death (Bowry et al. 1151). Similarly, this trend is reflected in Canada, with the 11.3% increase in adults with cardiovascular disease occurring mostly in lower income areas despite the overall decline of heart disease in the general population in 2016 (Dai et al. 2). \n",
    "    \n",
    "    Therefore, there exists a push for more efficient  methods of diagnosing individuals at high risk of heart disease. Consequently, we aim to ascertain the severity of heart disease for unique individuals by analyzing a list of attributes taken from a dataset from Cleveland Clinic Foundation. (Detrano et al. 305) The raw dataset was refined by David W. Aha to create the processed dataset that we will utilize. (UCI Machine Learning Repository: Heart Disease Data Set) \n",
    "    \n",
    "    This dataset contains 14 attributes of which we isolated six for the purposes of our analysis namely, \n",
    "* age in years, \n",
    "* sex, \n",
    "* resting blood pressure (trestbps), \n",
    "* chest pain type (cp), \n",
    "* number of major blood vessels coloured by fluoroscopy (ca) \n",
    "* the diagnosis of heart disease (num). \n"
   ]
  },
  {
   "cell_type": "markdown",
   "metadata": {},
   "source": [
    "Loading the libraries needed for data analysis."
   ]
  },
  {
   "cell_type": "code",
   "execution_count": 1,
   "metadata": {},
   "outputs": [
    {
     "name": "stderr",
     "output_type": "stream",
     "text": [
      "── \u001b[1mAttaching packages\u001b[22m ─────────────────────────────────────── tidyverse 1.3.0 ──\n",
      "\n",
      "\u001b[32m✔\u001b[39m \u001b[34mggplot2\u001b[39m 3.3.2     \u001b[32m✔\u001b[39m \u001b[34mpurrr  \u001b[39m 0.3.4\n",
      "\u001b[32m✔\u001b[39m \u001b[34mtibble \u001b[39m 3.0.3     \u001b[32m✔\u001b[39m \u001b[34mdplyr  \u001b[39m 1.0.2\n",
      "\u001b[32m✔\u001b[39m \u001b[34mtidyr  \u001b[39m 1.1.2     \u001b[32m✔\u001b[39m \u001b[34mstringr\u001b[39m 1.4.0\n",
      "\u001b[32m✔\u001b[39m \u001b[34mreadr  \u001b[39m 1.3.1     \u001b[32m✔\u001b[39m \u001b[34mforcats\u001b[39m 0.5.0\n",
      "\n",
      "Warning message:\n",
      "“package ‘ggplot2’ was built under R version 4.0.1”\n",
      "Warning message:\n",
      "“package ‘tibble’ was built under R version 4.0.2”\n",
      "Warning message:\n",
      "“package ‘tidyr’ was built under R version 4.0.2”\n",
      "Warning message:\n",
      "“package ‘dplyr’ was built under R version 4.0.2”\n",
      "── \u001b[1mConflicts\u001b[22m ────────────────────────────────────────── tidyverse_conflicts() ──\n",
      "\u001b[31m✖\u001b[39m \u001b[34mdplyr\u001b[39m::\u001b[32mfilter()\u001b[39m masks \u001b[34mstats\u001b[39m::filter()\n",
      "\u001b[31m✖\u001b[39m \u001b[34mdplyr\u001b[39m::\u001b[32mlag()\u001b[39m    masks \u001b[34mstats\u001b[39m::lag()\n",
      "\n",
      "Warning message:\n",
      "“package ‘tidymodels’ was built under R version 4.0.2”\n",
      "── \u001b[1mAttaching packages\u001b[22m ────────────────────────────────────── tidymodels 0.1.1 ──\n",
      "\n",
      "\u001b[32m✔\u001b[39m \u001b[34mbroom    \u001b[39m 0.7.0      \u001b[32m✔\u001b[39m \u001b[34mrecipes  \u001b[39m 0.1.13\n",
      "\u001b[32m✔\u001b[39m \u001b[34mdials    \u001b[39m 0.0.9      \u001b[32m✔\u001b[39m \u001b[34mrsample  \u001b[39m 0.0.7 \n",
      "\u001b[32m✔\u001b[39m \u001b[34minfer    \u001b[39m 0.5.4      \u001b[32m✔\u001b[39m \u001b[34mtune     \u001b[39m 0.1.1 \n",
      "\u001b[32m✔\u001b[39m \u001b[34mmodeldata\u001b[39m 0.0.2      \u001b[32m✔\u001b[39m \u001b[34mworkflows\u001b[39m 0.2.0 \n",
      "\u001b[32m✔\u001b[39m \u001b[34mparsnip  \u001b[39m 0.1.3      \u001b[32m✔\u001b[39m \u001b[34myardstick\u001b[39m 0.0.7 \n",
      "\n",
      "Warning message:\n",
      "“package ‘broom’ was built under R version 4.0.2”\n",
      "Warning message:\n",
      "“package ‘dials’ was built under R version 4.0.2”\n",
      "Warning message:\n",
      "“package ‘infer’ was built under R version 4.0.3”\n",
      "Warning message:\n",
      "“package ‘modeldata’ was built under R version 4.0.1”\n",
      "Warning message:\n",
      "“package ‘parsnip’ was built under R version 4.0.2”\n",
      "Warning message:\n",
      "“package ‘recipes’ was built under R version 4.0.1”\n",
      "Warning message:\n",
      "“package ‘tune’ was built under R version 4.0.2”\n",
      "Warning message:\n",
      "“package ‘workflows’ was built under R version 4.0.2”\n",
      "Warning message:\n",
      "“package ‘yardstick’ was built under R version 4.0.2”\n",
      "── \u001b[1mConflicts\u001b[22m ───────────────────────────────────────── tidymodels_conflicts() ──\n",
      "\u001b[31m✖\u001b[39m \u001b[34mscales\u001b[39m::\u001b[32mdiscard()\u001b[39m masks \u001b[34mpurrr\u001b[39m::discard()\n",
      "\u001b[31m✖\u001b[39m \u001b[34mdplyr\u001b[39m::\u001b[32mfilter()\u001b[39m   masks \u001b[34mstats\u001b[39m::filter()\n",
      "\u001b[31m✖\u001b[39m \u001b[34mrecipes\u001b[39m::\u001b[32mfixed()\u001b[39m  masks \u001b[34mstringr\u001b[39m::fixed()\n",
      "\u001b[31m✖\u001b[39m \u001b[34mdplyr\u001b[39m::\u001b[32mlag()\u001b[39m      masks \u001b[34mstats\u001b[39m::lag()\n",
      "\u001b[31m✖\u001b[39m \u001b[34myardstick\u001b[39m::\u001b[32mspec()\u001b[39m masks \u001b[34mreadr\u001b[39m::spec()\n",
      "\u001b[31m✖\u001b[39m \u001b[34mrecipes\u001b[39m::\u001b[32mstep()\u001b[39m   masks \u001b[34mstats\u001b[39m::step()\n",
      "\n"
     ]
    }
   ],
   "source": [
    "library(tidyverse)\n",
    "library(repr)\n",
    "library(tidymodels)\n",
    "options(repr.matrix.max.rows = 6)"
   ]
  },
  {
   "cell_type": "markdown",
   "metadata": {},
   "source": [
    "Downloading dataset from the Web and reading into a dataframe."
   ]
  },
  {
   "cell_type": "code",
   "execution_count": 2,
   "metadata": {},
   "outputs": [
    {
     "name": "stderr",
     "output_type": "stream",
     "text": [
      "Parsed with column specification:\n",
      "cols(\n",
      "  X1 = \u001b[32mcol_double()\u001b[39m,\n",
      "  X2 = \u001b[32mcol_double()\u001b[39m,\n",
      "  X3 = \u001b[32mcol_double()\u001b[39m,\n",
      "  X4 = \u001b[32mcol_double()\u001b[39m,\n",
      "  X5 = \u001b[32mcol_double()\u001b[39m,\n",
      "  X6 = \u001b[32mcol_double()\u001b[39m,\n",
      "  X7 = \u001b[32mcol_double()\u001b[39m,\n",
      "  X8 = \u001b[32mcol_double()\u001b[39m,\n",
      "  X9 = \u001b[32mcol_double()\u001b[39m,\n",
      "  X10 = \u001b[32mcol_double()\u001b[39m,\n",
      "  X11 = \u001b[32mcol_double()\u001b[39m,\n",
      "  X12 = \u001b[31mcol_character()\u001b[39m,\n",
      "  X13 = \u001b[31mcol_character()\u001b[39m,\n",
      "  X14 = \u001b[32mcol_double()\u001b[39m\n",
      ")\n",
      "\n"
     ]
    }
   ],
   "source": [
    "my_url <- \"https://archive.ics.uci.edu/ml/machine-learning-databases/heart-disease/processed.cleveland.data\"\n",
    "download.file(my_url, \"cleveland.csv\")\n",
    "cleveland_sel <- read_csv(\"cleveland.csv\", col_names = FALSE)\n",
    "cleveland_sel <- rename(cleveland_sel, \"age\" = X1,\n",
    "                     \"sex\" = X2,\n",
    "                     \"cp\" = X3,\n",
    "                     \"trestbps\" = X4,\n",
    "                     \"chol\" = X5,\n",
    "                     \"fbs\" = X6,\n",
    "                     \"restecg\" = X7,\n",
    "                     \"thalach\" = X8,\n",
    "                     \"exnag\" = X9,\n",
    "                     \"oldpeak\" = X10,\n",
    "                     \"slope\" = X11,\n",
    "                     \"ca\" = X12,\n",
    "                     \"thal\" = X13,\n",
    "                     \"num\" = X14)"
   ]
  },
  {
   "cell_type": "code",
   "execution_count": 3,
   "metadata": {},
   "outputs": [
    {
     "data": {
      "text/html": [
       "<table>\n",
       "<caption>A tibble: 303 × 6</caption>\n",
       "<thead>\n",
       "\t<tr><th scope=col>age</th><th scope=col>sex</th><th scope=col>cp</th><th scope=col>trestbps</th><th scope=col>ca</th><th scope=col>num</th></tr>\n",
       "\t<tr><th scope=col>&lt;dbl&gt;</th><th scope=col>&lt;dbl&gt;</th><th scope=col>&lt;dbl&gt;</th><th scope=col>&lt;dbl&gt;</th><th scope=col>&lt;chr&gt;</th><th scope=col>&lt;dbl&gt;</th></tr>\n",
       "</thead>\n",
       "<tbody>\n",
       "\t<tr><td>63</td><td>1</td><td>1</td><td>145</td><td>0.0</td><td>0</td></tr>\n",
       "\t<tr><td>67</td><td>1</td><td>4</td><td>160</td><td>3.0</td><td>2</td></tr>\n",
       "\t<tr><td>67</td><td>1</td><td>4</td><td>120</td><td>2.0</td><td>1</td></tr>\n",
       "\t<tr><td>⋮</td><td>⋮</td><td>⋮</td><td>⋮</td><td>⋮</td><td>⋮</td></tr>\n",
       "\t<tr><td>57</td><td>1</td><td>4</td><td>130</td><td>1.0</td><td>3</td></tr>\n",
       "\t<tr><td>57</td><td>0</td><td>2</td><td>130</td><td>1.0</td><td>1</td></tr>\n",
       "\t<tr><td>38</td><td>1</td><td>3</td><td>138</td><td>?  </td><td>0</td></tr>\n",
       "</tbody>\n",
       "</table>\n"
      ],
      "text/latex": [
       "A tibble: 303 × 6\n",
       "\\begin{tabular}{llllll}\n",
       " age & sex & cp & trestbps & ca & num\\\\\n",
       " <dbl> & <dbl> & <dbl> & <dbl> & <chr> & <dbl>\\\\\n",
       "\\hline\n",
       "\t 63 & 1 & 1 & 145 & 0.0 & 0\\\\\n",
       "\t 67 & 1 & 4 & 160 & 3.0 & 2\\\\\n",
       "\t 67 & 1 & 4 & 120 & 2.0 & 1\\\\\n",
       "\t ⋮ & ⋮ & ⋮ & ⋮ & ⋮ & ⋮\\\\\n",
       "\t 57 & 1 & 4 & 130 & 1.0 & 3\\\\\n",
       "\t 57 & 0 & 2 & 130 & 1.0 & 1\\\\\n",
       "\t 38 & 1 & 3 & 138 & ?   & 0\\\\\n",
       "\\end{tabular}\n"
      ],
      "text/markdown": [
       "\n",
       "A tibble: 303 × 6\n",
       "\n",
       "| age &lt;dbl&gt; | sex &lt;dbl&gt; | cp &lt;dbl&gt; | trestbps &lt;dbl&gt; | ca &lt;chr&gt; | num &lt;dbl&gt; |\n",
       "|---|---|---|---|---|---|\n",
       "| 63 | 1 | 1 | 145 | 0.0 | 0 |\n",
       "| 67 | 1 | 4 | 160 | 3.0 | 2 |\n",
       "| 67 | 1 | 4 | 120 | 2.0 | 1 |\n",
       "| ⋮ | ⋮ | ⋮ | ⋮ | ⋮ | ⋮ |\n",
       "| 57 | 1 | 4 | 130 | 1.0 | 3 |\n",
       "| 57 | 0 | 2 | 130 | 1.0 | 1 |\n",
       "| 38 | 1 | 3 | 138 | ?   | 0 |\n",
       "\n"
      ],
      "text/plain": [
       "    age sex cp trestbps ca  num\n",
       "1   63  1   1  145      0.0 0  \n",
       "2   67  1   4  160      3.0 2  \n",
       "3   67  1   4  120      2.0 1  \n",
       "⋮   ⋮   ⋮   ⋮  ⋮        ⋮   ⋮  \n",
       "301 57  1   4  130      1.0 3  \n",
       "302 57  0   2  130      1.0 1  \n",
       "303 38  1   3  138      ?   0  "
      ]
     },
     "metadata": {},
     "output_type": "display_data"
    }
   ],
   "source": [
    "cleveland_df_sel<-select(cleveland_sel,age, sex, cp, trestbps, ca, num)\n",
    "cleveland_df_sel"
   ]
  },
  {
   "cell_type": "code",
   "execution_count": 4,
   "metadata": {},
   "outputs": [
    {
     "data": {
      "text/html": [
       "<table>\n",
       "<caption>A tibble: 299 × 6</caption>\n",
       "<thead>\n",
       "\t<tr><th scope=col>age</th><th scope=col>sex</th><th scope=col>cp</th><th scope=col>trestbps</th><th scope=col>ca</th><th scope=col>num</th></tr>\n",
       "\t<tr><th scope=col>&lt;dbl&gt;</th><th scope=col>&lt;dbl&gt;</th><th scope=col>&lt;dbl&gt;</th><th scope=col>&lt;dbl&gt;</th><th scope=col>&lt;chr&gt;</th><th scope=col>&lt;dbl&gt;</th></tr>\n",
       "</thead>\n",
       "<tbody>\n",
       "\t<tr><td>63</td><td>1</td><td>1</td><td>145</td><td>0.0</td><td>0</td></tr>\n",
       "\t<tr><td>67</td><td>1</td><td>4</td><td>160</td><td>3.0</td><td>2</td></tr>\n",
       "\t<tr><td>67</td><td>1</td><td>4</td><td>120</td><td>2.0</td><td>1</td></tr>\n",
       "\t<tr><td>⋮</td><td>⋮</td><td>⋮</td><td>⋮</td><td>⋮</td><td>⋮</td></tr>\n",
       "\t<tr><td>68</td><td>1</td><td>4</td><td>144</td><td>2.0</td><td>2</td></tr>\n",
       "\t<tr><td>57</td><td>1</td><td>4</td><td>130</td><td>1.0</td><td>3</td></tr>\n",
       "\t<tr><td>57</td><td>0</td><td>2</td><td>130</td><td>1.0</td><td>1</td></tr>\n",
       "</tbody>\n",
       "</table>\n"
      ],
      "text/latex": [
       "A tibble: 299 × 6\n",
       "\\begin{tabular}{llllll}\n",
       " age & sex & cp & trestbps & ca & num\\\\\n",
       " <dbl> & <dbl> & <dbl> & <dbl> & <chr> & <dbl>\\\\\n",
       "\\hline\n",
       "\t 63 & 1 & 1 & 145 & 0.0 & 0\\\\\n",
       "\t 67 & 1 & 4 & 160 & 3.0 & 2\\\\\n",
       "\t 67 & 1 & 4 & 120 & 2.0 & 1\\\\\n",
       "\t ⋮ & ⋮ & ⋮ & ⋮ & ⋮ & ⋮\\\\\n",
       "\t 68 & 1 & 4 & 144 & 2.0 & 2\\\\\n",
       "\t 57 & 1 & 4 & 130 & 1.0 & 3\\\\\n",
       "\t 57 & 0 & 2 & 130 & 1.0 & 1\\\\\n",
       "\\end{tabular}\n"
      ],
      "text/markdown": [
       "\n",
       "A tibble: 299 × 6\n",
       "\n",
       "| age &lt;dbl&gt; | sex &lt;dbl&gt; | cp &lt;dbl&gt; | trestbps &lt;dbl&gt; | ca &lt;chr&gt; | num &lt;dbl&gt; |\n",
       "|---|---|---|---|---|---|\n",
       "| 63 | 1 | 1 | 145 | 0.0 | 0 |\n",
       "| 67 | 1 | 4 | 160 | 3.0 | 2 |\n",
       "| 67 | 1 | 4 | 120 | 2.0 | 1 |\n",
       "| ⋮ | ⋮ | ⋮ | ⋮ | ⋮ | ⋮ |\n",
       "| 68 | 1 | 4 | 144 | 2.0 | 2 |\n",
       "| 57 | 1 | 4 | 130 | 1.0 | 3 |\n",
       "| 57 | 0 | 2 | 130 | 1.0 | 1 |\n",
       "\n"
      ],
      "text/plain": [
       "    age sex cp trestbps ca  num\n",
       "1   63  1   1  145      0.0 0  \n",
       "2   67  1   4  160      3.0 2  \n",
       "3   67  1   4  120      2.0 1  \n",
       "⋮   ⋮   ⋮   ⋮  ⋮        ⋮   ⋮  \n",
       "297 68  1   4  144      2.0 2  \n",
       "298 57  1   4  130      1.0 3  \n",
       "299 57  0   2  130      1.0 1  "
      ]
     },
     "metadata": {},
     "output_type": "display_data"
    }
   ],
   "source": [
    "cleveland_df_sel_f <- filter(cleveland_df_sel, ca != \"?\") \n",
    "cleveland_df_sel_f\n"
   ]
  },
  {
   "cell_type": "code",
   "execution_count": 5,
   "metadata": {},
   "outputs": [
    {
     "data": {
      "text/html": [
       "202"
      ],
      "text/latex": [
       "202"
      ],
      "text/markdown": [
       "202"
      ],
      "text/plain": [
       "[1] 202"
      ]
     },
     "metadata": {},
     "output_type": "display_data"
    },
    {
     "data": {
      "text/html": [
       "97"
      ],
      "text/latex": [
       "97"
      ],
      "text/markdown": [
       "97"
      ],
      "text/plain": [
       "[1] 97"
      ]
     },
     "metadata": {},
     "output_type": "display_data"
    }
   ],
   "source": [
    "num_Patients_male <- filter(cleveland_df_sel_f, sex == 1) %>%  nrow()\n",
    "num_Patients_male\n",
    "num_Patients_famale <- filter(cleveland_df_sel_f, sex == 0) %>%  nrow()\n",
    "num_Patients_famale"
   ]
  },
  {
   "cell_type": "code",
   "execution_count": 6,
   "metadata": {},
   "outputs": [
    {
     "data": {
      "text/html": [
       "<table>\n",
       "<caption>A tibble: 1 × 1</caption>\n",
       "<thead>\n",
       "\t<tr><th scope=col>n_patients</th></tr>\n",
       "\t<tr><th scope=col>&lt;int&gt;</th></tr>\n",
       "</thead>\n",
       "<tbody>\n",
       "\t<tr><td>299</td></tr>\n",
       "</tbody>\n",
       "</table>\n"
      ],
      "text/latex": [
       "A tibble: 1 × 1\n",
       "\\begin{tabular}{l}\n",
       " n\\_patients\\\\\n",
       " <int>\\\\\n",
       "\\hline\n",
       "\t 299\\\\\n",
       "\\end{tabular}\n"
      ],
      "text/markdown": [
       "\n",
       "A tibble: 1 × 1\n",
       "\n",
       "| n_patients &lt;int&gt; |\n",
       "|---|\n",
       "| 299 |\n",
       "\n"
      ],
      "text/plain": [
       "  n_patients\n",
       "1 299       "
      ]
     },
     "metadata": {},
     "output_type": "display_data"
    }
   ],
   "source": [
    "#num_patience<-nrow(cleveland_df_sel)\n",
    "#num_patience\n",
    "\n",
    "num_Patients <- cleveland_df_sel_f %>% summarize(n_patients = n())\n",
    "num_Patients"
   ]
  },
  {
   "cell_type": "code",
   "execution_count": 7,
   "metadata": {},
   "outputs": [
    {
     "name": "stderr",
     "output_type": "stream",
     "text": [
      "`summarise()` ungrouping output (override with `.groups` argument)\n",
      "\n"
     ]
    },
    {
     "data": {
      "text/html": [
       "<table>\n",
       "<caption>A tibble: 2 × 2</caption>\n",
       "<thead>\n",
       "\t<tr><th scope=col>Sex</th><th scope=col>n</th></tr>\n",
       "\t<tr><th scope=col>&lt;chr&gt;</th><th scope=col>&lt;dbl&gt;</th></tr>\n",
       "</thead>\n",
       "<tbody>\n",
       "\t<tr><td>female</td><td> 97</td></tr>\n",
       "\t<tr><td>male  </td><td>202</td></tr>\n",
       "</tbody>\n",
       "</table>\n"
      ],
      "text/latex": [
       "A tibble: 2 × 2\n",
       "\\begin{tabular}{ll}\n",
       " Sex & n\\\\\n",
       " <chr> & <dbl>\\\\\n",
       "\\hline\n",
       "\t female &  97\\\\\n",
       "\t male   & 202\\\\\n",
       "\\end{tabular}\n"
      ],
      "text/markdown": [
       "\n",
       "A tibble: 2 × 2\n",
       "\n",
       "| Sex &lt;chr&gt; | n &lt;dbl&gt; |\n",
       "|---|---|\n",
       "| female |  97 |\n",
       "| male   | 202 |\n",
       "\n"
      ],
      "text/plain": [
       "  Sex    n  \n",
       "1 female  97\n",
       "2 male   202"
      ]
     },
     "metadata": {},
     "output_type": "display_data"
    }
   ],
   "source": [
    "n_each_gender <- cleveland_df_sel_f %>% group_by(sex) %>% summarize(n= n())\n",
    "\n",
    "n_each_gender <- pivot_wider(n_each_gender, names_from = sex, values_from = n)\n",
    "\n",
    "n_each_gender <- \n",
    "        rename(n_each_gender, \n",
    "              \"female\" = \"0\",\n",
    "              \"male\" = \"1\") %>% mutate(\"female\" = as.character(female), \"male\" = as.character(male))\n",
    "\n",
    "n_each_gender <- pivot_longer(n_each_gender, cols = female:male, names_to = \"Sex\", values_to = \"n\") %>% mutate(n = as.numeric(n))\n",
    "\n",
    "n_each_gender \n"
   ]
  },
  {
   "cell_type": "code",
   "execution_count": 8,
   "metadata": {},
   "outputs": [
    {
     "data": {
      "image/png": "[encoded data removed]",
      "text/plain": [
       "plot without title"
      ]
     },
     "metadata": {
      "image/png": {
       "height": 420,
       "width": 300
      }
     },
     "output_type": "display_data"
    }
   ],
   "source": [
    "options(repr.plot.width = 5, repr.plot.height = 7)\n",
    "\n",
    "sex_bar<- ggplot(n_each_gender, aes(x = Sex, y = n)) + \n",
    "    geom_bar(stat = \"identity\") +\n",
    "    xlab(\"Sex\") +\n",
    "    ylab(\"Number of Patients\")+\n",
    "    theme(text = element_text(size = 20))+ \n",
    "    ggtitle(\"Sex versus Number of Patients\")\n",
    "\n",
    "sex_bar"
   ]
  },
  {
   "cell_type": "code",
   "execution_count": 9,
   "metadata": {},
   "outputs": [
    {
     "name": "stderr",
     "output_type": "stream",
     "text": [
      "`summarise()` ungrouping output (override with `.groups` argument)\n",
      "\n"
     ]
    },
    {
     "data": {
      "text/html": [
       "<table>\n",
       "<caption>A tibble: 2 × 2</caption>\n",
       "<thead>\n",
       "\t<tr><th scope=col>sex</th><th scope=col>avg_age</th></tr>\n",
       "\t<tr><th scope=col>&lt;chr&gt;</th><th scope=col>&lt;dbl&gt;</th></tr>\n",
       "</thead>\n",
       "<tbody>\n",
       "\t<tr><td>female</td><td>55.72165</td></tr>\n",
       "\t<tr><td>male  </td><td>53.95545</td></tr>\n",
       "</tbody>\n",
       "</table>\n"
      ],
      "text/latex": [
       "A tibble: 2 × 2\n",
       "\\begin{tabular}{ll}\n",
       " sex & avg\\_age\\\\\n",
       " <chr> & <dbl>\\\\\n",
       "\\hline\n",
       "\t female & 55.72165\\\\\n",
       "\t male   & 53.95545\\\\\n",
       "\\end{tabular}\n"
      ],
      "text/markdown": [
       "\n",
       "A tibble: 2 × 2\n",
       "\n",
       "| sex &lt;chr&gt; | avg_age &lt;dbl&gt; |\n",
       "|---|---|\n",
       "| female | 55.72165 |\n",
       "| male   | 53.95545 |\n",
       "\n"
      ],
      "text/plain": [
       "  sex    avg_age \n",
       "1 female 55.72165\n",
       "2 male   53.95545"
      ]
     },
     "metadata": {},
     "output_type": "display_data"
    }
   ],
   "source": [
    "\n",
    "mean_age <- cleveland_df_sel_f %>% group_by(sex) %>% summarize(avg = mean(age))\n",
    "\n",
    "mean_age <- pivot_wider(mean_age, names_from = sex, values_from = avg)\n",
    "\n",
    "mean_age <- \n",
    "        rename(mean_age, \n",
    "              \"female\" = \"0\",\n",
    "              \"male\" = \"1\") %>% mutate(\"female\" = as.character(female), \"male\" = as.character(male))\n",
    "\n",
    "mean_age <- pivot_longer(mean_age, cols = female:male, names_to = \"sex\", values_to = \"avg_age\") %>% mutate(avg_age = as.numeric(avg_age))\n",
    "\n",
    "mean_age\n"
   ]
  },
  {
   "cell_type": "code",
   "execution_count": 10,
   "metadata": {},
   "outputs": [
    {
     "name": "stderr",
     "output_type": "stream",
     "text": [
      "`summarise()` ungrouping output (override with `.groups` argument)\n",
      "\n"
     ]
    },
    {
     "data": {
      "text/html": [
       "<table>\n",
       "<caption>A tibble: 4 × 2</caption>\n",
       "<thead>\n",
       "\t<tr><th scope=col>chest_pain</th><th scope=col>n</th></tr>\n",
       "\t<tr><th scope=col>&lt;chr&gt;</th><th scope=col>&lt;dbl&gt;</th></tr>\n",
       "</thead>\n",
       "<tbody>\n",
       "\t<tr><td>typical_angina  </td><td> 23</td></tr>\n",
       "\t<tr><td>atypical_angina </td><td> 49</td></tr>\n",
       "\t<tr><td>Non_anginal_pain</td><td> 84</td></tr>\n",
       "\t<tr><td>Asymptomatic    </td><td>143</td></tr>\n",
       "</tbody>\n",
       "</table>\n"
      ],
      "text/latex": [
       "A tibble: 4 × 2\n",
       "\\begin{tabular}{ll}\n",
       " chest\\_pain & n\\\\\n",
       " <chr> & <dbl>\\\\\n",
       "\\hline\n",
       "\t typical\\_angina   &  23\\\\\n",
       "\t atypical\\_angina  &  49\\\\\n",
       "\t Non\\_anginal\\_pain &  84\\\\\n",
       "\t Asymptomatic     & 143\\\\\n",
       "\\end{tabular}\n"
      ],
      "text/markdown": [
       "\n",
       "A tibble: 4 × 2\n",
       "\n",
       "| chest_pain &lt;chr&gt; | n &lt;dbl&gt; |\n",
       "|---|---|\n",
       "| typical_angina   |  23 |\n",
       "| atypical_angina  |  49 |\n",
       "| Non_anginal_pain |  84 |\n",
       "| Asymptomatic     | 143 |\n",
       "\n"
      ],
      "text/plain": [
       "  chest_pain       n  \n",
       "1 typical_angina    23\n",
       "2 atypical_angina   49\n",
       "3 Non_anginal_pain  84\n",
       "4 Asymptomatic     143"
      ]
     },
     "metadata": {},
     "output_type": "display_data"
    }
   ],
   "source": [
    "n_chest_pain <- cleveland_df_sel_f %>% group_by(cp) %>% summarize(n = n())\n",
    "\n",
    "n_chest_pain <- pivot_wider(n_chest_pain, names_from = cp, values_from = n)\n",
    "\n",
    "n_chest_pain <- \n",
    "        rename(n_chest_pain, \n",
    "              \"typical_angina\" = \"1\",\n",
    "              \"atypical_angina\" = \"2\", \"Non_anginal_pain\" = \"3\", \"Asymptomatic\" = \"4\") #%>% mutate(\"female\" = as.character(female), \"male\" = as.character(male))\n",
    "\n",
    "n_chest_pain <- pivot_longer(n_chest_pain, cols = typical_angina:Asymptomatic, names_to = \"chest_pain\", values_to = \"n\") %>% mutate(n = as.numeric(n))\n",
    "\n",
    "\n",
    "n_chest_pain\n"
   ]
  },
  {
   "cell_type": "code",
   "execution_count": 11,
   "metadata": {},
   "outputs": [
    {
     "data": {
      "text/html": [
       "<table>\n",
       "<caption>A tibble: 1 × 2</caption>\n",
       "<thead>\n",
       "\t<tr><th scope=col>age</th><th scope=col>trestbps</th></tr>\n",
       "\t<tr><th scope=col>&lt;dbl&gt;</th><th scope=col>&lt;dbl&gt;</th></tr>\n",
       "</thead>\n",
       "<tbody>\n",
       "\t<tr><td>35</td><td>138</td></tr>\n",
       "</tbody>\n",
       "</table>\n"
      ],
      "text/latex": [
       "A tibble: 1 × 2\n",
       "\\begin{tabular}{ll}\n",
       " age & trestbps\\\\\n",
       " <dbl> & <dbl>\\\\\n",
       "\\hline\n",
       "\t 35 & 138\\\\\n",
       "\\end{tabular}\n"
      ],
      "text/markdown": [
       "\n",
       "A tibble: 1 × 2\n",
       "\n",
       "| age &lt;dbl&gt; | trestbps &lt;dbl&gt; |\n",
       "|---|---|\n",
       "| 35 | 138 |\n",
       "\n"
      ],
      "text/plain": [
       "  age trestbps\n",
       "1 35  138     "
      ]
     },
     "metadata": {},
     "output_type": "display_data"
    },
    {
     "data": {
      "text/html": [
       "<table>\n",
       "<caption>A tibble: 1 × 2</caption>\n",
       "<thead>\n",
       "\t<tr><th scope=col>age</th><th scope=col>trestbps</th></tr>\n",
       "\t<tr><th scope=col>&lt;dbl&gt;</th><th scope=col>&lt;dbl&gt;</th></tr>\n",
       "</thead>\n",
       "<tbody>\n",
       "\t<tr><td>34</td><td>118</td></tr>\n",
       "</tbody>\n",
       "</table>\n"
      ],
      "text/latex": [
       "A tibble: 1 × 2\n",
       "\\begin{tabular}{ll}\n",
       " age & trestbps\\\\\n",
       " <dbl> & <dbl>\\\\\n",
       "\\hline\n",
       "\t 34 & 118\\\\\n",
       "\\end{tabular}\n"
      ],
      "text/markdown": [
       "\n",
       "A tibble: 1 × 2\n",
       "\n",
       "| age &lt;dbl&gt; | trestbps &lt;dbl&gt; |\n",
       "|---|---|\n",
       "| 34 | 118 |\n",
       "\n"
      ],
      "text/plain": [
       "  age trestbps\n",
       "1 34  118     "
      ]
     },
     "metadata": {},
     "output_type": "display_data"
    },
    {
     "data": {
      "text/html": [
       "<table>\n",
       "<caption>A tibble: 1 × 2</caption>\n",
       "<thead>\n",
       "\t<tr><th scope=col>age</th><th scope=col>trestbps</th></tr>\n",
       "\t<tr><th scope=col>&lt;dbl&gt;</th><th scope=col>&lt;dbl&gt;</th></tr>\n",
       "</thead>\n",
       "<tbody>\n",
       "\t<tr><td>54</td><td>192</td></tr>\n",
       "</tbody>\n",
       "</table>\n"
      ],
      "text/latex": [
       "A tibble: 1 × 2\n",
       "\\begin{tabular}{ll}\n",
       " age & trestbps\\\\\n",
       " <dbl> & <dbl>\\\\\n",
       "\\hline\n",
       "\t 54 & 192\\\\\n",
       "\\end{tabular}\n"
      ],
      "text/markdown": [
       "\n",
       "A tibble: 1 × 2\n",
       "\n",
       "| age &lt;dbl&gt; | trestbps &lt;dbl&gt; |\n",
       "|---|---|\n",
       "| 54 | 192 |\n",
       "\n"
      ],
      "text/plain": [
       "  age trestbps\n",
       "1 54  192     "
      ]
     },
     "metadata": {},
     "output_type": "display_data"
    },
    {
     "data": {
      "text/html": [
       "<table>\n",
       "<caption>A tibble: 1 × 2</caption>\n",
       "<thead>\n",
       "\t<tr><th scope=col>age</th><th scope=col>trestbps</th></tr>\n",
       "\t<tr><th scope=col>&lt;dbl&gt;</th><th scope=col>&lt;dbl&gt;</th></tr>\n",
       "</thead>\n",
       "<tbody>\n",
       "\t<tr><td>39</td><td>94</td></tr>\n",
       "</tbody>\n",
       "</table>\n"
      ],
      "text/latex": [
       "A tibble: 1 × 2\n",
       "\\begin{tabular}{ll}\n",
       " age & trestbps\\\\\n",
       " <dbl> & <dbl>\\\\\n",
       "\\hline\n",
       "\t 39 & 94\\\\\n",
       "\\end{tabular}\n"
      ],
      "text/markdown": [
       "\n",
       "A tibble: 1 × 2\n",
       "\n",
       "| age &lt;dbl&gt; | trestbps &lt;dbl&gt; |\n",
       "|---|---|\n",
       "| 39 | 94 |\n",
       "\n"
      ],
      "text/plain": [
       "  age trestbps\n",
       "1 39  94      "
      ]
     },
     "metadata": {},
     "output_type": "display_data"
    },
    {
     "data": {
      "text/html": [
       "<table>\n",
       "<caption>A tibble: 1 × 2</caption>\n",
       "<thead>\n",
       "\t<tr><th scope=col>age</th><th scope=col>trestbps</th></tr>\n",
       "\t<tr><th scope=col>&lt;dbl&gt;</th><th scope=col>&lt;dbl&gt;</th></tr>\n",
       "</thead>\n",
       "<tbody>\n",
       "\t<tr><td>56</td><td>200</td></tr>\n",
       "</tbody>\n",
       "</table>\n"
      ],
      "text/latex": [
       "A tibble: 1 × 2\n",
       "\\begin{tabular}{ll}\n",
       " age & trestbps\\\\\n",
       " <dbl> & <dbl>\\\\\n",
       "\\hline\n",
       "\t 56 & 200\\\\\n",
       "\\end{tabular}\n"
      ],
      "text/markdown": [
       "\n",
       "A tibble: 1 × 2\n",
       "\n",
       "| age &lt;dbl&gt; | trestbps &lt;dbl&gt; |\n",
       "|---|---|\n",
       "| 56 | 200 |\n",
       "\n"
      ],
      "text/plain": [
       "  age trestbps\n",
       "1 56  200     "
      ]
     },
     "metadata": {},
     "output_type": "display_data"
    },
    {
     "data": {
      "text/html": [
       "<table>\n",
       "<caption>A tibble: 1 × 2</caption>\n",
       "<thead>\n",
       "\t<tr><th scope=col>age</th><th scope=col>trestbps</th></tr>\n",
       "\t<tr><th scope=col>&lt;dbl&gt;</th><th scope=col>&lt;dbl&gt;</th></tr>\n",
       "</thead>\n",
       "<tbody>\n",
       "\t<tr><td>58</td><td>100</td></tr>\n",
       "</tbody>\n",
       "</table>\n"
      ],
      "text/latex": [
       "A tibble: 1 × 2\n",
       "\\begin{tabular}{ll}\n",
       " age & trestbps\\\\\n",
       " <dbl> & <dbl>\\\\\n",
       "\\hline\n",
       "\t 58 & 100\\\\\n",
       "\\end{tabular}\n"
      ],
      "text/markdown": [
       "\n",
       "A tibble: 1 × 2\n",
       "\n",
       "| age &lt;dbl&gt; | trestbps &lt;dbl&gt; |\n",
       "|---|---|\n",
       "| 58 | 100 |\n",
       "\n"
      ],
      "text/plain": [
       "  age trestbps\n",
       "1 58  100     "
      ]
     },
     "metadata": {},
     "output_type": "display_data"
    }
   ],
   "source": [
    "young_adult_bps <- cleveland_df_sel_f %>%\n",
    "select(age,trestbps) %>%\n",
    "filter(between(age,18, 35))\n",
    "\n",
    "middle_adult_bps <- cleveland_df_sel_f %>%\n",
    "select(age,trestbps) %>%\n",
    "filter(between(age,36, 55))\n",
    "\n",
    "old_adult_bps <- cleveland_df_sel_f %>%\n",
    "select(age, trestbps) %>%\n",
    "filter(between(age,55,77))\n",
    "\n",
    "max_young_trestbps <- young_adult_bps %>% \n",
    "    arrange(desc(trestbps))%>% \n",
    "    head(n=1)\n",
    "\n",
    "min_young_trestbps <- young_adult_bps %>% \n",
    "    arrange(desc(trestbps)) %>%\n",
    "    tail(n=1)\n",
    "\n",
    "max_middle_trestbps <- middle_adult_bps %>% \n",
    "    arrange(desc(trestbps)) %>%\n",
    "    head(n=1)\n",
    "\n",
    "min_middle_trestbps <- middle_adult_bps %>% \n",
    "    arrange(desc(trestbps)) %>%\n",
    "    tail(n=1)\n",
    "\n",
    "max_old_trestbps <- old_adult_bps %>% \n",
    "    arrange(desc(trestbps)) %>%\n",
    "    head(n=1)\n",
    "\n",
    "min_old_trestbps <- old_adult_bps %>% \n",
    "    arrange(desc(trestbps)) %>%\n",
    "    tail(n=1)\n",
    "\n",
    "\n",
    "max_young_trestbps\n",
    "min_young_trestbps\n",
    "\n",
    "max_middle_trestbps\n",
    "min_middle_trestbps\n",
    "\n",
    "max_old_trestbps\n",
    "min_old_trestbps\n"
   ]
  },
  {
   "cell_type": "code",
   "execution_count": 12,
   "metadata": {},
   "outputs": [
    {
     "name": "stderr",
     "output_type": "stream",
     "text": [
      "`summarise()` ungrouping output (override with `.groups` argument)\n",
      "\n"
     ]
    },
    {
     "data": {
      "text/html": [
       "<table>\n",
       "<caption>A tibble: 4 × 2</caption>\n",
       "<thead>\n",
       "\t<tr><th scope=col>ca</th><th scope=col>avg_rbp</th></tr>\n",
       "\t<tr><th scope=col>&lt;chr&gt;</th><th scope=col>&lt;dbl&gt;</th></tr>\n",
       "</thead>\n",
       "<tbody>\n",
       "\t<tr><td>0.0</td><td>130.9545</td></tr>\n",
       "\t<tr><td>1.0</td><td>129.6308</td></tr>\n",
       "\t<tr><td>2.0</td><td>135.7105</td></tr>\n",
       "\t<tr><td>3.0</td><td>136.9000</td></tr>\n",
       "</tbody>\n",
       "</table>\n"
      ],
      "text/latex": [
       "A tibble: 4 × 2\n",
       "\\begin{tabular}{ll}\n",
       " ca & avg\\_rbp\\\\\n",
       " <chr> & <dbl>\\\\\n",
       "\\hline\n",
       "\t 0.0 & 130.9545\\\\\n",
       "\t 1.0 & 129.6308\\\\\n",
       "\t 2.0 & 135.7105\\\\\n",
       "\t 3.0 & 136.9000\\\\\n",
       "\\end{tabular}\n"
      ],
      "text/markdown": [
       "\n",
       "A tibble: 4 × 2\n",
       "\n",
       "| ca &lt;chr&gt; | avg_rbp &lt;dbl&gt; |\n",
       "|---|---|\n",
       "| 0.0 | 130.9545 |\n",
       "| 1.0 | 129.6308 |\n",
       "| 2.0 | 135.7105 |\n",
       "| 3.0 | 136.9000 |\n",
       "\n"
      ],
      "text/plain": [
       "  ca  avg_rbp \n",
       "1 0.0 130.9545\n",
       "2 1.0 129.6308\n",
       "3 2.0 135.7105\n",
       "4 3.0 136.9000"
      ]
     },
     "metadata": {},
     "output_type": "display_data"
    }
   ],
   "source": [
    "mean_rbp <- cleveland_df_sel_f %>% group_by(ca) %>% summarize(avg_rbp = mean(trestbps))\n",
    "mean_rbp"
   ]
  },
  {
   "cell_type": "code",
   "execution_count": 13,
   "metadata": {},
   "outputs": [
    {
     "data": {
      "image/png": "[encoded data removed]",
      "text/plain": [
       "plot without title"
      ]
     },
     "metadata": {
      "image/png": {
       "height": 420,
       "width": 720
      }
     },
     "output_type": "display_data"
    }
   ],
   "source": [
    "options(repr.plot.width = 12, repr.plot.height = 7)\n",
    "\n",
    "age_vs_rbps_plot <- ggplot(cleveland_df_sel_f, aes(x = age, y = trestbps, color = as_factor(num))) +\n",
    "                    geom_point(alpha = 0.5) +\n",
    "                    labs(x = \"Age (years)\", y = \"Resting blood pressure (mmHg)\", color = \"Diagnosis of Heart Disease\") +\n",
    "                    theme(text = element_text(size = 20)) + \n",
    "                    ggtitle(\"Age versus Resting blood pressure\") +\n",
    "                    scale_color_manual(labels = c(\"0\", \"1\",\"2\",\"3\",\"4\"), values = c(\"red\",\"blue\",\"yellow\",\"green\",\"black\"))\n",
    "age_vs_rbps_plot"
   ]
  },
  {
   "cell_type": "markdown",
   "metadata": {},
   "source": [
    "## Methods:\n",
    "We plan to find the relation between these five variables we chose with the possibility of getting heart disease. We will discover which variable has the most influence on heart disease. \n",
    "* We are going to pick five variables total, of which are (1)age, (2)sex, (3)resting blood pressure, (4)chest pain type, and (5)the number of major blood vessels colored by fluoroscopy. We select the number level of heart disease presence as our target variable, which means we are going to compare each of our five variables with the num.\n",
    "\n",
    "* In our project, we will use bar plot for the variable sex, as this is a categorical variable and we want to make comparison. Then we choose scatter plots for the rest of our variables because they are all quantitative variables and we  would like to find the relationships between them.\n",
    "\n"
   ]
  },
  {
   "cell_type": "markdown",
   "metadata": {},
   "source": [
    "## Expected outcomes and significance\n",
    "Increasing age and the risk of contracting a heart disease has been consistently shown to be positively correlated (Roth et al. 2985) and the average lifestyle men lead typically incorporates more high risk factors for heart disease, such as smoking compared to women. (Dai et al. 6) As such, older men are more likely to contract cardiovascular diseases, and we would expect to see this reflected in our results. \n",
    "\n",
    "* Through this project, we hope to create a classification model that can contribute to the ongoing effort to help healthcare workers efficiently target individuals at risk of developing heart disease or quickly identify the severity of the disease for patients.  \n",
    "\n",
    "* It is noteworthy that the dataset that we used to train our model was formed from data collected over a time period of May 1981 to 1984. (Detrano et al. 305) Therefore, there is a possibility that there has been changes in the \n",
    "\n",
    "* The data that we collected is in 20 century. If we can find new data in the 21 century, what is the difference between the two data? Which variable will have a huge difference. Whether they will be a new variable, have a more significant impact on heart disease.\n"
   ]
  },
  {
   "cell_type": "markdown",
   "metadata": {},
   "source": [
    "## Bibliography \n",
    "\n",
    "Bowry, Ashna D. K., et al. ‘The Burden of Cardiovascular Disease in Low- and Middle-Income Countries: Epidemiology and Management’. Canadian Journal of Cardiology, vol. 31, no. 9, Sept. 2015, pp. 1151–59. DOI.org (Crossref), https://doi.org/10.1016/j.cjca.2015.06.028.\n",
    "\n",
    "Dai, Haijiang, et al. ‘Regional and Socioeconomic Disparities in Cardiovascular Disease in Canada during 2005–2016: Evidence from Repeated Nationwide Cross-Sectional Surveys’. BMJ Global Health, vol. 6, no. 11, Nov. 2021, p. e006809. DOI.org (Crossref), https://doi.org/10.1136/bmjgh-2021-006809.\n",
    "\n",
    "Detrano, Robert, et al. ‘International Application of a New Probability Algorithm for the Diagnosis of Coronary Artery Disease’. The American Journal of Cardiology, vol. 64, no. 5, Aug. 1989, pp. 304–10. ScienceDirect, https://doi.org/10.1016/0002-9149(89)90524-9.\n",
    "\n",
    "UCI Machine Learning Repository: Heart Disease Data Set. https://archive.ics.uci.edu/ml/datasets/Heart+Disease. Accessed 3 Mar. 2022.\n",
    "\n",
    "Roth, Gregory A., et al. ‘Global Burden of Cardiovascular Diseases and Risk Factors, 1990–2019’. Journal of the American College of Cardiology, vol. 76, no. 25, Dec. 2020, pp. 2982–3021. DOI.org (Crossref), https://doi.org/10.1016/j.jacc.2020.11.010.\n"
   ]
  },
  {
   "cell_type": "code",
   "execution_count": null,
   "metadata": {},
   "outputs": [],
   "source": []
  }
 ],
 "metadata": {
  "kernelspec": {
   "display_name": "R",
   "language": "R",
   "name": "ir"
  },
  "language_info": {
   "codemirror_mode": "r",
   "file_extension": ".r",
   "mimetype": "text/x-r-source",
   "name": "R",
   "pygments_lexer": "r",
   "version": "4.0.0"
  }
 },
 "nbformat": 4,
 "nbformat_minor": 4
}
